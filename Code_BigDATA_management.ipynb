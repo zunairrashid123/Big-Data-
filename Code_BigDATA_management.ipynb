{
  "cells": [
    {
      "cell_type": "code",
      "source": [
        "from google.colab import files\n",
        "uploaded = files.upload()\n",
        "\n",
        "\n",
        "import sys, os\n",
        "\n",
        "sys.path\n",
        "sys.executable\n",
        "\n",
        "\n"
      ],
      "metadata": {
        "colab": {
          "base_uri": "https://localhost:8080/",
          "height": 126
        },
        "id": "SYhSz1VNfqaR",
        "outputId": "d31144f2-7b18-454d-95e4-f5380327299b"
      },
      "execution_count": 1,
      "outputs": [
        {
          "output_type": "display_data",
          "data": {
            "text/plain": [
              "<IPython.core.display.HTML object>"
            ],
            "text/html": [
              "\n",
              "     <input type=\"file\" id=\"files-ad14d58b-f495-487c-b67b-228781d9770b\" name=\"files[]\" multiple disabled\n",
              "        style=\"border:none\" />\n",
              "     <output id=\"result-ad14d58b-f495-487c-b67b-228781d9770b\">\n",
              "      Upload widget is only available when the cell has been executed in the\n",
              "      current browser session. Please rerun this cell to enable.\n",
              "      </output>\n",
              "      <script>// Copyright 2017 Google LLC\n",
              "//\n",
              "// Licensed under the Apache License, Version 2.0 (the \"License\");\n",
              "// you may not use this file except in compliance with the License.\n",
              "// You may obtain a copy of the License at\n",
              "//\n",
              "//      http://www.apache.org/licenses/LICENSE-2.0\n",
              "//\n",
              "// Unless required by applicable law or agreed to in writing, software\n",
              "// distributed under the License is distributed on an \"AS IS\" BASIS,\n",
              "// WITHOUT WARRANTIES OR CONDITIONS OF ANY KIND, either express or implied.\n",
              "// See the License for the specific language governing permissions and\n",
              "// limitations under the License.\n",
              "\n",
              "/**\n",
              " * @fileoverview Helpers for google.colab Python module.\n",
              " */\n",
              "(function(scope) {\n",
              "function span(text, styleAttributes = {}) {\n",
              "  const element = document.createElement('span');\n",
              "  element.textContent = text;\n",
              "  for (const key of Object.keys(styleAttributes)) {\n",
              "    element.style[key] = styleAttributes[key];\n",
              "  }\n",
              "  return element;\n",
              "}\n",
              "\n",
              "// Max number of bytes which will be uploaded at a time.\n",
              "const MAX_PAYLOAD_SIZE = 100 * 1024;\n",
              "\n",
              "function _uploadFiles(inputId, outputId) {\n",
              "  const steps = uploadFilesStep(inputId, outputId);\n",
              "  const outputElement = document.getElementById(outputId);\n",
              "  // Cache steps on the outputElement to make it available for the next call\n",
              "  // to uploadFilesContinue from Python.\n",
              "  outputElement.steps = steps;\n",
              "\n",
              "  return _uploadFilesContinue(outputId);\n",
              "}\n",
              "\n",
              "// This is roughly an async generator (not supported in the browser yet),\n",
              "// where there are multiple asynchronous steps and the Python side is going\n",
              "// to poll for completion of each step.\n",
              "// This uses a Promise to block the python side on completion of each step,\n",
              "// then passes the result of the previous step as the input to the next step.\n",
              "function _uploadFilesContinue(outputId) {\n",
              "  const outputElement = document.getElementById(outputId);\n",
              "  const steps = outputElement.steps;\n",
              "\n",
              "  const next = steps.next(outputElement.lastPromiseValue);\n",
              "  return Promise.resolve(next.value.promise).then((value) => {\n",
              "    // Cache the last promise value to make it available to the next\n",
              "    // step of the generator.\n",
              "    outputElement.lastPromiseValue = value;\n",
              "    return next.value.response;\n",
              "  });\n",
              "}\n",
              "\n",
              "/**\n",
              " * Generator function which is called between each async step of the upload\n",
              " * process.\n",
              " * @param {string} inputId Element ID of the input file picker element.\n",
              " * @param {string} outputId Element ID of the output display.\n",
              " * @return {!Iterable<!Object>} Iterable of next steps.\n",
              " */\n",
              "function* uploadFilesStep(inputId, outputId) {\n",
              "  const inputElement = document.getElementById(inputId);\n",
              "  inputElement.disabled = false;\n",
              "\n",
              "  const outputElement = document.getElementById(outputId);\n",
              "  outputElement.innerHTML = '';\n",
              "\n",
              "  const pickedPromise = new Promise((resolve) => {\n",
              "    inputElement.addEventListener('change', (e) => {\n",
              "      resolve(e.target.files);\n",
              "    });\n",
              "  });\n",
              "\n",
              "  const cancel = document.createElement('button');\n",
              "  inputElement.parentElement.appendChild(cancel);\n",
              "  cancel.textContent = 'Cancel upload';\n",
              "  const cancelPromise = new Promise((resolve) => {\n",
              "    cancel.onclick = () => {\n",
              "      resolve(null);\n",
              "    };\n",
              "  });\n",
              "\n",
              "  // Wait for the user to pick the files.\n",
              "  const files = yield {\n",
              "    promise: Promise.race([pickedPromise, cancelPromise]),\n",
              "    response: {\n",
              "      action: 'starting',\n",
              "    }\n",
              "  };\n",
              "\n",
              "  cancel.remove();\n",
              "\n",
              "  // Disable the input element since further picks are not allowed.\n",
              "  inputElement.disabled = true;\n",
              "\n",
              "  if (!files) {\n",
              "    return {\n",
              "      response: {\n",
              "        action: 'complete',\n",
              "      }\n",
              "    };\n",
              "  }\n",
              "\n",
              "  for (const file of files) {\n",
              "    const li = document.createElement('li');\n",
              "    li.append(span(file.name, {fontWeight: 'bold'}));\n",
              "    li.append(span(\n",
              "        `(${file.type || 'n/a'}) - ${file.size} bytes, ` +\n",
              "        `last modified: ${\n",
              "            file.lastModifiedDate ? file.lastModifiedDate.toLocaleDateString() :\n",
              "                                    'n/a'} - `));\n",
              "    const percent = span('0% done');\n",
              "    li.appendChild(percent);\n",
              "\n",
              "    outputElement.appendChild(li);\n",
              "\n",
              "    const fileDataPromise = new Promise((resolve) => {\n",
              "      const reader = new FileReader();\n",
              "      reader.onload = (e) => {\n",
              "        resolve(e.target.result);\n",
              "      };\n",
              "      reader.readAsArrayBuffer(file);\n",
              "    });\n",
              "    // Wait for the data to be ready.\n",
              "    let fileData = yield {\n",
              "      promise: fileDataPromise,\n",
              "      response: {\n",
              "        action: 'continue',\n",
              "      }\n",
              "    };\n",
              "\n",
              "    // Use a chunked sending to avoid message size limits. See b/62115660.\n",
              "    let position = 0;\n",
              "    do {\n",
              "      const length = Math.min(fileData.byteLength - position, MAX_PAYLOAD_SIZE);\n",
              "      const chunk = new Uint8Array(fileData, position, length);\n",
              "      position += length;\n",
              "\n",
              "      const base64 = btoa(String.fromCharCode.apply(null, chunk));\n",
              "      yield {\n",
              "        response: {\n",
              "          action: 'append',\n",
              "          file: file.name,\n",
              "          data: base64,\n",
              "        },\n",
              "      };\n",
              "\n",
              "      let percentDone = fileData.byteLength === 0 ?\n",
              "          100 :\n",
              "          Math.round((position / fileData.byteLength) * 100);\n",
              "      percent.textContent = `${percentDone}% done`;\n",
              "\n",
              "    } while (position < fileData.byteLength);\n",
              "  }\n",
              "\n",
              "  // All done.\n",
              "  yield {\n",
              "    response: {\n",
              "      action: 'complete',\n",
              "    }\n",
              "  };\n",
              "}\n",
              "\n",
              "scope.google = scope.google || {};\n",
              "scope.google.colab = scope.google.colab || {};\n",
              "scope.google.colab._files = {\n",
              "  _uploadFiles,\n",
              "  _uploadFilesContinue,\n",
              "};\n",
              "})(self);\n",
              "</script> "
            ]
          },
          "metadata": {}
        },
        {
          "output_type": "stream",
          "name": "stdout",
          "text": [
            "Saving chat-data.zip to chat-data.zip\n",
            "Saving combined-data.zip to combined-data.zip\n"
          ]
        },
        {
          "output_type": "execute_result",
          "data": {
            "text/plain": [
              "'/usr/bin/python3'"
            ],
            "application/vnd.google.colaboratory.intrinsic+json": {
              "type": "string"
            }
          },
          "metadata": {},
          "execution_count": 1
        }
      ]
    },
    {
      "cell_type": "code",
      "source": [
        "!apt-get install openjdk-8-jdk-headless"
      ],
      "metadata": {
        "colab": {
          "base_uri": "https://localhost:8080/"
        },
        "id": "zv277mPu1iCc",
        "outputId": "7f066e79-4f8c-4b36-a384-cf7de50d305e"
      },
      "execution_count": 2,
      "outputs": [
        {
          "output_type": "stream",
          "name": "stdout",
          "text": [
            "Reading package lists... Done\n",
            "Building dependency tree       \n",
            "Reading state information... Done\n",
            "The following additional packages will be installed:\n",
            "  libxtst6 openjdk-8-jre-headless\n",
            "Suggested packages:\n",
            "  openjdk-8-demo openjdk-8-source libnss-mdns fonts-dejavu-extra\n",
            "  fonts-ipafont-gothic fonts-ipafont-mincho fonts-wqy-microhei\n",
            "  fonts-wqy-zenhei fonts-indic\n",
            "The following NEW packages will be installed:\n",
            "  libxtst6 openjdk-8-jdk-headless openjdk-8-jre-headless\n",
            "0 upgraded, 3 newly installed, 0 to remove and 24 not upgraded.\n",
            "Need to get 36.5 MB of archives.\n",
            "After this operation, 144 MB of additional disk space will be used.\n",
            "Get:1 http://archive.ubuntu.com/ubuntu focal/main amd64 libxtst6 amd64 2:1.2.3-1 [12.8 kB]\n",
            "Get:2 http://archive.ubuntu.com/ubuntu focal-updates/universe amd64 openjdk-8-jre-headless amd64 8u372-ga~us1-0ubuntu1~20.04 [28.3 MB]\n",
            "Get:3 http://archive.ubuntu.com/ubuntu focal-updates/universe amd64 openjdk-8-jdk-headless amd64 8u372-ga~us1-0ubuntu1~20.04 [8,282 kB]\n",
            "Fetched 36.5 MB in 2min 6s (290 kB/s)\n",
            "Selecting previously unselected package libxtst6:amd64.\n",
            "(Reading database ... 122531 files and directories currently installed.)\n",
            "Preparing to unpack .../libxtst6_2%3a1.2.3-1_amd64.deb ...\n",
            "Unpacking libxtst6:amd64 (2:1.2.3-1) ...\n",
            "Selecting previously unselected package openjdk-8-jre-headless:amd64.\n",
            "Preparing to unpack .../openjdk-8-jre-headless_8u372-ga~us1-0ubuntu1~20.04_amd64.deb ...\n",
            "Unpacking openjdk-8-jre-headless:amd64 (8u372-ga~us1-0ubuntu1~20.04) ...\n",
            "Selecting previously unselected package openjdk-8-jdk-headless:amd64.\n",
            "Preparing to unpack .../openjdk-8-jdk-headless_8u372-ga~us1-0ubuntu1~20.04_amd64.deb ...\n",
            "Unpacking openjdk-8-jdk-headless:amd64 (8u372-ga~us1-0ubuntu1~20.04) ...\n",
            "Setting up libxtst6:amd64 (2:1.2.3-1) ...\n",
            "Setting up openjdk-8-jre-headless:amd64 (8u372-ga~us1-0ubuntu1~20.04) ...\n",
            "update-alternatives: using /usr/lib/jvm/java-8-openjdk-amd64/jre/bin/orbd to provide /usr/bin/orbd (orbd) in auto mode\n",
            "update-alternatives: using /usr/lib/jvm/java-8-openjdk-amd64/jre/bin/servertool to provide /usr/bin/servertool (servertool) in auto mode\n",
            "update-alternatives: using /usr/lib/jvm/java-8-openjdk-amd64/jre/bin/tnameserv to provide /usr/bin/tnameserv (tnameserv) in auto mode\n",
            "Setting up openjdk-8-jdk-headless:amd64 (8u372-ga~us1-0ubuntu1~20.04) ...\n",
            "update-alternatives: using /usr/lib/jvm/java-8-openjdk-amd64/bin/idlj to provide /usr/bin/idlj (idlj) in auto mode\n",
            "update-alternatives: using /usr/lib/jvm/java-8-openjdk-amd64/bin/wsimport to provide /usr/bin/wsimport (wsimport) in auto mode\n",
            "update-alternatives: using /usr/lib/jvm/java-8-openjdk-amd64/bin/jsadebugd to provide /usr/bin/jsadebugd (jsadebugd) in auto mode\n",
            "update-alternatives: using /usr/lib/jvm/java-8-openjdk-amd64/bin/native2ascii to provide /usr/bin/native2ascii (native2ascii) in auto mode\n",
            "update-alternatives: using /usr/lib/jvm/java-8-openjdk-amd64/bin/javah to provide /usr/bin/javah (javah) in auto mode\n",
            "update-alternatives: using /usr/lib/jvm/java-8-openjdk-amd64/bin/clhsdb to provide /usr/bin/clhsdb (clhsdb) in auto mode\n",
            "update-alternatives: using /usr/lib/jvm/java-8-openjdk-amd64/bin/jhat to provide /usr/bin/jhat (jhat) in auto mode\n",
            "update-alternatives: using /usr/lib/jvm/java-8-openjdk-amd64/bin/extcheck to provide /usr/bin/extcheck (extcheck) in auto mode\n",
            "update-alternatives: using /usr/lib/jvm/java-8-openjdk-amd64/bin/hsdb to provide /usr/bin/hsdb (hsdb) in auto mode\n",
            "update-alternatives: using /usr/lib/jvm/java-8-openjdk-amd64/bin/schemagen to provide /usr/bin/schemagen (schemagen) in auto mode\n",
            "update-alternatives: using /usr/lib/jvm/java-8-openjdk-amd64/bin/xjc to provide /usr/bin/xjc (xjc) in auto mode\n",
            "update-alternatives: using /usr/lib/jvm/java-8-openjdk-amd64/bin/wsgen to provide /usr/bin/wsgen (wsgen) in auto mode\n",
            "Processing triggers for libc-bin (2.31-0ubuntu9.9) ...\n"
          ]
        }
      ]
    },
    {
      "cell_type": "code",
      "source": [
        "!wget https://archive.apache.org/dist/spark/spark-3.2.1/spark-3.2.1-bin-hadoop2.7.tgz"
      ],
      "metadata": {
        "colab": {
          "base_uri": "https://localhost:8080/"
        },
        "id": "ujpFFHe51zkG",
        "outputId": "2c133a89-a52f-43f3-ac38-085611ba9fe9"
      },
      "execution_count": 3,
      "outputs": [
        {
          "output_type": "stream",
          "name": "stdout",
          "text": [
            "--2023-05-23 12:53:30--  https://archive.apache.org/dist/spark/spark-3.2.1/spark-3.2.1-bin-hadoop2.7.tgz\n",
            "Resolving archive.apache.org (archive.apache.org)... 65.108.204.189, 2a01:4f9:1a:a084::2\n",
            "Connecting to archive.apache.org (archive.apache.org)|65.108.204.189|:443... connected.\n",
            "HTTP request sent, awaiting response... 200 OK\n",
            "Length: 272637746 (260M) [application/x-gzip]\n",
            "Saving to: ‘spark-3.2.1-bin-hadoop2.7.tgz’\n",
            "\n",
            "spark-3.2.1-bin-had 100%[===================>] 260.01M  15.7MB/s    in 22s     \n",
            "\n",
            "2023-05-23 12:53:53 (11.8 MB/s) - ‘spark-3.2.1-bin-hadoop2.7.tgz’ saved [272637746/272637746]\n",
            "\n"
          ]
        }
      ]
    },
    {
      "cell_type": "code",
      "source": [
        "!tar xf spark-3.2.1-bin-hadoop2.7.tgz\n"
      ],
      "metadata": {
        "id": "K2nGxaXU14nn"
      },
      "execution_count": 4,
      "outputs": []
    },
    {
      "cell_type": "code",
      "source": [
        "!pip install -q findspark\n"
      ],
      "metadata": {
        "id": "m2_8qPrn19IP"
      },
      "execution_count": 5,
      "outputs": []
    },
    {
      "cell_type": "code",
      "source": [
        "import os\n",
        "os.environ[\"JAVA_HOME\"] = \"/usr/lib/jvm/java-8-openjdk-amd64\"\n",
        "os.environ[\"SPARK_HOME\"] = \"/content/spark-3.2.1-bin-hadoop2.7\"\n"
      ],
      "metadata": {
        "id": "aFPulQmQ2DSL"
      },
      "execution_count": 6,
      "outputs": []
    },
    {
      "cell_type": "code",
      "source": [
        "import findspark\n",
        "findspark.init()\n",
        "findspark.find()"
      ],
      "metadata": {
        "colab": {
          "base_uri": "https://localhost:8080/",
          "height": 35
        },
        "id": "Jo7ROOIU2JJB",
        "outputId": "a3f78c08-204b-4fe4-94fd-d38d3ca316e2"
      },
      "execution_count": 7,
      "outputs": [
        {
          "output_type": "execute_result",
          "data": {
            "text/plain": [
              "'/content/spark-3.2.1-bin-hadoop2.7'"
            ],
            "application/vnd.google.colaboratory.intrinsic+json": {
              "type": "string"
            }
          },
          "metadata": {},
          "execution_count": 7
        }
      ]
    },
    {
      "cell_type": "code",
      "source": [
        "from pyspark.sql import SparkSession\n",
        "\n",
        "spark = SparkSession.builder\\\n",
        "        .master(\"local\")\\\n",
        "        .appName(\"DataCleaningApp\")\\\n",
        "        .config('spark.ui.port', '4050')\\\n",
        "        .getOrCreate()"
      ],
      "metadata": {
        "id": "8UpxFjtY2OFR"
      },
      "execution_count": 8,
      "outputs": []
    },
    {
      "cell_type": "code",
      "execution_count": 11,
      "metadata": {
        "colab": {
          "base_uri": "https://localhost:8080/"
        },
        "id": "3Z53zyZVrgw2",
        "outputId": "e402a676-b174-4891-8cde-a0506e93375c"
      },
      "outputs": [
        {
          "output_type": "stream",
          "name": "stdout",
          "text": [
            "Archive:  /content/chat-data.zip\n",
            "  inflating: chat_create_team_chat.csv  \n",
            "  inflating: chat_item_team_chat.csv  \n",
            "  inflating: chat_join_team_chat.csv  \n",
            "  inflating: chat_leave_team_chat.csv  \n",
            "  inflating: chat_mention_team_chat.csv  \n",
            "  inflating: chat_respond_team_chat.csv  \n",
            "Archive:  /content/combined-data.zip\n",
            "  inflating: combined-data.csv       \n"
          ]
        }
      ],
      "source": [
        "# THE DATASET FILES\n",
        "\n",
        "\n",
        "!unzip \"/content/chat-data.zip\"\n",
        "!unzip \"/content/combined-data.zip\"\n",
        "\n"
      ]
    },
    {
      "cell_type": "markdown",
      "source": [
        "# **Exploratory Data Analysis**"
      ],
      "metadata": {
        "id": "2N1GZYJFVPfv"
      }
    },
    {
      "cell_type": "code",
      "source": [
        "############################### EXPLORATORY DATA ANALYSIS\n",
        "\n",
        "users = spark.read.csv(\"/content/users.csv\", header=True, inferSchema=True)\n",
        "team = spark.read.csv(\"/content/team.csv\", header=True, inferSchema=True)\n",
        "adclicks = spark.read.csv(\"/content/ad-clicks.csv\", header=True, inferSchema=True)\n",
        "buyclicks = spark.read.csv(\"/content/buy-clicks.csv\", header=True, inferSchema=True)\n",
        "\n",
        "users.show(5)"
      ],
      "metadata": {
        "colab": {
          "base_uri": "https://localhost:8080/"
        },
        "id": "RqMZPutQ4LGW",
        "outputId": "dd2c37be-dd31-4ff0-ba41-ccb8423b0a21"
      },
      "execution_count": 14,
      "outputs": [
        {
          "output_type": "stream",
          "name": "stdout",
          "text": [
            "+-------------------+------+-----------+--------+----------+-------+\n",
            "|          timestamp|userId|       nick| twitter|       dob|country|\n",
            "+-------------------+------+-----------+--------+----------+-------+\n",
            "|2012-06-19 14:53:41|   442|   pcjIOBKW|@SZhyOHv|1994-07-20|     BA|\n",
            "|2012-06-19 19:29:01|   949|    vAOfUkf|  @nkkNo|1971-04-22|     HU|\n",
            "|2012-06-20 19:34:59|  1654|     qOOXSQ|  @SwOlw|1970-04-19|     IS|\n",
            "|2012-06-21 01:18:29|  1586|    px4gW51|@IrCHTnE|1965-11-23|     AM|\n",
            "|2012-06-21 15:35:00|   599|9gkfwRC73Uc| @VJj0Az|1994-08-23|     CC|\n",
            "+-------------------+------+-----------+--------+----------+-------+\n",
            "only showing top 5 rows\n",
            "\n"
          ]
        }
      ]
    },
    {
      "cell_type": "code",
      "execution_count": 15,
      "metadata": {
        "id": "iqCVPh6bxfHm",
        "colab": {
          "base_uri": "https://localhost:8080/"
        },
        "outputId": "5a822aa3-f7b5-4747-f9d5-5e22741e443d"
      },
      "outputs": [
        {
          "output_type": "stream",
          "name": "stdout",
          "text": [
            "+-------------------+------+-----------+----------+----------+-------+\n",
            "|          timestamp|userId|       nick|   twitter|       dob|country|\n",
            "+-------------------+------+-----------+----------+----------+-------+\n",
            "|2012-06-19 14:53:41|   442|   pcjIOBKW|  @SZhyOHv|1994-07-20|     BA|\n",
            "|2012-06-19 19:29:01|   949|    vAOfUkf|    @nkkNo|1971-04-22|     HU|\n",
            "|2012-06-20 19:34:59|  1654|     qOOXSQ|    @SwOlw|1970-04-19|     IS|\n",
            "|2012-06-21 01:18:29|  1586|    px4gW51|  @IrCHTnE|1965-11-23|     AM|\n",
            "|2012-06-21 15:35:00|   599|9gkfwRC73Uc|   @VJj0Az|1994-08-23|     CC|\n",
            "|2012-06-22 11:36:19|   952| BRbb3VOTti|   @b4OK6K|1986-09-11|     MH|\n",
            "|2012-06-23 08:11:18|  1056|    fGCIAtI| @IgDsdWdU|1991-11-28|     SM|\n",
            "|2012-06-23 10:54:19|    91|tpDfgi3S0N9|   @LvTHGO|1977-07-03|     BZ|\n",
            "|2012-06-23 14:59:26|   809| LkNRpRW6Ez|@ROrRkXwdh|1951-09-25|     PF|\n",
            "|2012-06-23 17:40:35|    75|     fNWewX|   @OXqLyv|1979-11-12|     JO|\n",
            "+-------------------+------+-----------+----------+----------+-------+\n",
            "only showing top 10 rows\n",
            "\n"
          ]
        }
      ],
      "source": [
        "users = spark.read.csv(\"/content/users.csv\", header=True, inferSchema=True)\n",
        "\n",
        "users.show(10)\n",
        "\n",
        "\n",
        "\n"
      ]
    },
    {
      "cell_type": "code",
      "execution_count": 17,
      "metadata": {
        "id": "2C9vZfLd03N5",
        "colab": {
          "base_uri": "https://localhost:8080/"
        },
        "outputId": "526c5ff7-c11c-4bfb-e280-64ee98d62eee"
      },
      "outputs": [
        {
          "output_type": "stream",
          "name": "stdout",
          "text": [
            "+-------------------+------+-----------+--------+----------+-------+---+\n",
            "|          timestamp|userId|       nick| twitter|       dob|country|age|\n",
            "+-------------------+------+-----------+--------+----------+-------+---+\n",
            "|2012-06-19 14:53:41|   442|   pcjIOBKW|@SZhyOHv|1994-07-20|     BA| 28|\n",
            "|2012-06-19 19:29:01|   949|    vAOfUkf|  @nkkNo|1971-04-22|     HU| 52|\n",
            "|2012-06-20 19:34:59|  1654|     qOOXSQ|  @SwOlw|1970-04-19|     IS| 53|\n",
            "|2012-06-21 01:18:29|  1586|    px4gW51|@IrCHTnE|1965-11-23|     AM| 57|\n",
            "|2012-06-21 15:35:00|   599|9gkfwRC73Uc| @VJj0Az|1994-08-23|     CC| 28|\n",
            "+-------------------+------+-----------+--------+----------+-------+---+\n",
            "only showing top 5 rows\n",
            "\n"
          ]
        }
      ],
      "source": [
        "###### CONVERT DOB TO AGE\n",
        "\n",
        "from pyspark.sql import functions as f\n",
        "\n",
        "\n",
        "\n",
        "# Resource for below Code : https://stackoverflow.com/questions/62148704/date-difference-in-years-in-pyspark-dataframe\n",
        "\n",
        "users_with_age = users.withColumn(\"age\",   (f.months_between(f.current_date(), f.col('dob')) / 12).cast('int'))\n",
        "\n",
        "users_with_age.show(5)"
      ]
    },
    {
      "cell_type": "code",
      "execution_count": 18,
      "metadata": {
        "id": "3L6sgBKE5NLB",
        "colab": {
          "base_uri": "https://localhost:8080/",
          "height": 135
        },
        "outputId": "b241b956-a185-414a-9576-dd3a3dcfb2e4"
      },
      "outputs": [
        {
          "output_type": "stream",
          "name": "stderr",
          "text": [
            "/usr/local/lib/python3.10/dist-packages/pyspark/sql/pandas/conversion.py:251: FutureWarning: Passing unit-less datetime64 dtype to .astype is deprecated and will raise in a future version. Pass 'datetime64[ns]' instead\n",
            "  series = series.astype(t, copy=False)\n"
          ]
        },
        {
          "output_type": "execute_result",
          "data": {
            "text/plain": [
              "      count       mean        std   min   25%   50%   75%   max\n",
              "age  2393.0  46.172169  14.065468  24.0  34.0  44.0  57.0  76.0"
            ],
            "text/html": [
              "\n",
              "  <div id=\"df-36bea5bc-8580-4118-a6f9-fc1dfbeecc03\">\n",
              "    <div class=\"colab-df-container\">\n",
              "      <div>\n",
              "<style scoped>\n",
              "    .dataframe tbody tr th:only-of-type {\n",
              "        vertical-align: middle;\n",
              "    }\n",
              "\n",
              "    .dataframe tbody tr th {\n",
              "        vertical-align: top;\n",
              "    }\n",
              "\n",
              "    .dataframe thead th {\n",
              "        text-align: right;\n",
              "    }\n",
              "</style>\n",
              "<table border=\"1\" class=\"dataframe\">\n",
              "  <thead>\n",
              "    <tr style=\"text-align: right;\">\n",
              "      <th></th>\n",
              "      <th>count</th>\n",
              "      <th>mean</th>\n",
              "      <th>std</th>\n",
              "      <th>min</th>\n",
              "      <th>25%</th>\n",
              "      <th>50%</th>\n",
              "      <th>75%</th>\n",
              "      <th>max</th>\n",
              "    </tr>\n",
              "  </thead>\n",
              "  <tbody>\n",
              "    <tr>\n",
              "      <th>age</th>\n",
              "      <td>2393.0</td>\n",
              "      <td>46.172169</td>\n",
              "      <td>14.065468</td>\n",
              "      <td>24.0</td>\n",
              "      <td>34.0</td>\n",
              "      <td>44.0</td>\n",
              "      <td>57.0</td>\n",
              "      <td>76.0</td>\n",
              "    </tr>\n",
              "  </tbody>\n",
              "</table>\n",
              "</div>\n",
              "      <button class=\"colab-df-convert\" onclick=\"convertToInteractive('df-36bea5bc-8580-4118-a6f9-fc1dfbeecc03')\"\n",
              "              title=\"Convert this dataframe to an interactive table.\"\n",
              "              style=\"display:none;\">\n",
              "        \n",
              "  <svg xmlns=\"http://www.w3.org/2000/svg\" height=\"24px\"viewBox=\"0 0 24 24\"\n",
              "       width=\"24px\">\n",
              "    <path d=\"M0 0h24v24H0V0z\" fill=\"none\"/>\n",
              "    <path d=\"M18.56 5.44l.94 2.06.94-2.06 2.06-.94-2.06-.94-.94-2.06-.94 2.06-2.06.94zm-11 1L8.5 8.5l.94-2.06 2.06-.94-2.06-.94L8.5 2.5l-.94 2.06-2.06.94zm10 10l.94 2.06.94-2.06 2.06-.94-2.06-.94-.94-2.06-.94 2.06-2.06.94z\"/><path d=\"M17.41 7.96l-1.37-1.37c-.4-.4-.92-.59-1.43-.59-.52 0-1.04.2-1.43.59L10.3 9.45l-7.72 7.72c-.78.78-.78 2.05 0 2.83L4 21.41c.39.39.9.59 1.41.59.51 0 1.02-.2 1.41-.59l7.78-7.78 2.81-2.81c.8-.78.8-2.07 0-2.86zM5.41 20L4 18.59l7.72-7.72 1.47 1.35L5.41 20z\"/>\n",
              "  </svg>\n",
              "      </button>\n",
              "      \n",
              "  <style>\n",
              "    .colab-df-container {\n",
              "      display:flex;\n",
              "      flex-wrap:wrap;\n",
              "      gap: 12px;\n",
              "    }\n",
              "\n",
              "    .colab-df-convert {\n",
              "      background-color: #E8F0FE;\n",
              "      border: none;\n",
              "      border-radius: 50%;\n",
              "      cursor: pointer;\n",
              "      display: none;\n",
              "      fill: #1967D2;\n",
              "      height: 32px;\n",
              "      padding: 0 0 0 0;\n",
              "      width: 32px;\n",
              "    }\n",
              "\n",
              "    .colab-df-convert:hover {\n",
              "      background-color: #E2EBFA;\n",
              "      box-shadow: 0px 1px 2px rgba(60, 64, 67, 0.3), 0px 1px 3px 1px rgba(60, 64, 67, 0.15);\n",
              "      fill: #174EA6;\n",
              "    }\n",
              "\n",
              "    [theme=dark] .colab-df-convert {\n",
              "      background-color: #3B4455;\n",
              "      fill: #D2E3FC;\n",
              "    }\n",
              "\n",
              "    [theme=dark] .colab-df-convert:hover {\n",
              "      background-color: #434B5C;\n",
              "      box-shadow: 0px 1px 3px 1px rgba(0, 0, 0, 0.15);\n",
              "      filter: drop-shadow(0px 1px 2px rgba(0, 0, 0, 0.3));\n",
              "      fill: #FFFFFF;\n",
              "    }\n",
              "  </style>\n",
              "\n",
              "      <script>\n",
              "        const buttonEl =\n",
              "          document.querySelector('#df-36bea5bc-8580-4118-a6f9-fc1dfbeecc03 button.colab-df-convert');\n",
              "        buttonEl.style.display =\n",
              "          google.colab.kernel.accessAllowed ? 'block' : 'none';\n",
              "\n",
              "        async function convertToInteractive(key) {\n",
              "          const element = document.querySelector('#df-36bea5bc-8580-4118-a6f9-fc1dfbeecc03');\n",
              "          const dataTable =\n",
              "            await google.colab.kernel.invokeFunction('convertToInteractive',\n",
              "                                                     [key], {});\n",
              "          if (!dataTable) return;\n",
              "\n",
              "          const docLinkHtml = 'Like what you see? Visit the ' +\n",
              "            '<a target=\"_blank\" href=https://colab.research.google.com/notebooks/data_table.ipynb>data table notebook</a>'\n",
              "            + ' to learn more about interactive tables.';\n",
              "          element.innerHTML = '';\n",
              "          dataTable['output_type'] = 'display_data';\n",
              "          await google.colab.output.renderOutput(dataTable, element);\n",
              "          const docLink = document.createElement('div');\n",
              "          docLink.innerHTML = docLinkHtml;\n",
              "          element.appendChild(docLink);\n",
              "        }\n",
              "      </script>\n",
              "    </div>\n",
              "  </div>\n",
              "  "
            ]
          },
          "metadata": {},
          "execution_count": 18
        }
      ],
      "source": [
        "users_with_age.toPandas()[[\"age\"]].describe().transpose()\n",
        "\n"
      ]
    },
    {
      "cell_type": "code",
      "source": [
        "from pyspark.sql.functions import udf\n",
        "\n",
        "\n",
        "age_range = udf(lambda age: '< 20' if age < 20 else \n",
        "                       '20-39' if (age >= 20 and age < 40) else\n",
        "                       '40-59' if (age >= 40 and age < 60) else\n",
        "                       '60-79' if (age >= 60 and age < 80) else        \n",
        "                       '80-99' if (age >= 80 and age < 100) else \"\"    \n",
        "                       )\n",
        "\n",
        "\n",
        "users_with_age = users_with_age.withColumn('age_group', age_range(users_with_age.age))\n",
        "users_with_age.show()"
      ],
      "metadata": {
        "colab": {
          "base_uri": "https://localhost:8080/"
        },
        "id": "ZFvBNVujHxr2",
        "outputId": "810b53b3-87bf-4f99-cb30-bce4f6e0a536"
      },
      "execution_count": 19,
      "outputs": [
        {
          "output_type": "stream",
          "name": "stdout",
          "text": [
            "+-------------------+------+-----------+----------+----------+-------+---+---------+\n",
            "|          timestamp|userId|       nick|   twitter|       dob|country|age|age_group|\n",
            "+-------------------+------+-----------+----------+----------+-------+---+---------+\n",
            "|2012-06-19 14:53:41|   442|   pcjIOBKW|  @SZhyOHv|1994-07-20|     BA| 28|    20-39|\n",
            "|2012-06-19 19:29:01|   949|    vAOfUkf|    @nkkNo|1971-04-22|     HU| 52|    40-59|\n",
            "|2012-06-20 19:34:59|  1654|     qOOXSQ|    @SwOlw|1970-04-19|     IS| 53|    40-59|\n",
            "|2012-06-21 01:18:29|  1586|    px4gW51|  @IrCHTnE|1965-11-23|     AM| 57|    40-59|\n",
            "|2012-06-21 15:35:00|   599|9gkfwRC73Uc|   @VJj0Az|1994-08-23|     CC| 28|    20-39|\n",
            "|2012-06-22 11:36:19|   952| BRbb3VOTti|   @b4OK6K|1986-09-11|     MH| 36|    20-39|\n",
            "|2012-06-23 08:11:18|  1056|    fGCIAtI| @IgDsdWdU|1991-11-28|     SM| 31|    20-39|\n",
            "|2012-06-23 10:54:19|    91|tpDfgi3S0N9|   @LvTHGO|1977-07-03|     BZ| 45|    40-59|\n",
            "|2012-06-23 14:59:26|   809| LkNRpRW6Ez|@ROrRkXwdh|1951-09-25|     PF| 71|    60-79|\n",
            "|2012-06-23 17:40:35|    75|     fNWewX|   @OXqLyv|1979-11-12|     JO| 43|    40-59|\n",
            "|2012-06-23 17:57:05|  2224|   rvXvUU9J|  @YexGCPm|1996-08-27|     GW| 26|    20-39|\n",
            "|2012-06-24 05:29:24|   361|    Pk8oT6o|    @9YksF|1980-10-18|     CK| 42|    40-59|\n",
            "|2012-06-24 23:33:59|   584|TBRJ3YueQCa|    @QsYLb|1957-02-17|     MD| 66|    60-79|\n",
            "|2012-06-25 01:48:50|   295|zBxoWozeDlB| @An4tm5np|1977-03-02|     HK| 46|    40-59|\n",
            "|2012-06-25 02:01:25|  1493|     GnvF8P|  @KnN5TLT|1979-10-05|     QA| 43|    40-59|\n",
            "|2012-06-25 06:38:10|  1605|  m7eHxdgoz| @tcfAzJ3m|1981-10-23|     ZA| 41|    40-59|\n",
            "|2012-06-25 15:04:21|   848|  ZWIRmprJd| @qrP2pQcE|1989-06-20|     SE| 33|    20-39|\n",
            "|2012-06-25 16:53:28|   962|  19aggoZfQ|  @u5Smf32|1949-08-12|     MM| 73|    60-79|\n",
            "|2012-06-26 15:12:33|  2034| olBz6o3Ulg| @lxLPvLKK|1983-12-04|     FO| 39|    20-39|\n",
            "|2012-06-26 22:42:21|   379|  R1Mk1AVrv|    @UGHdE|1980-05-03|     DJ| 43|    40-59|\n",
            "+-------------------+------+-----------+----------+----------+-------+---+---------+\n",
            "only showing top 20 rows\n",
            "\n"
          ]
        }
      ]
    },
    {
      "cell_type": "code",
      "source": [
        "\n",
        "from pyspark.sql import functions as f\n",
        "\n",
        "data = users_with_age.withColumn(\n",
        "    'age_group',\n",
        "    f.when(f.col('age') <= 19, 'teenage')\n",
        "    .when(f.col('age').between(20, 35), '20-35')\n",
        "    .when(f.col('age').between(36, 50), '36-50')\n",
        "    .when(f.col('age').between(51, 65), '51-65')\n",
        "    .when(f.col('age').between(66, 100), '66-100')\n",
        "    .otherwise(None)\n",
        ").toPandas()\n",
        "\n",
        "data\n"
      ],
      "metadata": {
        "colab": {
          "base_uri": "https://localhost:8080/",
          "height": 478
        },
        "id": "SisA83dZ-yTK",
        "outputId": "c244c1e3-59c9-4f44-abaa-e9c9e5981fa8"
      },
      "execution_count": 20,
      "outputs": [
        {
          "output_type": "stream",
          "name": "stderr",
          "text": [
            "/usr/local/lib/python3.10/dist-packages/pyspark/sql/pandas/conversion.py:251: FutureWarning: Passing unit-less datetime64 dtype to .astype is deprecated and will raise in a future version. Pass 'datetime64[ns]' instead\n",
            "  series = series.astype(t, copy=False)\n"
          ]
        },
        {
          "output_type": "execute_result",
          "data": {
            "text/plain": [
              "               timestamp  userId         nick     twitter         dob country  \\\n",
              "0    2012-06-19 14:53:41     442     pcjIOBKW    @SZhyOHv  1994-07-20      BA   \n",
              "1    2012-06-19 19:29:01     949      vAOfUkf      @nkkNo  1971-04-22      HU   \n",
              "2    2012-06-20 19:34:59    1654       qOOXSQ      @SwOlw  1970-04-19      IS   \n",
              "3    2012-06-21 01:18:29    1586      px4gW51    @IrCHTnE  1965-11-23      AM   \n",
              "4    2012-06-21 15:35:00     599  9gkfwRC73Uc     @VJj0Az  1994-08-23      CC   \n",
              "...                  ...     ...          ...         ...         ...     ...   \n",
              "2388 2016-06-11 05:17:17    2312    CJOHXgqKh  @ZomNVFWoF  1996-10-05      MT   \n",
              "2389 2016-06-14 03:19:04     100      lJexGia  @BYQ14xmNd  1987-05-25      CR   \n",
              "2390 2016-06-14 10:40:22     651   iynipG41EV  @nXTCcg7sV  1987-04-08      CI   \n",
              "2391 2016-06-15 16:33:25    2390   hH9wrFLdTt    @KimUIQF  1991-03-02      TK   \n",
              "2392 2016-06-16 05:39:34    2032  qN1yFPzBziE  @LjYnHRVjD  1997-07-22      JP   \n",
              "\n",
              "      age age_group  \n",
              "0      28     20-35  \n",
              "1      52     51-65  \n",
              "2      53     51-65  \n",
              "3      57     51-65  \n",
              "4      28     20-35  \n",
              "...   ...       ...  \n",
              "2388   26     20-35  \n",
              "2389   35     20-35  \n",
              "2390   36     36-50  \n",
              "2391   32     20-35  \n",
              "2392   25     20-35  \n",
              "\n",
              "[2393 rows x 8 columns]"
            ],
            "text/html": [
              "\n",
              "  <div id=\"df-54fcb95e-7103-42b3-97da-9f3b6220ead2\">\n",
              "    <div class=\"colab-df-container\">\n",
              "      <div>\n",
              "<style scoped>\n",
              "    .dataframe tbody tr th:only-of-type {\n",
              "        vertical-align: middle;\n",
              "    }\n",
              "\n",
              "    .dataframe tbody tr th {\n",
              "        vertical-align: top;\n",
              "    }\n",
              "\n",
              "    .dataframe thead th {\n",
              "        text-align: right;\n",
              "    }\n",
              "</style>\n",
              "<table border=\"1\" class=\"dataframe\">\n",
              "  <thead>\n",
              "    <tr style=\"text-align: right;\">\n",
              "      <th></th>\n",
              "      <th>timestamp</th>\n",
              "      <th>userId</th>\n",
              "      <th>nick</th>\n",
              "      <th>twitter</th>\n",
              "      <th>dob</th>\n",
              "      <th>country</th>\n",
              "      <th>age</th>\n",
              "      <th>age_group</th>\n",
              "    </tr>\n",
              "  </thead>\n",
              "  <tbody>\n",
              "    <tr>\n",
              "      <th>0</th>\n",
              "      <td>2012-06-19 14:53:41</td>\n",
              "      <td>442</td>\n",
              "      <td>pcjIOBKW</td>\n",
              "      <td>@SZhyOHv</td>\n",
              "      <td>1994-07-20</td>\n",
              "      <td>BA</td>\n",
              "      <td>28</td>\n",
              "      <td>20-35</td>\n",
              "    </tr>\n",
              "    <tr>\n",
              "      <th>1</th>\n",
              "      <td>2012-06-19 19:29:01</td>\n",
              "      <td>949</td>\n",
              "      <td>vAOfUkf</td>\n",
              "      <td>@nkkNo</td>\n",
              "      <td>1971-04-22</td>\n",
              "      <td>HU</td>\n",
              "      <td>52</td>\n",
              "      <td>51-65</td>\n",
              "    </tr>\n",
              "    <tr>\n",
              "      <th>2</th>\n",
              "      <td>2012-06-20 19:34:59</td>\n",
              "      <td>1654</td>\n",
              "      <td>qOOXSQ</td>\n",
              "      <td>@SwOlw</td>\n",
              "      <td>1970-04-19</td>\n",
              "      <td>IS</td>\n",
              "      <td>53</td>\n",
              "      <td>51-65</td>\n",
              "    </tr>\n",
              "    <tr>\n",
              "      <th>3</th>\n",
              "      <td>2012-06-21 01:18:29</td>\n",
              "      <td>1586</td>\n",
              "      <td>px4gW51</td>\n",
              "      <td>@IrCHTnE</td>\n",
              "      <td>1965-11-23</td>\n",
              "      <td>AM</td>\n",
              "      <td>57</td>\n",
              "      <td>51-65</td>\n",
              "    </tr>\n",
              "    <tr>\n",
              "      <th>4</th>\n",
              "      <td>2012-06-21 15:35:00</td>\n",
              "      <td>599</td>\n",
              "      <td>9gkfwRC73Uc</td>\n",
              "      <td>@VJj0Az</td>\n",
              "      <td>1994-08-23</td>\n",
              "      <td>CC</td>\n",
              "      <td>28</td>\n",
              "      <td>20-35</td>\n",
              "    </tr>\n",
              "    <tr>\n",
              "      <th>...</th>\n",
              "      <td>...</td>\n",
              "      <td>...</td>\n",
              "      <td>...</td>\n",
              "      <td>...</td>\n",
              "      <td>...</td>\n",
              "      <td>...</td>\n",
              "      <td>...</td>\n",
              "      <td>...</td>\n",
              "    </tr>\n",
              "    <tr>\n",
              "      <th>2388</th>\n",
              "      <td>2016-06-11 05:17:17</td>\n",
              "      <td>2312</td>\n",
              "      <td>CJOHXgqKh</td>\n",
              "      <td>@ZomNVFWoF</td>\n",
              "      <td>1996-10-05</td>\n",
              "      <td>MT</td>\n",
              "      <td>26</td>\n",
              "      <td>20-35</td>\n",
              "    </tr>\n",
              "    <tr>\n",
              "      <th>2389</th>\n",
              "      <td>2016-06-14 03:19:04</td>\n",
              "      <td>100</td>\n",
              "      <td>lJexGia</td>\n",
              "      <td>@BYQ14xmNd</td>\n",
              "      <td>1987-05-25</td>\n",
              "      <td>CR</td>\n",
              "      <td>35</td>\n",
              "      <td>20-35</td>\n",
              "    </tr>\n",
              "    <tr>\n",
              "      <th>2390</th>\n",
              "      <td>2016-06-14 10:40:22</td>\n",
              "      <td>651</td>\n",
              "      <td>iynipG41EV</td>\n",
              "      <td>@nXTCcg7sV</td>\n",
              "      <td>1987-04-08</td>\n",
              "      <td>CI</td>\n",
              "      <td>36</td>\n",
              "      <td>36-50</td>\n",
              "    </tr>\n",
              "    <tr>\n",
              "      <th>2391</th>\n",
              "      <td>2016-06-15 16:33:25</td>\n",
              "      <td>2390</td>\n",
              "      <td>hH9wrFLdTt</td>\n",
              "      <td>@KimUIQF</td>\n",
              "      <td>1991-03-02</td>\n",
              "      <td>TK</td>\n",
              "      <td>32</td>\n",
              "      <td>20-35</td>\n",
              "    </tr>\n",
              "    <tr>\n",
              "      <th>2392</th>\n",
              "      <td>2016-06-16 05:39:34</td>\n",
              "      <td>2032</td>\n",
              "      <td>qN1yFPzBziE</td>\n",
              "      <td>@LjYnHRVjD</td>\n",
              "      <td>1997-07-22</td>\n",
              "      <td>JP</td>\n",
              "      <td>25</td>\n",
              "      <td>20-35</td>\n",
              "    </tr>\n",
              "  </tbody>\n",
              "</table>\n",
              "<p>2393 rows × 8 columns</p>\n",
              "</div>\n",
              "      <button class=\"colab-df-convert\" onclick=\"convertToInteractive('df-54fcb95e-7103-42b3-97da-9f3b6220ead2')\"\n",
              "              title=\"Convert this dataframe to an interactive table.\"\n",
              "              style=\"display:none;\">\n",
              "        \n",
              "  <svg xmlns=\"http://www.w3.org/2000/svg\" height=\"24px\"viewBox=\"0 0 24 24\"\n",
              "       width=\"24px\">\n",
              "    <path d=\"M0 0h24v24H0V0z\" fill=\"none\"/>\n",
              "    <path d=\"M18.56 5.44l.94 2.06.94-2.06 2.06-.94-2.06-.94-.94-2.06-.94 2.06-2.06.94zm-11 1L8.5 8.5l.94-2.06 2.06-.94-2.06-.94L8.5 2.5l-.94 2.06-2.06.94zm10 10l.94 2.06.94-2.06 2.06-.94-2.06-.94-.94-2.06-.94 2.06-2.06.94z\"/><path d=\"M17.41 7.96l-1.37-1.37c-.4-.4-.92-.59-1.43-.59-.52 0-1.04.2-1.43.59L10.3 9.45l-7.72 7.72c-.78.78-.78 2.05 0 2.83L4 21.41c.39.39.9.59 1.41.59.51 0 1.02-.2 1.41-.59l7.78-7.78 2.81-2.81c.8-.78.8-2.07 0-2.86zM5.41 20L4 18.59l7.72-7.72 1.47 1.35L5.41 20z\"/>\n",
              "  </svg>\n",
              "      </button>\n",
              "      \n",
              "  <style>\n",
              "    .colab-df-container {\n",
              "      display:flex;\n",
              "      flex-wrap:wrap;\n",
              "      gap: 12px;\n",
              "    }\n",
              "\n",
              "    .colab-df-convert {\n",
              "      background-color: #E8F0FE;\n",
              "      border: none;\n",
              "      border-radius: 50%;\n",
              "      cursor: pointer;\n",
              "      display: none;\n",
              "      fill: #1967D2;\n",
              "      height: 32px;\n",
              "      padding: 0 0 0 0;\n",
              "      width: 32px;\n",
              "    }\n",
              "\n",
              "    .colab-df-convert:hover {\n",
              "      background-color: #E2EBFA;\n",
              "      box-shadow: 0px 1px 2px rgba(60, 64, 67, 0.3), 0px 1px 3px 1px rgba(60, 64, 67, 0.15);\n",
              "      fill: #174EA6;\n",
              "    }\n",
              "\n",
              "    [theme=dark] .colab-df-convert {\n",
              "      background-color: #3B4455;\n",
              "      fill: #D2E3FC;\n",
              "    }\n",
              "\n",
              "    [theme=dark] .colab-df-convert:hover {\n",
              "      background-color: #434B5C;\n",
              "      box-shadow: 0px 1px 3px 1px rgba(0, 0, 0, 0.15);\n",
              "      filter: drop-shadow(0px 1px 2px rgba(0, 0, 0, 0.3));\n",
              "      fill: #FFFFFF;\n",
              "    }\n",
              "  </style>\n",
              "\n",
              "      <script>\n",
              "        const buttonEl =\n",
              "          document.querySelector('#df-54fcb95e-7103-42b3-97da-9f3b6220ead2 button.colab-df-convert');\n",
              "        buttonEl.style.display =\n",
              "          google.colab.kernel.accessAllowed ? 'block' : 'none';\n",
              "\n",
              "        async function convertToInteractive(key) {\n",
              "          const element = document.querySelector('#df-54fcb95e-7103-42b3-97da-9f3b6220ead2');\n",
              "          const dataTable =\n",
              "            await google.colab.kernel.invokeFunction('convertToInteractive',\n",
              "                                                     [key], {});\n",
              "          if (!dataTable) return;\n",
              "\n",
              "          const docLinkHtml = 'Like what you see? Visit the ' +\n",
              "            '<a target=\"_blank\" href=https://colab.research.google.com/notebooks/data_table.ipynb>data table notebook</a>'\n",
              "            + ' to learn more about interactive tables.';\n",
              "          element.innerHTML = '';\n",
              "          dataTable['output_type'] = 'display_data';\n",
              "          await google.colab.output.renderOutput(dataTable, element);\n",
              "          const docLink = document.createElement('div');\n",
              "          docLink.innerHTML = docLinkHtml;\n",
              "          element.appendChild(docLink);\n",
              "        }\n",
              "      </script>\n",
              "    </div>\n",
              "  </div>\n",
              "  "
            ]
          },
          "metadata": {},
          "execution_count": 20
        }
      ]
    },
    {
      "cell_type": "code",
      "source": [
        "from pyspark.sql import functions as f\n",
        "from pyspark.sql import Window\n",
        "\n",
        "window = Window.partitionBy('age_group').rowsBetween(Window.unboundedPreceding, Window.unboundedFollowing)\n",
        "\n",
        "users_with_age_grouped = users_with_age.groupBy('age_group').count() \\\n",
        "    .select('age_group', f.col('count').alias('age_group_count')) \\\n",
        "    .orderBy('age_group')\n",
        "\n",
        "users_with_age_grouped.show()"
      ],
      "metadata": {
        "colab": {
          "base_uri": "https://localhost:8080/"
        },
        "id": "xXHSMuHrB0pe",
        "outputId": "fe7e338b-d885-40f7-f9a0-de85fb3221a9"
      },
      "execution_count": 21,
      "outputs": [
        {
          "output_type": "stream",
          "name": "stdout",
          "text": [
            "+---------+---------------+\n",
            "|age_group|age_group_count|\n",
            "+---------+---------------+\n",
            "|    20-39|            912|\n",
            "|    40-59|            983|\n",
            "|    60-79|            498|\n",
            "+---------+---------------+\n",
            "\n"
          ]
        }
      ]
    },
    {
      "cell_type": "code",
      "source": [
        "\n",
        "\n",
        "from pyspark.sql import functions as f\n",
        "\n",
        "team = spark.read.csv(\"/content/team.csv\", header=True, inferSchema=True)\n",
        "buyclicks = spark.read.csv(\"/content/buy-clicks.csv\", header=True, inferSchema=True)\n",
        "\n",
        "team_buying = team.alias(\"team\").join(buyclicks.alias(\"buyclicks\"), f.col(\"team.teamId\") == f.col(\"buyclicks.team\"), \"inner\")\n",
        "\n",
        "team_buying_grouped = team_buying.groupBy(\"teamId\") \\\n",
        "    .agg(f.sum(\"price\").alias(\"total_spending\"), f.sum(\"strength\").alias(\"total_strength\")) \\\n",
        "    .orderBy(\"total_spending\")\n",
        "\n",
        "team_buying_grouped.show()\n"
      ],
      "metadata": {
        "id": "OCVyMkuAb237",
        "colab": {
          "base_uri": "https://localhost:8080/"
        },
        "outputId": "1d2aff75-2aef-4a3b-e237-7bb428ae9122"
      },
      "execution_count": 22,
      "outputs": [
        {
          "output_type": "stream",
          "name": "stdout",
          "text": [
            "+------+--------------+------------------+\n",
            "|teamId|total_spending|    total_strength|\n",
            "+------+--------------+------------------+\n",
            "|    28|           8.0|    2.672721494356|\n",
            "|    95|          89.0| 7.717836217179002|\n",
            "|    39|         116.0|   16.524637169237|\n",
            "|    32|         141.0|7.4715282635939975|\n",
            "|   100|         160.0|27.269888656407982|\n",
            "|    69|         169.0|3.3396909037500007|\n",
            "|    70|         170.0|15.750538480079985|\n",
            "|    78|         176.0| 23.11077017648599|\n",
            "|     2|         178.0| 4.252460057155001|\n",
            "|    86|         178.0| 7.840508263564997|\n",
            "|    44|         188.0|16.111015293344998|\n",
            "|    75|         206.0| 27.86900662406999|\n",
            "|    77|         209.0| 39.69197467429999|\n",
            "|    71|         236.0| 16.41802724564399|\n",
            "|    82|         243.0|0.4911824815701997|\n",
            "|    93|         260.0|14.969690584758006|\n",
            "|    63|         283.0| 34.30640052949197|\n",
            "|    36|         321.0| 32.10610255095002|\n",
            "|    57|         328.0| 2.579702138856001|\n",
            "|    25|         328.0| 37.57020013097401|\n",
            "+------+--------------+------------------+\n",
            "only showing top 20 rows\n",
            "\n"
          ]
        }
      ]
    },
    {
      "cell_type": "code",
      "execution_count": 23,
      "metadata": {
        "id": "lNyAYD6h5gjt",
        "colab": {
          "base_uri": "https://localhost:8080/",
          "height": 729
        },
        "outputId": "931f885d-1ce4-4fa3-8ca5-2efdea048eeb"
      },
      "outputs": [
        {
          "output_type": "display_data",
          "data": {
            "text/plain": [
              "<Figure size 1280x800 with 1 Axes>"
            ],
            "image/png": "[encoded data removed]"
          },
          "metadata": {}
        }
      ],
      "source": [
        "\n",
        "\n",
        "\n",
        "\n",
        "import matplotlib.pyplot as plt\n",
        "import seaborn as sns\n",
        "import random\n",
        "\n",
        "# Import Data\n",
        "df = users_with_age_grouped\n",
        "\n",
        "# Prepare Data\n",
        "n = df.count()\n",
        "random.seed(100)\n",
        "c = random.choices(sns.color_palette(\"Set2\"), k=n)\n",
        "\n",
        "# Plot Bars\n",
        "plt.figure(figsize=(16, 10), dpi=80)\n",
        "ax = sns.barplot(x=\"age_group\", y=\"age_group_count\", data=df.toPandas(), palette=\"Set2\")\n",
        "\n",
        "for i, val in enumerate(df.select(\"age_group_count\").rdd.flatMap(lambda x: x).collect()):\n",
        "    plt.text(i, val, float(val), horizontalalignment='center', verticalalignment='bottom', fontdict={'fontweight': 500, 'size': 12})\n",
        "\n",
        "# Decoration\n",
        "plt.gca().set_xticklabels(df.select(\"age_group\").rdd.flatMap(lambda x: x).collect(), rotation=60, horizontalalignment='right')\n",
        "plt.title(\"Players by Age\", fontsize=22)\n",
        "plt.ylabel('Counts')\n",
        "plt.xlabel('Age Group')\n",
        "plt.show()\n",
        "\n"
      ]
    },
    {
      "cell_type": "code",
      "execution_count": 24,
      "metadata": {
        "id": "Xyo4nawm7U9T",
        "colab": {
          "base_uri": "https://localhost:8080/"
        },
        "outputId": "28a6ed16-a308-4f24-e998-f3fa778ec729"
      },
      "outputs": [
        {
          "output_type": "stream",
          "name": "stdout",
          "text": [
            "+-------+-----+\n",
            "|country|count|\n",
            "+-------+-----+\n",
            "|     MM|   10|\n",
            "|     LT|   10|\n",
            "|     DZ|   10|\n",
            "|     TC|   10|\n",
            "|     CI|   10|\n",
            "|     FI|   10|\n",
            "+-------+-----+\n",
            "\n"
          ]
        }
      ],
      "source": [
        "country_counts = users_with_age.groupBy(\"country\").count().orderBy(f.desc(\"count\")).limit(6)\n",
        "country_counts.show()"
      ]
    },
    {
      "cell_type": "code",
      "source": [
        "!pip install scipy"
      ],
      "metadata": {
        "colab": {
          "base_uri": "https://localhost:8080/"
        },
        "id": "so_8XWzsUwVF",
        "outputId": "aa93c82e-de80-4e04-e332-b9ce25a11f63"
      },
      "execution_count": 25,
      "outputs": [
        {
          "output_type": "stream",
          "name": "stdout",
          "text": [
            "Looking in indexes: https://pypi.org/simple, https://us-python.pkg.dev/colab-wheels/public/simple/\n",
            "Requirement already satisfied: scipy in /usr/local/lib/python3.10/dist-packages (1.10.1)\n",
            "Requirement already satisfied: numpy<1.27.0,>=1.19.5 in /usr/local/lib/python3.10/dist-packages (from scipy) (1.22.4)\n"
          ]
        }
      ]
    },
    {
      "cell_type": "code",
      "source": [
        "\n",
        "\n",
        "df"
      ],
      "metadata": {
        "colab": {
          "base_uri": "https://localhost:8080/",
          "height": 1000
        },
        "id": "00jrlrS0YGnj",
        "outputId": "89a48bc8-3127-4a81-bee5-fdff079f187d"
      },
      "execution_count": 30,
      "outputs": [
        {
          "output_type": "execute_result",
          "data": {
            "text/plain": [
              "    teamId  total_spending  total_strength\n",
              "0       28             8.0        2.672721\n",
              "1       95            89.0        7.717836\n",
              "2       39           116.0       16.524637\n",
              "3       32           141.0        7.471528\n",
              "4      100           160.0       27.269889\n",
              "5       69           169.0        3.339691\n",
              "6       70           170.0       15.750538\n",
              "7       78           176.0       23.110770\n",
              "8       86           178.0        7.840508\n",
              "9        2           178.0        4.252460\n",
              "10      44           188.0       16.111015\n",
              "11      75           206.0       27.869007\n",
              "12      77           209.0       39.691975\n",
              "13      71           236.0       16.418027\n",
              "14      82           243.0        0.491182\n",
              "15      93           260.0       14.969691\n",
              "16      63           283.0       34.306401\n",
              "17      36           321.0       32.106103\n",
              "18      57           328.0        2.579702\n",
              "19      25           328.0       37.570200\n",
              "20      85           352.0        5.949670\n",
              "21      61           358.0       10.241825\n",
              "22      74           370.0       23.238739\n",
              "23      84           377.0        9.027382\n",
              "24       8           382.0       29.064602\n",
              "25      90           388.0       15.953847\n",
              "26      99           392.0       70.551260\n",
              "27      18           421.0       69.066652\n",
              "28      51           447.0       41.388386\n",
              "29      13           448.0       48.711590\n",
              "30      94           450.0       32.918595\n",
              "31      20           458.0       12.113810\n",
              "32       9           513.0       93.313204\n",
              "33      72           534.0       31.017363\n",
              "34      22           535.0       40.651476\n",
              "35      97           549.0       25.899923\n",
              "36      11           587.0        3.173962\n",
              "37      59           644.0       37.301524\n",
              "38      66           647.0       27.135285\n",
              "39      53           677.0       20.382038\n",
              "40      64           693.0       40.608991\n",
              "41      35           710.0       78.589781\n",
              "42      54           777.0       31.210211\n",
              "43      27           880.0       14.279039"
            ],
            "text/html": [
              "\n",
              "  <div id=\"df-3df92f67-5ec9-493e-834a-9c0823cc27fb\">\n",
              "    <div class=\"colab-df-container\">\n",
              "      <div>\n",
              "<style scoped>\n",
              "    .dataframe tbody tr th:only-of-type {\n",
              "        vertical-align: middle;\n",
              "    }\n",
              "\n",
              "    .dataframe tbody tr th {\n",
              "        vertical-align: top;\n",
              "    }\n",
              "\n",
              "    .dataframe thead th {\n",
              "        text-align: right;\n",
              "    }\n",
              "</style>\n",
              "<table border=\"1\" class=\"dataframe\">\n",
              "  <thead>\n",
              "    <tr style=\"text-align: right;\">\n",
              "      <th></th>\n",
              "      <th>teamId</th>\n",
              "      <th>total_spending</th>\n",
              "      <th>total_strength</th>\n",
              "    </tr>\n",
              "  </thead>\n",
              "  <tbody>\n",
              "    <tr>\n",
              "      <th>0</th>\n",
              "      <td>28</td>\n",
              "      <td>8.0</td>\n",
              "      <td>2.672721</td>\n",
              "    </tr>\n",
              "    <tr>\n",
              "      <th>1</th>\n",
              "      <td>95</td>\n",
              "      <td>89.0</td>\n",
              "      <td>7.717836</td>\n",
              "    </tr>\n",
              "    <tr>\n",
              "      <th>2</th>\n",
              "      <td>39</td>\n",
              "      <td>116.0</td>\n",
              "      <td>16.524637</td>\n",
              "    </tr>\n",
              "    <tr>\n",
              "      <th>3</th>\n",
              "      <td>32</td>\n",
              "      <td>141.0</td>\n",
              "      <td>7.471528</td>\n",
              "    </tr>\n",
              "    <tr>\n",
              "      <th>4</th>\n",
              "      <td>100</td>\n",
              "      <td>160.0</td>\n",
              "      <td>27.269889</td>\n",
              "    </tr>\n",
              "    <tr>\n",
              "      <th>5</th>\n",
              "      <td>69</td>\n",
              "      <td>169.0</td>\n",
              "      <td>3.339691</td>\n",
              "    </tr>\n",
              "    <tr>\n",
              "      <th>6</th>\n",
              "      <td>70</td>\n",
              "      <td>170.0</td>\n",
              "      <td>15.750538</td>\n",
              "    </tr>\n",
              "    <tr>\n",
              "      <th>7</th>\n",
              "      <td>78</td>\n",
              "      <td>176.0</td>\n",
              "      <td>23.110770</td>\n",
              "    </tr>\n",
              "    <tr>\n",
              "      <th>8</th>\n",
              "      <td>86</td>\n",
              "      <td>178.0</td>\n",
              "      <td>7.840508</td>\n",
              "    </tr>\n",
              "    <tr>\n",
              "      <th>9</th>\n",
              "      <td>2</td>\n",
              "      <td>178.0</td>\n",
              "      <td>4.252460</td>\n",
              "    </tr>\n",
              "    <tr>\n",
              "      <th>10</th>\n",
              "      <td>44</td>\n",
              "      <td>188.0</td>\n",
              "      <td>16.111015</td>\n",
              "    </tr>\n",
              "    <tr>\n",
              "      <th>11</th>\n",
              "      <td>75</td>\n",
              "      <td>206.0</td>\n",
              "      <td>27.869007</td>\n",
              "    </tr>\n",
              "    <tr>\n",
              "      <th>12</th>\n",
              "      <td>77</td>\n",
              "      <td>209.0</td>\n",
              "      <td>39.691975</td>\n",
              "    </tr>\n",
              "    <tr>\n",
              "      <th>13</th>\n",
              "      <td>71</td>\n",
              "      <td>236.0</td>\n",
              "      <td>16.418027</td>\n",
              "    </tr>\n",
              "    <tr>\n",
              "      <th>14</th>\n",
              "      <td>82</td>\n",
              "      <td>243.0</td>\n",
              "      <td>0.491182</td>\n",
              "    </tr>\n",
              "    <tr>\n",
              "      <th>15</th>\n",
              "      <td>93</td>\n",
              "      <td>260.0</td>\n",
              "      <td>14.969691</td>\n",
              "    </tr>\n",
              "    <tr>\n",
              "      <th>16</th>\n",
              "      <td>63</td>\n",
              "      <td>283.0</td>\n",
              "      <td>34.306401</td>\n",
              "    </tr>\n",
              "    <tr>\n",
              "      <th>17</th>\n",
              "      <td>36</td>\n",
              "      <td>321.0</td>\n",
              "      <td>32.106103</td>\n",
              "    </tr>\n",
              "    <tr>\n",
              "      <th>18</th>\n",
              "      <td>57</td>\n",
              "      <td>328.0</td>\n",
              "      <td>2.579702</td>\n",
              "    </tr>\n",
              "    <tr>\n",
              "      <th>19</th>\n",
              "      <td>25</td>\n",
              "      <td>328.0</td>\n",
              "      <td>37.570200</td>\n",
              "    </tr>\n",
              "    <tr>\n",
              "      <th>20</th>\n",
              "      <td>85</td>\n",
              "      <td>352.0</td>\n",
              "      <td>5.949670</td>\n",
              "    </tr>\n",
              "    <tr>\n",
              "      <th>21</th>\n",
              "      <td>61</td>\n",
              "      <td>358.0</td>\n",
              "      <td>10.241825</td>\n",
              "    </tr>\n",
              "    <tr>\n",
              "      <th>22</th>\n",
              "      <td>74</td>\n",
              "      <td>370.0</td>\n",
              "      <td>23.238739</td>\n",
              "    </tr>\n",
              "    <tr>\n",
              "      <th>23</th>\n",
              "      <td>84</td>\n",
              "      <td>377.0</td>\n",
              "      <td>9.027382</td>\n",
              "    </tr>\n",
              "    <tr>\n",
              "      <th>24</th>\n",
              "      <td>8</td>\n",
              "      <td>382.0</td>\n",
              "      <td>29.064602</td>\n",
              "    </tr>\n",
              "    <tr>\n",
              "      <th>25</th>\n",
              "      <td>90</td>\n",
              "      <td>388.0</td>\n",
              "      <td>15.953847</td>\n",
              "    </tr>\n",
              "    <tr>\n",
              "      <th>26</th>\n",
              "      <td>99</td>\n",
              "      <td>392.0</td>\n",
              "      <td>70.551260</td>\n",
              "    </tr>\n",
              "    <tr>\n",
              "      <th>27</th>\n",
              "      <td>18</td>\n",
              "      <td>421.0</td>\n",
              "      <td>69.066652</td>\n",
              "    </tr>\n",
              "    <tr>\n",
              "      <th>28</th>\n",
              "      <td>51</td>\n",
              "      <td>447.0</td>\n",
              "      <td>41.388386</td>\n",
              "    </tr>\n",
              "    <tr>\n",
              "      <th>29</th>\n",
              "      <td>13</td>\n",
              "      <td>448.0</td>\n",
              "      <td>48.711590</td>\n",
              "    </tr>\n",
              "    <tr>\n",
              "      <th>30</th>\n",
              "      <td>94</td>\n",
              "      <td>450.0</td>\n",
              "      <td>32.918595</td>\n",
              "    </tr>\n",
              "    <tr>\n",
              "      <th>31</th>\n",
              "      <td>20</td>\n",
              "      <td>458.0</td>\n",
              "      <td>12.113810</td>\n",
              "    </tr>\n",
              "    <tr>\n",
              "      <th>32</th>\n",
              "      <td>9</td>\n",
              "      <td>513.0</td>\n",
              "      <td>93.313204</td>\n",
              "    </tr>\n",
              "    <tr>\n",
              "      <th>33</th>\n",
              "      <td>72</td>\n",
              "      <td>534.0</td>\n",
              "      <td>31.017363</td>\n",
              "    </tr>\n",
              "    <tr>\n",
              "      <th>34</th>\n",
              "      <td>22</td>\n",
              "      <td>535.0</td>\n",
              "      <td>40.651476</td>\n",
              "    </tr>\n",
              "    <tr>\n",
              "      <th>35</th>\n",
              "      <td>97</td>\n",
              "      <td>549.0</td>\n",
              "      <td>25.899923</td>\n",
              "    </tr>\n",
              "    <tr>\n",
              "      <th>36</th>\n",
              "      <td>11</td>\n",
              "      <td>587.0</td>\n",
              "      <td>3.173962</td>\n",
              "    </tr>\n",
              "    <tr>\n",
              "      <th>37</th>\n",
              "      <td>59</td>\n",
              "      <td>644.0</td>\n",
              "      <td>37.301524</td>\n",
              "    </tr>\n",
              "    <tr>\n",
              "      <th>38</th>\n",
              "      <td>66</td>\n",
              "      <td>647.0</td>\n",
              "      <td>27.135285</td>\n",
              "    </tr>\n",
              "    <tr>\n",
              "      <th>39</th>\n",
              "      <td>53</td>\n",
              "      <td>677.0</td>\n",
              "      <td>20.382038</td>\n",
              "    </tr>\n",
              "    <tr>\n",
              "      <th>40</th>\n",
              "      <td>64</td>\n",
              "      <td>693.0</td>\n",
              "      <td>40.608991</td>\n",
              "    </tr>\n",
              "    <tr>\n",
              "      <th>41</th>\n",
              "      <td>35</td>\n",
              "      <td>710.0</td>\n",
              "      <td>78.589781</td>\n",
              "    </tr>\n",
              "    <tr>\n",
              "      <th>42</th>\n",
              "      <td>54</td>\n",
              "      <td>777.0</td>\n",
              "      <td>31.210211</td>\n",
              "    </tr>\n",
              "    <tr>\n",
              "      <th>43</th>\n",
              "      <td>27</td>\n",
              "      <td>880.0</td>\n",
              "      <td>14.279039</td>\n",
              "    </tr>\n",
              "  </tbody>\n",
              "</table>\n",
              "</div>\n",
              "      <button class=\"colab-df-convert\" onclick=\"convertToInteractive('df-3df92f67-5ec9-493e-834a-9c0823cc27fb')\"\n",
              "              title=\"Convert this dataframe to an interactive table.\"\n",
              "              style=\"display:none;\">\n",
              "        \n",
              "  <svg xmlns=\"http://www.w3.org/2000/svg\" height=\"24px\"viewBox=\"0 0 24 24\"\n",
              "       width=\"24px\">\n",
              "    <path d=\"M0 0h24v24H0V0z\" fill=\"none\"/>\n",
              "    <path d=\"M18.56 5.44l.94 2.06.94-2.06 2.06-.94-2.06-.94-.94-2.06-.94 2.06-2.06.94zm-11 1L8.5 8.5l.94-2.06 2.06-.94-2.06-.94L8.5 2.5l-.94 2.06-2.06.94zm10 10l.94 2.06.94-2.06 2.06-.94-2.06-.94-.94-2.06-.94 2.06-2.06.94z\"/><path d=\"M17.41 7.96l-1.37-1.37c-.4-.4-.92-.59-1.43-.59-.52 0-1.04.2-1.43.59L10.3 9.45l-7.72 7.72c-.78.78-.78 2.05 0 2.83L4 21.41c.39.39.9.59 1.41.59.51 0 1.02-.2 1.41-.59l7.78-7.78 2.81-2.81c.8-.78.8-2.07 0-2.86zM5.41 20L4 18.59l7.72-7.72 1.47 1.35L5.41 20z\"/>\n",
              "  </svg>\n",
              "      </button>\n",
              "      \n",
              "  <style>\n",
              "    .colab-df-container {\n",
              "      display:flex;\n",
              "      flex-wrap:wrap;\n",
              "      gap: 12px;\n",
              "    }\n",
              "\n",
              "    .colab-df-convert {\n",
              "      background-color: #E8F0FE;\n",
              "      border: none;\n",
              "      border-radius: 50%;\n",
              "      cursor: pointer;\n",
              "      display: none;\n",
              "      fill: #1967D2;\n",
              "      height: 32px;\n",
              "      padding: 0 0 0 0;\n",
              "      width: 32px;\n",
              "    }\n",
              "\n",
              "    .colab-df-convert:hover {\n",
              "      background-color: #E2EBFA;\n",
              "      box-shadow: 0px 1px 2px rgba(60, 64, 67, 0.3), 0px 1px 3px 1px rgba(60, 64, 67, 0.15);\n",
              "      fill: #174EA6;\n",
              "    }\n",
              "\n",
              "    [theme=dark] .colab-df-convert {\n",
              "      background-color: #3B4455;\n",
              "      fill: #D2E3FC;\n",
              "    }\n",
              "\n",
              "    [theme=dark] .colab-df-convert:hover {\n",
              "      background-color: #434B5C;\n",
              "      box-shadow: 0px 1px 3px 1px rgba(0, 0, 0, 0.15);\n",
              "      filter: drop-shadow(0px 1px 2px rgba(0, 0, 0, 0.3));\n",
              "      fill: #FFFFFF;\n",
              "    }\n",
              "  </style>\n",
              "\n",
              "      <script>\n",
              "        const buttonEl =\n",
              "          document.querySelector('#df-3df92f67-5ec9-493e-834a-9c0823cc27fb button.colab-df-convert');\n",
              "        buttonEl.style.display =\n",
              "          google.colab.kernel.accessAllowed ? 'block' : 'none';\n",
              "\n",
              "        async function convertToInteractive(key) {\n",
              "          const element = document.querySelector('#df-3df92f67-5ec9-493e-834a-9c0823cc27fb');\n",
              "          const dataTable =\n",
              "            await google.colab.kernel.invokeFunction('convertToInteractive',\n",
              "                                                     [key], {});\n",
              "          if (!dataTable) return;\n",
              "\n",
              "          const docLinkHtml = 'Like what you see? Visit the ' +\n",
              "            '<a target=\"_blank\" href=https://colab.research.google.com/notebooks/data_table.ipynb>data table notebook</a>'\n",
              "            + ' to learn more about interactive tables.';\n",
              "          element.innerHTML = '';\n",
              "          dataTable['output_type'] = 'display_data';\n",
              "          await google.colab.output.renderOutput(dataTable, element);\n",
              "          const docLink = document.createElement('div');\n",
              "          docLink.innerHTML = docLinkHtml;\n",
              "          element.appendChild(docLink);\n",
              "        }\n",
              "      </script>\n",
              "    </div>\n",
              "  </div>\n",
              "  "
            ]
          },
          "metadata": {},
          "execution_count": 30
        }
      ]
    },
    {
      "cell_type": "code",
      "execution_count": 31,
      "metadata": {
        "id": "u_UkE_ET9J7f",
        "colab": {
          "base_uri": "https://localhost:8080/"
        },
        "outputId": "7bc2420b-425b-4d06-ad0d-21fc583429f4"
      },
      "outputs": [
        {
          "output_type": "stream",
          "name": "stdout",
          "text": [
            "Looking in indexes: https://pypi.org/simple, https://us-python.pkg.dev/colab-wheels/public/simple/\n",
            "Collecting pycountry_convert\n",
            "  Using cached pycountry_convert-0.7.2-py3-none-any.whl (13 kB)\n",
            "Collecting pprintpp>=0.3.0 (from pycountry_convert)\n",
            "  Using cached pprintpp-0.4.0-py2.py3-none-any.whl (16 kB)\n",
            "Collecting pycountry>=16.11.27.1 (from pycountry_convert)\n",
            "  Using cached pycountry-22.3.5.tar.gz (10.1 MB)\n",
            "  Installing build dependencies ... \u001b[?25l\u001b[?25hdone\n",
            "  Getting requirements to build wheel ... \u001b[?25l\u001b[?25hdone\n",
            "  Preparing metadata (pyproject.toml) ... \u001b[?25l\u001b[?25hdone\n",
            "Requirement already satisfied: pytest>=3.4.0 in /usr/local/lib/python3.10/dist-packages (from pycountry_convert) (7.2.2)\n",
            "Collecting pytest-mock>=1.6.3 (from pycountry_convert)\n",
            "  Using cached pytest_mock-3.10.0-py3-none-any.whl (9.3 kB)\n",
            "Collecting pytest-cov>=2.5.1 (from pycountry_convert)\n",
            "  Downloading pytest_cov-4.0.0-py3-none-any.whl (21 kB)\n",
            "Collecting repoze.lru>=0.7 (from pycountry_convert)\n",
            "  Downloading repoze.lru-0.7-py3-none-any.whl (10 kB)\n",
            "Requirement already satisfied: wheel>=0.30.0 in /usr/local/lib/python3.10/dist-packages (from pycountry_convert) (0.40.0)\n",
            "Requirement already satisfied: setuptools in /usr/local/lib/python3.10/dist-packages (from pycountry>=16.11.27.1->pycountry_convert) (67.7.2)\n",
            "Requirement already satisfied: attrs>=19.2.0 in /usr/local/lib/python3.10/dist-packages (from pytest>=3.4.0->pycountry_convert) (23.1.0)\n",
            "Requirement already satisfied: iniconfig in /usr/local/lib/python3.10/dist-packages (from pytest>=3.4.0->pycountry_convert) (2.0.0)\n",
            "Requirement already satisfied: packaging in /usr/local/lib/python3.10/dist-packages (from pytest>=3.4.0->pycountry_convert) (23.1)\n",
            "Requirement already satisfied: pluggy<2.0,>=0.12 in /usr/local/lib/python3.10/dist-packages (from pytest>=3.4.0->pycountry_convert) (1.0.0)\n",
            "Requirement already satisfied: exceptiongroup>=1.0.0rc8 in /usr/local/lib/python3.10/dist-packages (from pytest>=3.4.0->pycountry_convert) (1.1.1)\n",
            "Requirement already satisfied: tomli>=1.0.0 in /usr/local/lib/python3.10/dist-packages (from pytest>=3.4.0->pycountry_convert) (2.0.1)\n",
            "Collecting coverage[toml]>=5.2.1 (from pytest-cov>=2.5.1->pycountry_convert)\n",
            "  Downloading coverage-7.2.5-cp310-cp310-manylinux_2_5_x86_64.manylinux1_x86_64.manylinux_2_17_x86_64.manylinux2014_x86_64.whl (228 kB)\n",
            "\u001b[2K     \u001b[90m━━━━━━━━━━━━━━━━━━━━━━━━━━━━━━━━━━━━━━━\u001b[0m \u001b[32m228.2/228.2 kB\u001b[0m \u001b[31m5.8 MB/s\u001b[0m eta \u001b[36m0:00:00\u001b[0m\n",
            "\u001b[?25hBuilding wheels for collected packages: pycountry\n",
            "  Building wheel for pycountry (pyproject.toml) ... \u001b[?25l\u001b[?25hdone\n",
            "  Created wheel for pycountry: filename=pycountry-22.3.5-py2.py3-none-any.whl size=10681832 sha256=7f68e1ddf76248620def7918085bda32fb1789d49d5c1402c54dac1633c6b8fb\n",
            "  Stored in directory: /root/.cache/pip/wheels/03/57/cc/290c5252ec97a6d78d36479a3c5e5ecc76318afcb241ad9dbe\n",
            "Successfully built pycountry\n",
            "Installing collected packages: repoze.lru, pprintpp, pycountry, coverage, pytest-mock, pytest-cov, pycountry_convert\n",
            "Successfully installed coverage-7.2.5 pprintpp-0.4.0 pycountry-22.3.5 pycountry_convert-0.7.2 pytest-cov-4.0.0 pytest-mock-3.10.0 repoze.lru-0.7\n"
          ]
        }
      ],
      "source": [
        "!pip install pycountry_convert "
      ]
    },
    {
      "cell_type": "code",
      "source": [
        "\n",
        "\n",
        "\n",
        "# libraries\n",
        "import numpy as np\n",
        "import pandas as pd\n",
        "import matplotlib.pyplot as plt\n",
        "\n",
        "# Step 1: Prepare Data\n",
        "df = team_buying_grouped.toPandas()\n",
        "\n",
        "# Reorder it based on values:\n",
        "ordered = df.sort_values(by='total_spending')\n",
        "my_range = range(1, len(df.index) + 1)\n",
        "\n",
        "# Create a color if the group is \"B\"\n",
        "my_color = np.where(ordered['total_spending'] == ordered['total_spending'].max(), 'orange', 'skyblue')\n",
        "my_size = np.where(ordered['total_spending'] == ordered['total_spending'].max(), 70, 30)\n",
        "\n",
        "fig = plt.figure(figsize=(16, 10), dpi=80, facecolor='w', edgecolor='k')\n",
        "\n",
        "# The bar plot\n",
        "plt.bar(x=my_range, height=ordered['total_spending'], color=my_color, alpha=0.4)\n",
        "\n",
        "plt.scatter(my_range, ordered['total_spending'], color=my_color, s=my_size, alpha=1)\n",
        "\n",
        "# Add title and axis names\n",
        "plt.xticks(my_range, ordered['teamId'])\n",
        "plt.title(\"Column Graph for Team With Highest Spendings\", loc='left')\n",
        "plt.xlabel('Team Id')\n",
        "plt.ylabel('Team Spendings')\n",
        "\n",
        "# Show the graph\n",
        "plt.show()"
      ],
      "metadata": {
        "colab": {
          "base_uri": "https://localhost:8080/",
          "height": 697
        },
        "id": "iTK77xnWd8CB",
        "outputId": "92928a79-1634-4022-81eb-b7a2e16b1c32"
      },
      "execution_count": 32,
      "outputs": [
        {
          "output_type": "display_data",
          "data": {
            "text/plain": [
              "<Figure size 1280x800 with 1 Axes>"
            ],
            "image/png": "[encoded data removed]"
          },
          "metadata": {}
        }
      ]
    },
    {
      "cell_type": "code",
      "execution_count": 33,
      "metadata": {
        "id": "OP8d24wo7j5e"
      },
      "outputs": [],
      "source": [
        "############# TEAM SPENDING WITH AGE GROUP\n",
        "team_user_buying = team_buying.alias(\"team_buying\").join(users.alias(\"users\"),\\\n",
        "                           f.col(\"team_buying.userId\") == f.col(\"users.userId\"),\"inner\")"
      ]
    },
    {
      "cell_type": "code",
      "execution_count": 34,
      "metadata": {
        "id": "wjWaSFGp9UVv",
        "colab": {
          "base_uri": "https://localhost:8080/"
        },
        "outputId": "7bcebec7-1f00-4d69-8e81-95e3b5bfa7f0"
      },
      "outputs": [
        {
          "output_type": "stream",
          "name": "stdout",
          "text": [
            "+------+-----------+-------------------+-------------------+---------------+------------+-------------------+----+-------------+----+------+-----+-----+-------------------+------+----------+----------+----------+-------+-------------+\n",
            "|teamId|       name|   teamCreationTime|        teamEndTime|       strength|currentLevel|          timestamp|txId|userSessionId|team|userId|buyId|price|          timestamp|userId|      nick|   twitter|       dob|country|    continent|\n",
            "+------+-----------+-------------------+-------------------+---------------+------------+-------------------+----+-------------+----+------+-----+-----+-------------------+------+----------+----------+----------+-------+-------------+\n",
            "|     9|  pDG2bAh8T|2016-06-13 17:39:55|9999-12-31 23:59:59| 0.952175553216|           1|2016-05-26 15:36:54|6004|         5820|   9|  1300|    2|  3.0|2013-12-01 09:30:47|  1300|   2hh0NNM|  @RY1URF2|1998-05-06|     GR|       Europe|\n",
            "|    35|b3PqpjmZ6TT|2016-06-14 02:08:07|9999-12-31 23:59:59| 0.836061494696|           1|2016-05-26 15:36:54|6005|         5775|  35|   868|    4| 10.0|2016-06-02 03:34:07|   868|    aS4OMV| @vVu0R8P1|1984-06-01|     CX|         Asia|\n",
            "|    97|     LjcMqQ|2016-06-14 09:53:46|9999-12-31 23:59:59| 0.340788463107|           1|2016-05-26 15:36:54|6006|         5679|  97|   819|    5| 20.0|2013-04-20 12:40:52|   819|  xtzD469v|  @RempL28|1979-11-02|     AR|South America|\n",
            "|    18|  VpF5Lrtz7|2016-06-13 12:23:36|9999-12-31 23:59:59| 0.885469892018|           1|2016-05-26 16:36:54|6067|         5665|  18|   121|    2|  3.0|2015-07-19 00:29:29|   121|  gzrwXVUd|  @4MNadvF|1964-10-04|     UY|South America|\n",
            "|    11|R5SYibpiHpE|2016-06-15 05:38:15|9999-12-31 23:59:59|0.0495931577569|           1|2016-05-26 17:06:54|6093|         5709|  11|  2222|    5| 20.0|2016-04-30 16:05:51|  2222|  hYk0fs5a|  @9IdVVDV|1974-03-03|     BF|       Africa|\n",
            "|    77|   U96mANQ8|2016-06-16 10:00:06|9999-12-31 23:59:59| 0.793839493486|           1|2016-05-26 17:06:54|6094|         5798|  77|  1304|    5| 20.0|2013-08-23 19:32:47|  1304|   xv4Csoi|@6WZbE0bme|1996-04-26|     AQ|         None|\n",
            "|     9|  pDG2bAh8T|2016-06-13 17:39:55|9999-12-31 23:59:59| 0.952175553216|           1|2016-05-26 18:06:54|6155|         5920|   9|  1027|    5| 20.0|2014-01-31 04:55:04|  1027|  BtEYpQcB|  @gU6A6AB|1956-07-04|     GD|North America|\n",
            "|    35|b3PqpjmZ6TT|2016-06-14 02:08:07|9999-12-31 23:59:59| 0.836061494696|           1|2016-05-26 18:06:54|6156|         5697|  35|  2199|    2|  3.0|2014-08-26 05:19:22|  2199|    JBPZZb|@u6yOOu0vJ|1989-02-24|     HR|       Europe|\n",
            "|    64|gjaVPd9DE2P|2016-06-15 03:44:35|9999-12-31 23:59:59| 0.406089913506|           1|2016-05-26 18:36:54|6183|         5893|  64|  1544|    5| 20.0|2015-05-28 20:57:48|  1544|   YiTBCKk|  @7X7lBXy|1990-09-08|     AI|North America|\n",
            "|    35|b3PqpjmZ6TT|2016-06-14 02:08:07|9999-12-31 23:59:59| 0.836061494696|           1|2016-05-26 18:36:54|6184|         5697|  35|  2199|    1|  2.0|2014-08-26 05:19:22|  2199|    JBPZZb|@u6yOOu0vJ|1989-02-24|     HR|       Europe|\n",
            "|    13|   cz8t6Wli|2016-06-16 08:54:54|9999-12-31 23:59:59| 0.885665267397|           1|2016-05-26 19:36:54|6243|         5659|  13|  1623|    4| 10.0|2013-11-30 20:39:19|  1623|    L6fCuA|    @EIqID|1947-11-02|     SV|North America|\n",
            "|     9|  pDG2bAh8T|2016-06-13 17:39:55|9999-12-31 23:59:59| 0.952175553216|           1|2016-05-26 19:36:54|6244|         5920|   9|  1027|    3|  5.0|2014-01-31 04:55:04|  1027|  BtEYpQcB|  @gU6A6AB|1956-07-04|     GD|North America|\n",
            "|    27|    87oPQXq|2016-06-14 16:24:14|9999-12-31 23:59:59| 0.141376627543|           1|2016-05-26 20:06:54|6269|         5785|  27|  1065|    5| 20.0|2012-07-20 10:20:22|  1065|    hOs5Cp|  @DFkyp5o|1992-07-26|     SM|       Europe|\n",
            "|    63|    eJWo4Fd|2016-06-15 22:52:38|9999-12-31 23:59:59| 0.659738471721|           1|2016-05-26 20:06:54|6270|         5661|  63|    83|    3|  5.0|2015-06-29 09:10:33|    83|yswe05OJem|    @2TIpG|1987-09-04|     GF|South America|\n",
            "|     9|  pDG2bAh8T|2016-06-13 17:39:55|9999-12-31 23:59:59| 0.952175553216|           1|2016-05-26 20:06:54|6271|         5706|   9|  1652|    0|  1.0|2014-03-30 02:59:53|  1652| lwGwd4ZVy|   @D6QUot|1960-07-11|     UG|       Africa|\n",
            "|     2|ef8SlZSnjqq|2016-06-14 07:23:05|9999-12-31 23:59:59| 0.146636553695|           1|2016-05-26 20:36:54|6292|         5921|   2|   518|    0|  1.0|2013-06-08 15:58:33|   518|   dui0qxE|  @7PTvD7P|1993-08-11|     ZA|       Africa|\n",
            "|    57|     zu8iuz|2016-06-15 17:50:52|9999-12-31 23:59:59|0.0859900712952|           1|2016-05-26 21:06:54|6327|         5860|  57|  2221|    5| 20.0|2016-04-22 20:59:23|  2221|   C4PhXaQ|   @htgJEK|1984-10-30|     BE|       Europe|\n",
            "|    32|    lFjyoVh|2016-06-13 14:51:16|9999-12-31 23:59:59| 0.276723269022|           1|2016-05-26 22:06:54|6394|         6088|  32|  1815|    2|  3.0|2013-01-09 09:30:33|  1815| j8d2xUcpY| @E2hJQ5CK|1988-11-28|     DE|       Europe|\n",
            "|    35|b3PqpjmZ6TT|2016-06-14 02:08:07|9999-12-31 23:59:59| 0.836061494696|           1|2016-05-26 22:06:54|6395|         5880|  35|  2146|    1|  2.0|2015-01-20 08:10:56|  2146|   F2u9T9T|@C0nXs4GX0|1967-06-14|     SV|North America|\n",
            "|    77|   U96mANQ8|2016-06-16 10:00:06|9999-12-31 23:59:59| 0.793839493486|           1|2016-05-26 22:36:54|6411|         6230|  77|  1457|    0|  1.0|2016-01-06 06:49:52|  1457|    AV186d|@lZ8bJ2za2|1960-04-10|     CC|         Asia|\n",
            "+------+-----------+-------------------+-------------------+---------------+------------+-------------------+----+-------------+----+------+-----+-----+-------------------+------+----------+----------+----------+-------+-------------+\n",
            "only showing top 20 rows\n",
            "\n"
          ]
        }
      ],
      "source": [
        "from pycountry_convert import country_alpha2_to_continent_code, convert_continent_code_to_continent_name\n",
        "from pyspark.sql.types import StringType\n",
        "from pyspark.sql.functions import udf, col\n",
        "\n",
        "def country_to_continent(country_name):\n",
        "    try:\n",
        "        country_continent_code = country_alpha2_to_continent_code(country_name)\n",
        "        country_continent_name = convert_continent_code_to_continent_name(country_continent_code)\n",
        "        return country_continent_name\n",
        "    except KeyError:\n",
        "        return \"None\"\n",
        "\n",
        "udf_country_to_continent = udf(country_to_continent, StringType())\n",
        "team_user_buying = team_user_buying.withColumn(\"continent\", udf_country_to_continent(col(\"country\")))\n",
        "\n",
        "team_user_buying.show()"
      ]
    },
    {
      "cell_type": "code",
      "execution_count": 37,
      "metadata": {
        "id": "CGp8dBV9JK_Q",
        "colab": {
          "base_uri": "https://localhost:8080/",
          "height": 356
        },
        "outputId": "a04a6f54-bac5-4a3c-a5cf-04b00f90cb72"
      },
      "outputs": [
        {
          "output_type": "error",
          "ename": "TypeError",
          "evalue": "ignored",
          "traceback": [
            "\u001b[0;31m---------------------------------------------------------------------------\u001b[0m",
            "\u001b[0;31mTypeError\u001b[0m                                 Traceback (most recent call last)",
            "\u001b[0;32m<ipython-input-37-babca62bac01>\u001b[0m in \u001b[0;36m<cell line: 10>\u001b[0;34m()\u001b[0m\n\u001b[1;32m     14\u001b[0m     \u001b[0mf\u001b[0m\u001b[0;34m.\u001b[0m\u001b[0mmax\u001b[0m\u001b[0;34m(\u001b[0m\u001b[0;34m'price'\u001b[0m\u001b[0;34m)\u001b[0m\u001b[0;34m.\u001b[0m\u001b[0malias\u001b[0m\u001b[0;34m(\u001b[0m\u001b[0;34m'price_max'\u001b[0m\u001b[0;34m)\u001b[0m\u001b[0;34m\u001b[0m\u001b[0;34m\u001b[0m\u001b[0m\n\u001b[1;32m     15\u001b[0m ).join(total_spending, on=\"continent\") \\\n\u001b[0;32m---> 16\u001b[0;31m  \u001b[0;34m.\u001b[0m\u001b[0mwithColumn\u001b[0m\u001b[0;34m(\u001b[0m\u001b[0;34m'total'\u001b[0m\u001b[0;34m,\u001b[0m\u001b[0msum\u001b[0m\u001b[0;34m(\u001b[0m\u001b[0mf\u001b[0m\u001b[0;34m.\u001b[0m\u001b[0mcol\u001b[0m\u001b[0;34m(\u001b[0m\u001b[0;34m'spending_count'\u001b[0m\u001b[0;34m)\u001b[0m\u001b[0;34m)\u001b[0m\u001b[0;34m.\u001b[0m\u001b[0mover\u001b[0m\u001b[0;34m(\u001b[0m\u001b[0mwindow\u001b[0m\u001b[0;34m)\u001b[0m\u001b[0;34m)\u001b[0m\u001b[0;34m.\u001b[0m\u001b[0;31m\\\u001b[0m\u001b[0;34m\u001b[0m\u001b[0;34m\u001b[0m\u001b[0m\n\u001b[0m\u001b[1;32m     17\u001b[0m   \u001b[0mwithColumn\u001b[0m\u001b[0;34m(\u001b[0m\u001b[0;34m'Percent'\u001b[0m\u001b[0;34m,\u001b[0m\u001b[0mf\u001b[0m\u001b[0;34m.\u001b[0m\u001b[0mcol\u001b[0m\u001b[0;34m(\u001b[0m\u001b[0;34m'spending_count'\u001b[0m\u001b[0;34m)\u001b[0m\u001b[0;34m*\u001b[0m\u001b[0;36m100\u001b[0m\u001b[0;34m/\u001b[0m\u001b[0mf\u001b[0m\u001b[0;34m.\u001b[0m\u001b[0mcol\u001b[0m\u001b[0;34m(\u001b[0m\u001b[0;34m'total'\u001b[0m\u001b[0;34m)\u001b[0m\u001b[0;34m)\u001b[0m\u001b[0;34m\u001b[0m\u001b[0;34m\u001b[0m\u001b[0m\n\u001b[1;32m     18\u001b[0m \u001b[0;34m\u001b[0m\u001b[0m\n",
            "\u001b[0;32m/usr/local/lib/python3.10/dist-packages/pyspark/sql/column.py\u001b[0m in \u001b[0;36m__iter__\u001b[0;34m(self)\u001b[0m\n\u001b[1;32m    708\u001b[0m \u001b[0;34m\u001b[0m\u001b[0m\n\u001b[1;32m    709\u001b[0m     \u001b[0;32mdef\u001b[0m \u001b[0m__iter__\u001b[0m\u001b[0;34m(\u001b[0m\u001b[0mself\u001b[0m\u001b[0;34m)\u001b[0m \u001b[0;34m->\u001b[0m \u001b[0;32mNone\u001b[0m\u001b[0;34m:\u001b[0m\u001b[0;34m\u001b[0m\u001b[0;34m\u001b[0m\u001b[0m\n\u001b[0;32m--> 710\u001b[0;31m         \u001b[0;32mraise\u001b[0m \u001b[0mTypeError\u001b[0m\u001b[0;34m(\u001b[0m\u001b[0;34m\"Column is not iterable\"\u001b[0m\u001b[0;34m)\u001b[0m\u001b[0;34m\u001b[0m\u001b[0;34m\u001b[0m\u001b[0m\n\u001b[0m\u001b[1;32m    711\u001b[0m \u001b[0;34m\u001b[0m\u001b[0m\n\u001b[1;32m    712\u001b[0m     \u001b[0;31m# string methods\u001b[0m\u001b[0;34m\u001b[0m\u001b[0;34m\u001b[0m\u001b[0m\n",
            "\u001b[0;31mTypeError\u001b[0m: Column is not iterable"
          ]
        }
      ],
      "source": [
        "\n",
        "\n",
        "from pyspark.sql.functions import format_number\n",
        "from pyspark.sql.window import Window\n",
        "from pyspark.sql import functions as f\n",
        "from pyspark.sql.functions import col\n",
        "\n",
        "# Calculate total spending per continent\n",
        "total_spending = team_user_buying.groupby(\"continent\").agg(f.sum('price').alias('total_spending'))\n",
        "\n",
        "# Calculate statistics and percentage\n",
        "team_user_buying_stat = team_user_buying.groupby(\"continent\").agg(\n",
        "    f.sum('price').alias('spending_count'),\n",
        "    f.mean('price').alias('price_avg'),\n",
        "    f.min('price').alias('price_min'),\n",
        "    f.max('price').alias('price_max')\n",
        ").join(total_spending, on=\"continent\") \\\n",
        " .withColumn('total',sum(f.col('spending_count')).over(window)).\\\n",
        "  withColumn('Percent',f.col('spending_count')*100/f.col('total'))\n",
        "\n",
        "\n",
        "team_user_buying_stat = team_user_buying_stat.orderBy(col(\"spending_count\").desc())\n",
        "team_user_buying_stat.show()\n",
        "\n",
        "\n"
      ]
    },
    {
      "cell_type": "code",
      "source": [
        "!pip install squarify \n"
      ],
      "metadata": {
        "colab": {
          "base_uri": "https://localhost:8080/"
        },
        "id": "Nzkuyrdrtjl0",
        "outputId": "1c1ee487-b020-4c71-d6cc-d5585a0cec58"
      },
      "execution_count": 38,
      "outputs": [
        {
          "output_type": "stream",
          "name": "stdout",
          "text": [
            "Looking in indexes: https://pypi.org/simple, https://us-python.pkg.dev/colab-wheels/public/simple/\n",
            "Collecting squarify\n",
            "  Downloading squarify-0.4.3-py3-none-any.whl (4.3 kB)\n",
            "Installing collected packages: squarify\n",
            "Successfully installed squarify-0.4.3\n"
          ]
        }
      ]
    },
    {
      "cell_type": "code",
      "source": [
        "!pip install pywaffle"
      ],
      "metadata": {
        "colab": {
          "base_uri": "https://localhost:8080/"
        },
        "id": "8CgnD3m34Gue",
        "outputId": "ccfb52cd-f1a7-4b21-bd8a-ffd3b351eeac"
      },
      "execution_count": null,
      "outputs": [
        {
          "output_type": "stream",
          "name": "stdout",
          "text": [
            "Looking in indexes: https://pypi.org/simple, https://us-python.pkg.dev/colab-wheels/public/simple/\n",
            "Requirement already satisfied: pywaffle in /usr/local/lib/python3.10/dist-packages (1.1.0)\n",
            "Requirement already satisfied: fontawesomefree in /usr/local/lib/python3.10/dist-packages (from pywaffle) (6.4.0)\n",
            "Requirement already satisfied: matplotlib in /usr/local/lib/python3.10/dist-packages (from pywaffle) (3.7.1)\n",
            "Requirement already satisfied: contourpy>=1.0.1 in /usr/local/lib/python3.10/dist-packages (from matplotlib->pywaffle) (1.0.7)\n",
            "Requirement already satisfied: cycler>=0.10 in /usr/local/lib/python3.10/dist-packages (from matplotlib->pywaffle) (0.11.0)\n",
            "Requirement already satisfied: fonttools>=4.22.0 in /usr/local/lib/python3.10/dist-packages (from matplotlib->pywaffle) (4.39.3)\n",
            "Requirement already satisfied: kiwisolver>=1.0.1 in /usr/local/lib/python3.10/dist-packages (from matplotlib->pywaffle) (1.4.4)\n",
            "Requirement already satisfied: numpy>=1.20 in /usr/local/lib/python3.10/dist-packages (from matplotlib->pywaffle) (1.22.4)\n",
            "Requirement already satisfied: packaging>=20.0 in /usr/local/lib/python3.10/dist-packages (from matplotlib->pywaffle) (23.1)\n",
            "Requirement already satisfied: pillow>=6.2.0 in /usr/local/lib/python3.10/dist-packages (from matplotlib->pywaffle) (8.4.0)\n",
            "Requirement already satisfied: pyparsing>=2.3.1 in /usr/local/lib/python3.10/dist-packages (from matplotlib->pywaffle) (3.0.9)\n",
            "Requirement already satisfied: python-dateutil>=2.7 in /usr/local/lib/python3.10/dist-packages (from matplotlib->pywaffle) (2.8.2)\n",
            "Requirement already satisfied: six>=1.5 in /usr/local/lib/python3.10/dist-packages (from python-dateutil>=2.7->matplotlib->pywaffle) (1.16.0)\n"
          ]
        }
      ]
    },
    {
      "cell_type": "code",
      "source": [
        "import matplotlib.pyplot as plt\n",
        "import squarify    # pip install squarify (algorithm for treemap)\n",
        "import pandas as pd\n",
        "\n",
        "\n",
        "# Get dataframe continent & Percent columns as list\n",
        "labels = list(team_user_buying_stat.toPandas()[\"continent\"])\n",
        "sizes =  list(team_user_buying_stat.toPandas()[\"Percent\"])\n",
        "\n",
        "perc = [f'{i/team_user_buying_stat.toPandas()[\"Percent\"].sum()*100:5.2f}%' for i in team_user_buying_stat.toPandas()[\"Percent\"]]\n",
        "lbl = [f'{el[0]} = {el[1]}' for el in zip(team_user_buying_stat.toPandas()[\"continent\"], perc)]\n",
        "\n",
        "# select colors\n",
        "colors = plt.cm.tab20c.colors[:len(labels)]\n",
        "# plot it\n",
        "plt.figure(figsize=(16,8), dpi= 80)\n",
        "squarify.plot(sizes=sizes, label=lbl, color=colors ,alpha=.8 )\n",
        "plt.title('Continental Treemap of high  purchase ')\n",
        "plt.axis('off')\n",
        "plt.show()\n"
      ],
      "metadata": {
        "colab": {
          "base_uri": "https://localhost:8080/",
          "height": 542
        },
        "id": "xeXsbP4Z2ks3",
        "outputId": "20a345dc-0f90-4047-aae5-79a619487e26"
      },
      "execution_count": null,
      "outputs": [
        {
          "output_type": "display_data",
          "data": {
            "text/plain": [
              "<Figure size 1280x640 with 1 Axes>"
            ],
            "image/png": "[encoded data removed]"
          },
          "metadata": {}
        }
      ]
    },
    {
      "cell_type": "code",
      "execution_count": null,
      "metadata": {
        "id": "GB1ETy8gMTEY",
        "colab": {
          "base_uri": "https://localhost:8080/"
        },
        "outputId": "875abf29-48de-4853-f5a8-3e3c7ba74ab1"
      },
      "outputs": [
        {
          "output_type": "stream",
          "name": "stdout",
          "text": [
            "+-------------+--------------+------------------+---------+---------+--------------+-------+------------------+\n",
            "|    continent|spending_count|         price_avg|price_min|price_max|total_spending|  total|           Percent|\n",
            "+-------------+--------------+------------------+---------+---------+--------------+-------+------------------+\n",
            "|       Africa|        3889.0| 7.282771535580524|      1.0|     20.0|        3889.0|16576.0|23.461631274131275|\n",
            "|         Asia|        3426.0| 6.704500978473582|      1.0|     20.0|        3426.0|16576.0|20.668436293436294|\n",
            "|       Europe|        2974.0| 7.548223350253807|      1.0|     20.0|        2974.0|16576.0|17.941602316602317|\n",
            "|North America|        2726.0| 7.593314763231198|      1.0|     20.0|        2726.0|16576.0|16.445463320463322|\n",
            "|South America|        1416.0|10.114285714285714|      1.0|     20.0|        1416.0|16576.0| 8.542471042471043|\n",
            "|      Oceania|        1410.0| 5.802469135802469|      1.0|     20.0|        1410.0|16576.0|  8.50627413127413|\n",
            "|         None|         684.0|              11.4|      1.0|     20.0|         684.0|16576.0| 4.126447876447877|\n",
            "|   Antarctica|          51.0|             2.125|      1.0|     10.0|          51.0|16576.0|0.3076737451737452|\n",
            "+-------------+--------------+------------------+---------+---------+--------------+-------+------------------+\n",
            "\n"
          ]
        }
      ],
      "source": [
        "team_user_buying_stat.show()"
      ]
    },
    {
      "cell_type": "code",
      "source": [
        "import matplotlib.pyplot as plt\n",
        "\n",
        "labels = list(team_user_buying_stat.toPandas()[\"continent\"])\n",
        "sizes = list(team_user_buying_stat.toPandas()[\"Percent\"])\n",
        "\n",
        "\n",
        "colors = ['gold', 'yellowgreen', 'lightcoral', 'blue', 'lightskyblue', 'green', 'red', 'brown']\n",
        "\n",
        "# Plot\n",
        "fig, ax = plt.subplots(figsize=(10, 8))\n",
        "\n",
        "wedges, text, autotext = ax.pie(sizes, explode=explode, labels=labels, colors=colors,\n",
        "                                autopct='%1.1f%%', shadow=True, startangle=140, wedgeprops={'edgecolor': 'white'})\n",
        "\n",
        "plt.setp(autotext, size=10, weight='bold')\n",
        "ax.set_title(\"Donut Chart of High Spending Continents\")\n",
        "\n",
        "# Draw a white circle at the center to create a donut chart\n",
        "center_circle = plt.Circle((0, 0), 0.70, fc='white')\n",
        "fig.gca().add_artist(center_circle)\n",
        "\n",
        "plt.axis('equal')\n",
        "plt.show()\n"
      ],
      "metadata": {
        "id": "j4_5C6Qj5Uf6",
        "colab": {
          "base_uri": "https://localhost:8080/",
          "height": 679
        },
        "outputId": "4080758c-31dc-42b8-e355-1eb20963185c"
      },
      "execution_count": null,
      "outputs": [
        {
          "output_type": "display_data",
          "data": {
            "text/plain": [
              "<Figure size 1000x800 with 1 Axes>"
            ],
            "image/png": "[encoded data removed]"
          },
          "metadata": {}
        }
      ]
    },
    {
      "cell_type": "code",
      "source": [
        "import matplotlib.pyplot as plt\n",
        "import pyspark.sql.functions as f\n",
        "\n",
        "adclicks = spark.read.csv(\"/content/ad-clicks.csv\", header=True, inferSchema=True)\n",
        "\n",
        "adclicks.show()\n",
        "\n",
        "# Format the timestamp column in the DataFrame and group by the formatted column\n",
        "adclicks_grouped = adclicks.withColumn(\"month\", f.date_format(adclicks.timestamp, 'yyyy-MM-dd')) \\\n",
        "    .groupBy(\"month\") \\\n",
        "    .count() \\\n",
        "    .orderBy(\"count\")\n",
        "\n",
        "# Convert the result to Pandas DataFrame for visualization\n",
        "adclicks_df = adclicks_grouped.toPandas()\n",
        "\n",
        "# Create a bar chart\n",
        "plt.figure(figsize=(12, 6))\n",
        "plt.bar(adclicks_df[\"month\"], adclicks_df[\"count\"])\n",
        "plt.xlabel(\"Days\")\n",
        "plt.ylabel(\"Ads Clicked\")\n",
        "plt.title(\"Number of Ads Clicked per Day\")\n",
        "plt.xticks(rotation=45)\n",
        "plt.tight_layout()\n",
        "plt.show()\n"
      ],
      "metadata": {
        "colab": {
          "base_uri": "https://localhost:8080/",
          "height": 1000
        },
        "id": "9ZuVs7XUAb92",
        "outputId": "818328a8-41e0-491f-e104-30c634f2700b"
      },
      "execution_count": 39,
      "outputs": [
        {
          "output_type": "stream",
          "name": "stdout",
          "text": [
            "+-------------------+----+-------------+------+------+----+-----------+\n",
            "|          timestamp|txId|userSessionId|teamId|userId|adId| adCategory|\n",
            "+-------------------+----+-------------+------+------+----+-----------+\n",
            "|2016-05-26 15:13:22|5974|         5809|    27|   611|   2|electronics|\n",
            "|2016-05-26 15:17:24|5976|         5705|    18|  1874|  21|     movies|\n",
            "|2016-05-26 15:22:52|5978|         5791|    53|  2139|  25|  computers|\n",
            "|2016-05-26 15:22:57|5973|         5756|    63|   212|  10|    fashion|\n",
            "|2016-05-26 15:22:58|5980|         5920|     9|  1027|  20|   clothing|\n",
            "|2016-05-26 15:27:19|5977|         5954|    77|   595|   4|      games|\n",
            "|2016-05-26 15:28:51|5981|         5674|    54|   770|   6|     movies|\n",
            "|2016-05-26 15:35:25|5975|         5919|    59|  2133|   3|electronics|\n",
            "|2016-05-26 15:35:37|5979|         5945|    75|   253|   3|electronics|\n",
            "|2016-05-26 15:36:38|5972|         5914|    78|  1821|  12|  computers|\n",
            "|2016-05-26 15:38:42|6000|         5955|    64|  2009|  17|      games|\n",
            "|2016-05-26 15:41:43|6001|         5892|    53|  1538|  21|     movies|\n",
            "|2016-05-26 15:43:10|5999|         5705|    18|  1874|   3|electronics|\n",
            "|2016-05-26 15:48:11|6002|         5702|    20|   355|  29| automotive|\n",
            "|2016-05-26 16:00:42|6003|         5920|     9|  1027|   0|     sports|\n",
            "|2016-05-26 16:01:01|5998|         5892|    53|  1538|  25|  computers|\n",
            "|2016-05-26 16:07:24|6031|         5938|    11|  1155|   2|electronics|\n",
            "|2016-05-26 16:08:08|6037|         5711|    18|   128|  23|    fashion|\n",
            "|2016-05-26 16:08:35|6040|         5945|    75|   253|  11|      games|\n",
            "|2016-05-26 16:17:31|6035|         5886|    64|    68|   2|electronics|\n",
            "+-------------------+----+-------------+------+------+----+-----------+\n",
            "only showing top 20 rows\n",
            "\n"
          ]
        },
        {
          "output_type": "display_data",
          "data": {
            "text/plain": [
              "<Figure size 1200x600 with 1 Axes>"
            ],
            "image/png": "[encoded data removed]"
          },
          "metadata": {}
        }
      ]
    },
    {
      "cell_type": "code",
      "source": [
        "\n",
        "import seaborn as sns\n",
        "import pyspark.sql.functions as f\n",
        "import matplotlib.pyplot as plt\n",
        "\n",
        "adclicks = spark.read.csv(\"/content/ad-clicks.csv\", header=True, inferSchema=True)\n",
        "adclicks_stat = adclicks.groupBy(\"adCategory\").agg(f.count(\"adCategory\").alias(\"count\")).orderBy(\"count\").toPandas()\n",
        "\n",
        "# Generate custom colors\n",
        "colors = sns.color_palette('Blues', len(adclicks_stat))\n",
        "\n",
        "# Plot horizontal bars\n",
        "plt.figure(figsize=(12, 8))\n",
        "plt.barh(adclicks_stat['adCategory'], adclicks_stat['count'], color=colors)\n",
        "\n",
        "plt.title(\"Top  Ad_Genre\", fontsize=22)\n",
        "plt.xlabel('Ad Count')\n",
        "plt.ylabel('Ad Type')\n",
        "\n",
        "# Customize tick labels\n",
        "plt.xticks(fontsize=10)\n",
        "plt.yticks(fontsize=10)\n",
        "\n",
        "# Add data labels\n",
        "for i, count in enumerate(adclicks_stat['count']):\n",
        "    plt.text(count, i, str(count), va='center')\n",
        "\n",
        "plt.show()\n",
        "\n"
      ],
      "metadata": {
        "colab": {
          "base_uri": "https://localhost:8080/",
          "height": 727
        },
        "id": "XBv1xh7dizma",
        "outputId": "4ce1de65-84fb-4a43-9441-9a3226f3b7a7"
      },
      "execution_count": null,
      "outputs": [
        {
          "output_type": "display_data",
          "data": {
            "text/plain": [
              "<Figure size 1200x800 with 1 Axes>"
            ],
            "image/png": "[encoded data removed]"
          },
          "metadata": {}
        }
      ]
    },
    {
      "cell_type": "code",
      "source": [
        "\n",
        "################# GET DEVICE TOTAL + PERCENTAGE + INDIVIDUAL PLATFORM\n",
        "\n",
        "window = Window.rowsBetween(Window.unboundedPreceding,Window.unboundedFollowing)\n",
        "\n",
        "user_session = spark.read.csv(\"/content/user-session.csv\", header=True, inferSchema=True)\n",
        "platform_usage_stats = user_session.groupBy(\"platformType\").agg(f.mean(\"teamLevel\").alias(\"average_rank\"), \n",
        "                                            f.count(\"platformType\").alias(\"total_platform_count\"))\\\n",
        "                                            .orderBy(\"average_rank\")\\\n",
        "                                            .withColumn('total',sum(f.col('total_platform_count')).over(window))\\\n",
        "                                            .withColumn('Percent',f.col('total_platform_count')*100/f.col('total'))\\\n",
        "                                            .orderBy(f.col(\"Percent\").desc())\n",
        "\n",
        "\n",
        "platform_usage_stats.show()"
      ],
      "metadata": {
        "colab": {
          "base_uri": "https://localhost:8080/"
        },
        "id": "Y5DeWqmD8a-t",
        "outputId": "76d21490-acfe-4bd8-9319-44acd98882ce"
      },
      "execution_count": null,
      "outputs": [
        {
          "output_type": "stream",
          "name": "stdout",
          "text": [
            "+------------+-----------------+--------------------+-----+------------------+\n",
            "|platformType|     average_rank|total_platform_count|total|           Percent|\n",
            "+------------+-----------------+--------------------+-----+------------------+\n",
            "|      iphone|4.349509550851833|                3874| 9250| 41.88108108108108|\n",
            "|     android|4.388515577275504|                3274| 9250|35.394594594594594|\n",
            "|     windows|4.364516129032258|                1240| 9250|13.405405405405405|\n",
            "|       linux|4.182539682539683|                 504| 9250| 5.448648648648649|\n",
            "|         mac|4.379888268156424|                 358| 9250|3.8702702702702703|\n",
            "+------------+-----------------+--------------------+-----+------------------+\n",
            "\n"
          ]
        }
      ]
    },
    {
      "cell_type": "code",
      "execution_count": null,
      "metadata": {
        "id": "GdLFfgdk_ppu",
        "colab": {
          "base_uri": "https://localhost:8080/",
          "height": 677
        },
        "outputId": "20a69839-d9d4-46cf-c620-9b406c7db3d5"
      },
      "outputs": [
        {
          "output_type": "display_data",
          "data": {
            "text/plain": [
              "<Figure size 1000x800 with 1 Axes>"
            ],
            "image/png": "[encoded data removed]"
          },
          "metadata": {}
        }
      ],
      "source": [
        "import matplotlib.pyplot as plt\n",
        "import seaborn as sns\n",
        "import numpy as np\n",
        "\n",
        "# Read the data\n",
        "user_session = spark.read.csv(\"/content/user-session.csv\", header=True, inferSchema=True)\n",
        "\n",
        "# Compute platform usage statistics\n",
        "platform_usage_stats = user_session.groupBy(\"platformType\").agg(\n",
        "    f.mean(\"teamLevel\").alias(\"average_rank\"),\n",
        "    f.count(\"platformType\").alias(\"total_platform_count\")\n",
        ").orderBy(\"average_rank\")\n",
        "\n",
        "# Get labels and sizes\n",
        "labels = list(platform_usage_stats.toPandas()[\"platformType\"])\n",
        "sizes = list(platform_usage_stats.toPandas()[\"total_platform_count\"])\n",
        "\n",
        "# Define custom colors\n",
        "custom_colors = sns.color_palette(\"coolwarm\", len(labels))\n",
        "\n",
        "# Create a figure and axes\n",
        "fig, ax = plt.subplots(figsize=(10, 8))\n",
        "\n",
        "# Plot the pie chart\n",
        "_, texts, autotexts = ax.pie(sizes, labels=labels, colors=custom_colors,\n",
        "                             autopct='%1.1f%%', shadow=True, startangle=140)\n",
        "\n",
        "# Customize text and autotext appearance\n",
        "for text in texts:\n",
        "    text.set_fontsize(12)\n",
        "    text.set_fontweight(\"bold\")\n",
        "\n",
        "for autotext in autotexts:\n",
        "    autotext.set_fontsize(12)\n",
        "    autotext.set_fontweight(\"bold\")\n",
        "    autotext.set_color(\"white\")\n",
        "\n",
        "# Add a circle in the center\n",
        "my_circle = plt.Circle((0, 0), 0.7, color=\"white\")\n",
        "ax.add_artist(my_circle)\n",
        "\n",
        "# Set equal aspect ratio\n",
        "ax.axis('equal')\n",
        "\n",
        "plt.title(\"Device Usage Distribution\", fontsize=16, fontweight=\"bold\")\n",
        "\n",
        "plt.show()\n",
        "\n",
        "\n"
      ]
    },
    {
      "cell_type": "code",
      "execution_count": 40,
      "metadata": {
        "id": "v97c0kfE4mF5",
        "colab": {
          "base_uri": "https://localhost:8080/",
          "height": 573
        },
        "outputId": "dc5f7550-4d66-4830-c455-9732ce591e4e"
      },
      "outputs": [
        {
          "output_type": "display_data",
          "data": {
            "text/plain": [
              "<Figure size 1600x600 with 2 Axes>"
            ],
            "image/png": "[encoded data removed]"
          },
          "metadata": {}
        }
      ],
      "source": [
        "import matplotlib.pyplot as plt\n",
        "import seaborn as sns\n",
        "import pandas as pd\n",
        "\n",
        "team_assigments = spark.read.csv(\"/content/team-assignments.csv\", header=True, inferSchema=True)\n",
        "\n",
        "team_assigment_stats = team_assigments.groupBy(\"userId\").agg(f.count(\"userId\").alias(\"count\")).select(\"count\", \"userId\").orderBy(\"count\")\n",
        "x = team_assigment_stats.select(\"count\").toPandas()\n",
        "\n",
        "fig, axes = plt.subplots(1, 2, figsize=(16, 6))\n",
        "\n",
        "# Histogram\n",
        "axes[0].hist(x['count'], bins=20, color='skyblue', edgecolor='black')\n",
        "axes[0].set_xlabel('Number of Teams Joined')\n",
        "axes[0].set_ylabel('Count')\n",
        "axes[0].set_title('Histogram - Players Joining Teams')\n",
        "\n",
        "# Swarm plot\n",
        "sns.swarmplot(data=x, ax=axes[1], color='orange')\n",
        "axes[1].set_xlabel('Number of Teams Joined')\n",
        "axes[1].set_ylabel('Count')\n",
        "axes[1].set_title('Swarm Plot - Players Joining Teams')\n",
        "\n",
        "plt.tight_layout()\n",
        "plt.show()\n"
      ]
    },
    {
      "cell_type": "code",
      "source": [
        "############# CORR\n",
        "from pyspark.sql import functions as f\n",
        "\n",
        "team = spark.read.csv(\"/content/team.csv\", header=True, inferSchema=True)\n",
        "buyclicks = spark.read.csv(\"/content/buy-clicks.csv\", header=True, inferSchema=True)\n",
        "\n",
        "\n",
        "team_buying = team.alias(\"teamdf\").join(buyclicks.alias(\"buyclicks\"),\\\n",
        "                            f.col(\"teamdf.teamId\") == f.col(\"buyclicks.team\"),\"inner\")\n",
        "\n",
        "\n",
        "\n",
        "########## HISTOGRAM OF SPENDING COUNT HOW MUCH SPENDING IS DISTRIBUTED && CORRELATION\n",
        "\n",
        "# team_buying_df.groupBy(\"teamId\").sum(\"price\", \"strength\").orderBy(\"sum(price)\").toPandas().hist(column = \"sum(price)\")\n",
        "\n",
        "\n",
        "team_buying_grouped = team_buying.groupBy(\"teamId\").sum(\"price\", \"strength\")\\\n",
        "         .select('teamId', f.col('sum(price)').alias('total_spending'), f.col('sum(strength)').alias('total_strength'))\\\n",
        "         .orderBy(\"sum(price)\")\n",
        "\n",
        "team_buying.stat.corr(\"price\",\"strength\")\n",
        "# team_buying_df_grouped.show()"
      ],
      "metadata": {
        "colab": {
          "base_uri": "https://localhost:8080/"
        },
        "id": "L96uaURdTfhA",
        "outputId": "5df9ac2e-078b-47ea-c272-3224457728a2"
      },
      "execution_count": 41,
      "outputs": [
        {
          "output_type": "execute_result",
          "data": {
            "text/plain": [
              "-0.06938790495270436"
            ]
          },
          "metadata": {},
          "execution_count": 41
        }
      ]
    },
    {
      "cell_type": "markdown",
      "source": [
        "# **Machine Learning**"
      ],
      "metadata": {
        "id": "v0LGp-YfehTM"
      }
    },
    {
      "cell_type": "code",
      "execution_count": 9,
      "metadata": {
        "id": "Jw4KtXoEHl5D"
      },
      "outputs": [],
      "source": [
        "################ CLUSTERING ANALYSIS\n",
        "\n",
        "# Utility functions for Spark Cluster Analysis Hands-On\n",
        "#\n",
        "#\n",
        "from itertools import cycle, islice\n",
        "from math import sqrt\n",
        "from numpy import array\n",
        "from pandas.plotting import parallel_coordinates\n",
        "from pyspark.ml.clustering import KMeans as KM\n",
        "from pyspark.mllib.linalg import DenseVector\n",
        "import matplotlib.pyplot as plt\n",
        "import numpy as np\n",
        "import pandas as pd\n",
        "\n",
        "def computeCost(featuresAndPrediction, model):\n",
        "    allClusterCenters = [DenseVector(c) for c in model.clusterCenters()]\n",
        "    arrayCollection   = featuresAndPrediction.rdd.map(array)\n",
        "\n",
        "    def error(point, predictedCluster):\n",
        "        center = allClusterCenters[predictedCluster]\n",
        "        z      = point - center\n",
        "        return sqrt((z*z).sum())\n",
        "    \n",
        "    return arrayCollection.map(lambda row: error(row[0], row[1])).reduce(lambda x, y: x + y)\n",
        "\n",
        "\n",
        "def elbow(elbowset, clusters):\n",
        "    wsseList = []    \n",
        "    for k in clusters:\n",
        "        print(\"Training for cluster size {} \".format(k))\n",
        "        kmeans = KM(k=k, seed=1)\n",
        "        model = kmeans.fit(elbowset)\n",
        "        transformed = model.transform(elbowset)\n",
        "        featuresAndPrediction = transformed.select(\"features\", \"prediction\")\n",
        "\n",
        "        W = computeCost(featuresAndPrediction, model)\n",
        "        print(\"......................WSSE = {} \".format(W))\n",
        "\n",
        "        wsseList.append(W)\n",
        "    return wsseList\n",
        "\n",
        "def elbow_plot(wsseList, clusters):\n",
        "    wsseDF = pd.DataFrame({'WSSE': wsseList, 'k': clusters})\n",
        "    wsseDF.plot(y='WSSE', x='k', figsize=(15, 10), grid=True, marker='o')\n",
        "\n",
        "def pd_centers(featuresUsed, centers):\n",
        "    colNames = list(featuresUsed)\n",
        "    colNames.append('prediction')\n",
        "\n",
        "    # Zip with a column called 'prediction' (index)\n",
        "    Z = [np.append(A, index) for index, A in enumerate(centers)]\n",
        "\n",
        "    # Convert to pandas for plotting\n",
        "    P = pd.DataFrame(Z, columns=colNames)\n",
        "    P['prediction'] = P['prediction'].astype(int)\n",
        "    return P\n",
        "\n",
        "def parallel_plot(data, P):\n",
        "    my_colors = list(islice(cycle(['b', 'r', 'g', 'y', 'k']), None, len(P)))\n",
        "    plt.figure(figsize=(15, 8)).gca().axes.set_ylim([-3, +3])\n",
        "    parallel_coordinates(data, 'prediction', color=my_colors, marker='o')\n",
        "\n"
      ]
    },
    {
      "cell_type": "code",
      "execution_count": 12,
      "metadata": {
        "id": "aKWi5VYTaR9K",
        "colab": {
          "base_uri": "https://localhost:8080/"
        },
        "outputId": "c975e7fc-d109-4d94-98ac-a73c2ffc21d9"
      },
      "outputs": [
        {
          "output_type": "execute_result",
          "data": {
            "text/plain": [
              "DataFrame[userId: int, userSessionId: int, teamLevel: int, platformType: string, count_gameclicks: int, count_hits: int, count_buyId: string, avg_price: string]"
            ]
          },
          "metadata": {},
          "execution_count": 12
        }
      ],
      "source": [
        "combined_data= spark.read.csv(\"/content/combined-data.csv\", header=True, inferSchema=True)\n",
        "\n",
        "combined_data"
      ]
    },
    {
      "cell_type": "code",
      "execution_count": 13,
      "metadata": {
        "id": "dkiC_gv1a67Z",
        "colab": {
          "base_uri": "https://localhost:8080/"
        },
        "outputId": "5dcd35f9-6899-43e0-d6c9-cad2c153cd22"
      },
      "outputs": [
        {
          "output_type": "execute_result",
          "data": {
            "text/plain": [
              "4619"
            ]
          },
          "metadata": {},
          "execution_count": 13
        }
      ],
      "source": [
        "combined_data.count()\n",
        "combined_data.na.drop().count()\n",
        "\n",
        "\n",
        "\n"
      ]
    },
    {
      "cell_type": "code",
      "execution_count": 14,
      "metadata": {
        "id": "O-4BpCuara4g",
        "colab": {
          "base_uri": "https://localhost:8080/"
        },
        "outputId": "0bd5f0a6-e02b-4f29-8a4a-1e3235e77c23"
      },
      "outputs": [
        {
          "output_type": "execute_result",
          "data": {
            "text/plain": [
              "['userId',\n",
              " 'userSessionId',\n",
              " 'teamLevel',\n",
              " 'platformType',\n",
              " 'count_gameclicks',\n",
              " 'count_hits',\n",
              " 'count_buyId',\n",
              " 'avg_price']"
            ]
          },
          "metadata": {},
          "execution_count": 14
        }
      ],
      "source": [
        "combined_data.columns"
      ]
    },
    {
      "cell_type": "code",
      "execution_count": 16,
      "metadata": {
        "id": "rbBLYLKIo_qS"
      },
      "outputs": [],
      "source": [
        "# K-MEANS CLUSTERING\n",
        "ad_click = spark.read.csv(\"/content/ad-clicks.csv\", header=True, inferSchema=True)\n",
        "buy_click = spark.read.csv(\"/content/buy-clicks.csv\", header=True, inferSchema=True)\n",
        "game_click = spark.read.csv(\"/content/game-clicks.csv\", header=True, inferSchema=True)\n",
        "level_events = spark.read.csv(\"/content/level-events.csv\", header=True, inferSchema=True)\n",
        "team_assignments = spark.read.csv(\"/content/team-assignments.csv\", header=True, inferSchema=True)\n",
        "team = spark.read.csv(\"/content/team.csv\", header=True, inferSchema=True)\n",
        "users = spark.read.csv(\"/content/users.csv\", header=True, inferSchema=True)\n",
        "users_session = spark.read.csv(\"/content/user-session.csv\", header=True, inferSchema=True)\n",
        "\n",
        "\n",
        "\n",
        "\n",
        "\n",
        "\n",
        "\n",
        "\n",
        "\n"
      ]
    },
    {
      "cell_type": "code",
      "execution_count": 21,
      "metadata": {
        "id": "9hxz-a6gvTfA"
      },
      "outputs": [],
      "source": [
        "# JOIN TABLES\n",
        "from pyspark.sql import functions as f\n",
        "\n",
        "whole_dataset = team_assignments.alias(\"team_assignment\").join(users.alias(\"users\"),\\\n",
        "                           f.col(\"team_assignment.userId\") == f.col(\"users.userId\"),\"inner\")\\\n",
        "                           .join(team.alias(\"team\"), f.col(\"team.teamId\") == f.col(\"team\"))\\\n",
        "                           .join(users_session.alias(\"users_session\"), f.col(\"users_session.userId\") == f.col(\"users.userId\"))\\\n",
        "                           .join(game_click.alias(\"game_click\"), f.col(\"game_click.userId\") == f.col(\"users.userId\"))\\\n",
        "                           .join(ad_click.alias(\"ad_click\"), f.col(\"ad_click.userId\") == f.col(\"users.userId\"))\\\n",
        "                           .join(buy_click.alias(\"buy_click\"), f.col(\"buy_click.userId\") == f.col(\"users.userId\"))\\\n",
        "                           .select(\"team_assignment.timestamp\", \"team_assignment.timestamp\", \n",
        "                                   \"users.userId\", \"users.nick\", \"users.twitter\",\"users.country\",\"users.dob\",\n",
        "                                   \"team.teamId\",\"team.teamCreationTime\", \"team.teamEndTime\", \"team.strength\",\"team.currentLevel\",\n",
        "                                   \"users_session.timestamp\",\"users_session.timestamp\", \"users_session.sessionType\",\"users_session.teamLevel\",\"users_session.platformType\",\n",
        "                                   \"game_click.timestamp\", \"game_click.isHit\",\n",
        "                                   \"ad_click.adId\", \"ad_click.adCategory\",\n",
        "                                   \"buy_click.txId\",\"buy_click.price\")\n",
        "                          "
      ]
    },
    {
      "cell_type": "code",
      "execution_count": 22,
      "metadata": {
        "id": "Ni6hia6h2gve",
        "colab": {
          "base_uri": "https://localhost:8080/"
        },
        "outputId": "60eb3904-e2c2-421d-d007-7ec586b06381"
      },
      "outputs": [
        {
          "output_type": "stream",
          "name": "stdout",
          "text": [
            "+---------------+---------+-----+-----+\n",
            "|       strength|teamLevel|isHit|price|\n",
            "+---------------+---------+-----+-----+\n",
            "|  0.34348462196|        3|    1|  2.0|\n",
            "| 0.141376627543|        6|    1|  3.0|\n",
            "|  0.13358763615|        5|    1|  2.0|\n",
            "| 0.350676528613|        3|    0|  3.0|\n",
            "| 0.393763462002|        3|    0|  5.0|\n",
            "| 0.642122051019|        4|    0| 10.0|\n",
            "| 0.767191204445|        3|    0|  1.0|\n",
            "|0.0859900712952|        7|    1| 20.0|\n",
            "| 0.132214897776|        1|    0|  3.0|\n",
            "|   0.6086527331|        6|    1| 20.0|\n",
            "|  0.47269158141|        2|    0|  1.0|\n",
            "| 0.718462485619|        7|    1|  2.0|\n",
            "| 0.132214897776|        5|    1| 20.0|\n",
            "|   0.6086527331|        4|    0|  3.0|\n",
            "|   0.6086527331|        4|    0|  2.0|\n",
            "|   0.6086527331|        1|    0|  1.0|\n",
            "| 0.276723269022|        4|    1| 20.0|\n",
            "| 0.668180373589|        1|    0|  2.0|\n",
            "| 0.701621474289|        3|    1| 20.0|\n",
            "|0.0495931577569|        5|    0| 10.0|\n",
            "+---------------+---------+-----+-----+\n",
            "only showing top 20 rows\n",
            "\n"
          ]
        }
      ],
      "source": [
        "from pyspark.sql.functions import format_number\n",
        "\n",
        "# Select distinct columns from the whole_dataset DataFrame\n",
        "distinct_dataset = whole_dataset.select('strength', 'teamLevel', 'isHit', 'price').distinct()\n",
        "\n",
        "distinct_dataset.show()\n",
        "\n",
        "\n",
        "\n"
      ]
    },
    {
      "cell_type": "code",
      "source": [
        "import pyspark.sql.functions as f\n",
        "from pyspark.sql import Window\n",
        "\n",
        "# Define a window specification to cover all rows\n",
        "window = Window.rowsBetween(Window.unboundedPreceding, Window.unboundedFollowing)\n",
        "\n",
        "# Read the combined data from a CSV file\n",
        "combined_data = spark.read.csv(\"/content/combined-data.csv\", header=True, inferSchema=True)\n",
        "combined_data_na_removed = combined_data.na.drop()\n",
        "\n",
        "# Calculate 'total' column as the sum of 'avg_price' over all rows\n",
        "combined_data_hitter = combined_data.withColumn('total', f.sum(f.col('avg_price')).over(window))\n",
        "\n",
        "# Create 'spender' column based on a condition\n",
        "combined_data_hitter = combined_data_hitter.withColumn(\"spender\", f.when(f.col(\"avg_price\") > 5, 1).otherwise(0))\n",
        "\n",
        "# Group by 'userId' and calculate aggregations\n",
        "grouped_userId_combined_data = combined_data_hitter.groupby(\"userId\") \\\n",
        "    .agg(\n",
        "        f.sum(\"count_gameclicks\").alias('count_gameclicks_total'),\n",
        "        f.sum(\"count_hits\").alias(\"count_hits_total\"),\n",
        "        f.sum(\"avg_price\").alias(\"avg_price_total\")\n",
        "    ) \\\n",
        "    .withColumn('Percent', f.col('count_hits_total') * 100 / f.col('count_gameclicks_total'))\n",
        "\n",
        "# Create 'hitter' column based on a condition\n",
        "grouped_userId_combined_data = grouped_userId_combined_data.withColumn(\"hitter\", f.when(f.col(\"Percent\") > 10, 1).otherwise(0))\n",
        "\n",
        "# Perform an inner join between combined_data_hitter and grouped_userId_combined_data\n",
        "combined_grouped = combined_data_hitter.alias(\"combined_data_hitter\") \\\n",
        "    .join(\n",
        "        grouped_userId_combined_data.alias(\"grouped_userId_combined_data\"),\n",
        "        f.col(\"combined_data_hitter.userId\") == f.col(\"grouped_userId_combined_data.userId\"),\n",
        "        \"inner\"\n",
        "    )\n",
        "\n",
        "# Show the resulting DataFrame\n",
        "combined_grouped.show()\n"
      ],
      "metadata": {
        "colab": {
          "base_uri": "https://localhost:8080/"
        },
        "id": "tDR-cikxOKmy",
        "outputId": "ba0b4555-9a7c-441e-9eb7-debed80c885f"
      },
      "execution_count": 24,
      "outputs": [
        {
          "output_type": "stream",
          "name": "stdout",
          "text": [
            "+------+-------------+---------+------------+----------------+----------+-----------+---------+------------------+-------+------+----------------------+----------------+---------------+------------------+------+\n",
            "|userId|userSessionId|teamLevel|platformType|count_gameclicks|count_hits|count_buyId|avg_price|             total|spender|userId|count_gameclicks_total|count_hits_total|avg_price_total|           Percent|hitter|\n",
            "+------+-------------+---------+------------+----------------+----------+-----------+---------+------------------+-------+------+----------------------+----------------+---------------+------------------+------+\n",
            "|   812|         5648|        1|     android|              69|         8|       NULL|     NULL|10179.410000000002|      0|   812|                   669|              74|           null|11.061285500747385|     1|\n",
            "|  1658|         5649|        1|      iphone|              31|         5|       NULL|     NULL|10179.410000000002|      0|  1658|                   403|              58|           37.5|14.392059553349876|     1|\n",
            "|  1589|         5650|        1|      iphone|              26|         2|       NULL|     NULL|10179.410000000002|      0|  1589|                   289|              25|           null| 8.650519031141869|     0|\n",
            "|  1863|         5651|        1|     android|              35|         4|       NULL|     NULL|10179.410000000002|      0|  1863|                   371|              41|           13.0| 11.05121293800539|     1|\n",
            "|   937|         5652|        1|     android|              39|         0|          1|     1.00|10179.410000000002|      0|   937|                   145|              14|            1.0| 9.655172413793103|     0|\n",
            "|   342|         5653|        1|     android|              36|         5|       NULL|     NULL|10179.410000000002|      0|   342|                   283|              35|           null| 12.36749116607774|     1|\n",
            "|   849|         5654|        1|      iphone|              40|         5|       NULL|     NULL|10179.410000000002|      0|   849|                   420|              52|           null|12.380952380952381|     1|\n",
            "|  1277|         5655|        1|     windows|              46|         8|       NULL|     NULL|10179.410000000002|      0|  1277|                   530|              63|           27.0| 11.88679245283019|     1|\n",
            "|  2203|         5656|        1|     android|              68|         6|       NULL|     NULL|10179.410000000002|      0|  2203|                   726|              84|           null|11.570247933884298|     1|\n",
            "|   585|         5657|        1|      iphone|              76|         9|       NULL|     NULL|10179.410000000002|      0|   585|                   902|              97|           12.5|10.753880266075388|     1|\n",
            "|  1370|         5658|        1|      iphone|              69|         6|       NULL|     NULL|10179.410000000002|      0|  1370|                   694|              70|           47.5|10.086455331412104|     1|\n",
            "|  1623|         5659|        1|      iphone|             129|         9|          1|    10.00|10179.410000000002|      1|  1623|                   783|              79|           44.0|10.089399744572159|     1|\n",
            "|   881|         5660|        1|      iphone|              36|         6|       NULL|     NULL|10179.410000000002|      0|   881|                   365|              41|           94.0|11.232876712328768|     1|\n",
            "|    83|         5661|        1|     android|             102|        14|          1|     5.00|10179.410000000002|      0|    83|                   900|             106|          17.67|11.777777777777779|     1|\n",
            "|   453|         5662|        1|     android|             102|         7|       NULL|     NULL|10179.410000000002|      0|   453|                   846|              90|           null|10.638297872340425|     1|\n",
            "|  1966|         5663|        1|      iphone|              63|         8|       NULL|     NULL|10179.410000000002|      0|  1966|                   981|             119|           10.0|12.130479102956167|     1|\n",
            "|  1073|         5664|        1|     android|             141|        21|       NULL|     NULL|10179.410000000002|      0|  1073|                  1078|             119|           null| 11.03896103896104|     1|\n",
            "|   121|         5665|        1|     android|              39|         4|          1|     3.00|10179.410000000002|      0|   121|                   402|              39|           14.0| 9.701492537313433|     0|\n",
            "|   462|         5666|        1|     android|              90|        10|          1|     3.00|10179.410000000002|      0|   462|                   897|             104|           13.5|11.594202898550725|     1|\n",
            "|   708|         5667|        1|      iphone|              32|         2|       NULL|     NULL|10179.410000000002|      0|   708|                   371|              36|           null| 9.703504043126685|     0|\n",
            "+------+-------------+---------+------------+----------------+----------+-----------+---------+------------------+-------+------+----------------------+----------------+---------------+------------------+------+\n",
            "only showing top 20 rows\n",
            "\n"
          ]
        }
      ]
    },
    {
      "cell_type": "code",
      "source": [
        "\n",
        "from pyspark.ml.feature import StringIndexer\n",
        "\n",
        "# Create an instance of StringIndexer\n",
        "indexer = StringIndexer(inputCol='platformType', outputCol='platformType_indexed')\n",
        "\n",
        "# Fit the indexer model to the data\n",
        "indexer_model = indexer.fit(combined_grouped)\n",
        "\n",
        "# Transform the data by adding the indexed column\n",
        "combined_grouped_indexed = indexer_model.transform(combined_grouped)\n",
        "\n",
        "# Show the transformed data\n",
        "combined_grouped_indexed.show()\n",
        "\n"
      ],
      "metadata": {
        "id": "4Pmj0lfqmO-T",
        "colab": {
          "base_uri": "https://localhost:8080/"
        },
        "outputId": "3c1df27e-5de3-40d4-90e7-44849d1d88c0"
      },
      "execution_count": 25,
      "outputs": [
        {
          "output_type": "stream",
          "name": "stdout",
          "text": [
            "+------+-------------+---------+------------+----------------+----------+-----------+---------+------------------+-------+------+----------------------+----------------+---------------+------------------+------+--------------------+\n",
            "|userId|userSessionId|teamLevel|platformType|count_gameclicks|count_hits|count_buyId|avg_price|             total|spender|userId|count_gameclicks_total|count_hits_total|avg_price_total|           Percent|hitter|platformType_indexed|\n",
            "+------+-------------+---------+------------+----------------+----------+-----------+---------+------------------+-------+------+----------------------+----------------+---------------+------------------+------+--------------------+\n",
            "|   812|         5648|        1|     android|              69|         8|       NULL|     NULL|10179.410000000002|      0|   812|                   669|              74|           null|11.061285500747385|     1|                 1.0|\n",
            "|  1658|         5649|        1|      iphone|              31|         5|       NULL|     NULL|10179.410000000002|      0|  1658|                   403|              58|           37.5|14.392059553349876|     1|                 0.0|\n",
            "|  1589|         5650|        1|      iphone|              26|         2|       NULL|     NULL|10179.410000000002|      0|  1589|                   289|              25|           null| 8.650519031141869|     0|                 0.0|\n",
            "|  1863|         5651|        1|     android|              35|         4|       NULL|     NULL|10179.410000000002|      0|  1863|                   371|              41|           13.0| 11.05121293800539|     1|                 1.0|\n",
            "|   937|         5652|        1|     android|              39|         0|          1|     1.00|10179.410000000002|      0|   937|                   145|              14|            1.0| 9.655172413793103|     0|                 1.0|\n",
            "|   342|         5653|        1|     android|              36|         5|       NULL|     NULL|10179.410000000002|      0|   342|                   283|              35|           null| 12.36749116607774|     1|                 1.0|\n",
            "|   849|         5654|        1|      iphone|              40|         5|       NULL|     NULL|10179.410000000002|      0|   849|                   420|              52|           null|12.380952380952381|     1|                 0.0|\n",
            "|  1277|         5655|        1|     windows|              46|         8|       NULL|     NULL|10179.410000000002|      0|  1277|                   530|              63|           27.0| 11.88679245283019|     1|                 2.0|\n",
            "|  2203|         5656|        1|     android|              68|         6|       NULL|     NULL|10179.410000000002|      0|  2203|                   726|              84|           null|11.570247933884298|     1|                 1.0|\n",
            "|   585|         5657|        1|      iphone|              76|         9|       NULL|     NULL|10179.410000000002|      0|   585|                   902|              97|           12.5|10.753880266075388|     1|                 0.0|\n",
            "|  1370|         5658|        1|      iphone|              69|         6|       NULL|     NULL|10179.410000000002|      0|  1370|                   694|              70|           47.5|10.086455331412104|     1|                 0.0|\n",
            "|  1623|         5659|        1|      iphone|             129|         9|          1|    10.00|10179.410000000002|      1|  1623|                   783|              79|           44.0|10.089399744572159|     1|                 0.0|\n",
            "|   881|         5660|        1|      iphone|              36|         6|       NULL|     NULL|10179.410000000002|      0|   881|                   365|              41|           94.0|11.232876712328768|     1|                 0.0|\n",
            "|    83|         5661|        1|     android|             102|        14|          1|     5.00|10179.410000000002|      0|    83|                   900|             106|          17.67|11.777777777777779|     1|                 1.0|\n",
            "|   453|         5662|        1|     android|             102|         7|       NULL|     NULL|10179.410000000002|      0|   453|                   846|              90|           null|10.638297872340425|     1|                 1.0|\n",
            "|  1966|         5663|        1|      iphone|              63|         8|       NULL|     NULL|10179.410000000002|      0|  1966|                   981|             119|           10.0|12.130479102956167|     1|                 0.0|\n",
            "|  1073|         5664|        1|     android|             141|        21|       NULL|     NULL|10179.410000000002|      0|  1073|                  1078|             119|           null| 11.03896103896104|     1|                 1.0|\n",
            "|   121|         5665|        1|     android|              39|         4|          1|     3.00|10179.410000000002|      0|   121|                   402|              39|           14.0| 9.701492537313433|     0|                 1.0|\n",
            "|   462|         5666|        1|     android|              90|        10|          1|     3.00|10179.410000000002|      0|   462|                   897|             104|           13.5|11.594202898550725|     1|                 1.0|\n",
            "|   708|         5667|        1|      iphone|              32|         2|       NULL|     NULL|10179.410000000002|      0|   708|                   371|              36|           null| 9.703504043126685|     0|                 0.0|\n",
            "+------+-------------+---------+------------+----------------+----------+-----------+---------+------------------+-------+------+----------------------+----------------+---------------+------------------+------+--------------------+\n",
            "only showing top 20 rows\n",
            "\n"
          ]
        }
      ]
    },
    {
      "cell_type": "code",
      "source": [
        "from pyspark.sql.functions import format_number\n",
        "\n",
        "# Fill NA in avg_price_total with 0\n",
        "combined_grouped_indexed = combined_grouped_indexed.withColumn('avg_price_total', format_number(combined_grouped_indexed['avg_price_total'].cast('float'), 2))\n",
        "combined_grouped_indexed = combined_grouped_indexed.fillna({'avg_price_total': '0'})\n",
        "\n",
        "combined_grouped_indexed.show()\n"
      ],
      "metadata": {
        "colab": {
          "base_uri": "https://localhost:8080/"
        },
        "id": "-ok4PiTkeWvb",
        "outputId": "0b63a390-42c9-4b6a-aac0-b7c52107eef3"
      },
      "execution_count": 27,
      "outputs": [
        {
          "output_type": "stream",
          "name": "stdout",
          "text": [
            "+------+-------------+---------+------------+----------------+----------+-----------+---------+------------------+-------+------+----------------------+----------------+---------------+------------------+------+--------------------+\n",
            "|userId|userSessionId|teamLevel|platformType|count_gameclicks|count_hits|count_buyId|avg_price|             total|spender|userId|count_gameclicks_total|count_hits_total|avg_price_total|           Percent|hitter|platformType_indexed|\n",
            "+------+-------------+---------+------------+----------------+----------+-----------+---------+------------------+-------+------+----------------------+----------------+---------------+------------------+------+--------------------+\n",
            "|   812|         5648|        1|     android|              69|         8|       NULL|     NULL|10179.410000000002|      0|   812|                   669|              74|           0.00|11.061285500747385|     1|                 1.0|\n",
            "|  1658|         5649|        1|      iphone|              31|         5|       NULL|     NULL|10179.410000000002|      0|  1658|                   403|              58|          37.50|14.392059553349876|     1|                 0.0|\n",
            "|  1589|         5650|        1|      iphone|              26|         2|       NULL|     NULL|10179.410000000002|      0|  1589|                   289|              25|           0.00| 8.650519031141869|     0|                 0.0|\n",
            "|  1863|         5651|        1|     android|              35|         4|       NULL|     NULL|10179.410000000002|      0|  1863|                   371|              41|          13.00| 11.05121293800539|     1|                 1.0|\n",
            "|   937|         5652|        1|     android|              39|         0|          1|     1.00|10179.410000000002|      0|   937|                   145|              14|           1.00| 9.655172413793103|     0|                 1.0|\n",
            "|   342|         5653|        1|     android|              36|         5|       NULL|     NULL|10179.410000000002|      0|   342|                   283|              35|           0.00| 12.36749116607774|     1|                 1.0|\n",
            "|   849|         5654|        1|      iphone|              40|         5|       NULL|     NULL|10179.410000000002|      0|   849|                   420|              52|           0.00|12.380952380952381|     1|                 0.0|\n",
            "|  1277|         5655|        1|     windows|              46|         8|       NULL|     NULL|10179.410000000002|      0|  1277|                   530|              63|          27.00| 11.88679245283019|     1|                 2.0|\n",
            "|  2203|         5656|        1|     android|              68|         6|       NULL|     NULL|10179.410000000002|      0|  2203|                   726|              84|           0.00|11.570247933884298|     1|                 1.0|\n",
            "|   585|         5657|        1|      iphone|              76|         9|       NULL|     NULL|10179.410000000002|      0|   585|                   902|              97|          12.50|10.753880266075388|     1|                 0.0|\n",
            "|  1370|         5658|        1|      iphone|              69|         6|       NULL|     NULL|10179.410000000002|      0|  1370|                   694|              70|          47.50|10.086455331412104|     1|                 0.0|\n",
            "|  1623|         5659|        1|      iphone|             129|         9|          1|    10.00|10179.410000000002|      1|  1623|                   783|              79|          44.00|10.089399744572159|     1|                 0.0|\n",
            "|   881|         5660|        1|      iphone|              36|         6|       NULL|     NULL|10179.410000000002|      0|   881|                   365|              41|          94.00|11.232876712328768|     1|                 0.0|\n",
            "|    83|         5661|        1|     android|             102|        14|          1|     5.00|10179.410000000002|      0|    83|                   900|             106|          17.67|11.777777777777779|     1|                 1.0|\n",
            "|   453|         5662|        1|     android|             102|         7|       NULL|     NULL|10179.410000000002|      0|   453|                   846|              90|           0.00|10.638297872340425|     1|                 1.0|\n",
            "|  1966|         5663|        1|      iphone|              63|         8|       NULL|     NULL|10179.410000000002|      0|  1966|                   981|             119|          10.00|12.130479102956167|     1|                 0.0|\n",
            "|  1073|         5664|        1|     android|             141|        21|       NULL|     NULL|10179.410000000002|      0|  1073|                  1078|             119|           0.00| 11.03896103896104|     1|                 1.0|\n",
            "|   121|         5665|        1|     android|              39|         4|          1|     3.00|10179.410000000002|      0|   121|                   402|              39|          14.00| 9.701492537313433|     0|                 1.0|\n",
            "|   462|         5666|        1|     android|              90|        10|          1|     3.00|10179.410000000002|      0|   462|                   897|             104|          13.50|11.594202898550725|     1|                 1.0|\n",
            "|   708|         5667|        1|      iphone|              32|         2|       NULL|     NULL|10179.410000000002|      0|   708|                   371|              36|           0.00| 9.703504043126685|     0|                 0.0|\n",
            "+------+-------------+---------+------------+----------------+----------+-----------+---------+------------------+-------+------+----------------------+----------------+---------------+------------------+------+--------------------+\n",
            "only showing top 20 rows\n",
            "\n"
          ]
        }
      ]
    },
    {
      "cell_type": "code",
      "execution_count": 28,
      "metadata": {
        "id": "Ynr_Jq9M23GP",
        "colab": {
          "base_uri": "https://localhost:8080/"
        },
        "outputId": "055b8703-756a-408c-8297-4a6d48af9138"
      },
      "outputs": [
        {
          "output_type": "stream",
          "name": "stdout",
          "text": [
            "+------+-------------+---------+------------+----------------+----------+-----------+---------+------------------+-------+------+----------------------+----------------+---------------+------------------+------+--------------------+--------------------+\n",
            "|userId|userSessionId|teamLevel|platformType|count_gameclicks|count_hits|count_buyId|avg_price|             total|spender|userId|count_gameclicks_total|count_hits_total|avg_price_total|           Percent|hitter|platformType_indexed|            features|\n",
            "+------+-------------+---------+------------+----------------+----------+-----------+---------+------------------+-------+------+----------------------+----------------+---------------+------------------+------+--------------------+--------------------+\n",
            "|     0|        24943|        2|      iphone|             353|        35|       NULL|     NULL|10179.410000000002|      0|     0|                  1240|             124|           0.00|              10.0|     0|                 0.0|[10.0,2.0,1240.0,...|\n",
            "|     0|        28377|        3|      iphone|             381|        32|       NULL|     NULL|10179.410000000002|      0|     0|                  1240|             124|           0.00|              10.0|     0|                 0.0|[10.0,3.0,1240.0,...|\n",
            "|     0|        32029|        4|      iphone|             269|        29|       NULL|     NULL|10179.410000000002|      0|     0|                  1240|             124|           0.00|              10.0|     0|                 0.0|[10.0,4.0,1240.0,...|\n",
            "|     1|         5835|        1|     android|              73|         7|       NULL|     NULL|10179.410000000002|      0|     1|                   658|              84|           9.50| 12.76595744680851|     1|                 1.0|[12.7659574468085...|\n",
            "|     1|         7847|        2|     android|              95|        14|       NULL|     NULL|10179.410000000002|      0|     1|                   658|              84|           9.50| 12.76595744680851|     1|                 1.0|[12.7659574468085...|\n",
            "|     1|        12713|        4|     android|              88|        14|          2|     2.00|10179.410000000002|      0|     1|                   658|              84|           9.50| 12.76595744680851|     1|                 1.0|[12.7659574468085...|\n",
            "|     1|        16232|        5|     android|              83|        13|       NULL|     NULL|10179.410000000002|      0|     1|                   658|              84|           9.50| 12.76595744680851|     1|                 1.0|[12.7659574468085...|\n",
            "|     1|        21014|        6|     android|             120|        11|          2|     2.50|10179.410000000002|      0|     1|                   658|              84|           9.50| 12.76595744680851|     1|                 1.0|[12.7659574468085...|\n",
            "|     1|        26938|        7|     android|             106|        16|          2|     2.00|10179.410000000002|      0|     1|                   658|              84|           9.50| 12.76595744680851|     1|                 1.0|[12.7659574468085...|\n",
            "|     2|        12411|        4|      iphone|              39|         3|       NULL|     NULL|10179.410000000002|      0|     2|                   206|              18|           0.00| 8.737864077669903|     0|                 0.0|[8.73786407766990...|\n",
            "|     2|        15899|        5|      iphone|              35|         6|       NULL|     NULL|10179.410000000002|      0|     2|                   206|              18|           0.00| 8.737864077669903|     0|                 0.0|[8.73786407766990...|\n",
            "|     2|        20628|        6|      iphone|              52|         3|       NULL|     NULL|10179.410000000002|      0|     2|                   206|              18|           0.00| 8.737864077669903|     0|                 0.0|[8.73786407766990...|\n",
            "|     2|        26505|        7|      iphone|              73|         6|       NULL|     NULL|10179.410000000002|      0|     2|                   206|              18|           0.00| 8.737864077669903|     0|                 0.0|[8.73786407766990...|\n",
            "|     6|        28628|        7|      iphone|              90|         5|       NULL|     NULL|10179.410000000002|      0|     6|                    90|               5|           0.00| 5.555555555555555|     0|                 0.0|[5.55555555555555...|\n",
            "|     8|        27410|        4|      iphone|              25|         1|       NULL|     NULL|10179.410000000002|      0|     8|                   207|              24|          11.00|11.594202898550725|     1|                 0.0|[11.5942028985507...|\n",
            "|     8|        27918|        5|      iphone|             182|        23|          3|    11.00|10179.410000000002|      1|     8|                   207|              24|          11.00|11.594202898550725|     1|                 0.0|[11.5942028985507...|\n",
            "|     9|         9187|        2|      iphone|              17|         1|          1|    10.00|10179.410000000002|      1|     9|                   448|              54|          50.00|12.053571428571429|     1|                 0.0|[12.0535714285714...|\n",
            "|     9|        16228|        5|      iphone|              98|         8|          2|    15.00|10179.410000000002|      1|     9|                   448|              54|          50.00|12.053571428571429|     1|                 0.0|[12.0535714285714...|\n",
            "|     9|        21009|        6|      iphone|              82|        14|       NULL|     NULL|10179.410000000002|      0|     9|                   448|              54|          50.00|12.053571428571429|     1|                 0.0|[12.0535714285714...|\n",
            "|     9|        26931|        7|      iphone|             106|        13|          2|    15.00|10179.410000000002|      1|     9|                   448|              54|          50.00|12.053571428571429|     1|                 0.0|[12.0535714285714...|\n",
            "+------+-------------+---------+------------+----------------+----------+-----------+---------+------------------+-------+------+----------------------+----------------+---------------+------------------+------+--------------------+--------------------+\n",
            "only showing top 20 rows\n",
            "\n"
          ]
        }
      ],
      "source": [
        "from pyspark.ml.clustering import KMeans\n",
        "from pyspark.ml.feature import VectorAssembler\n",
        "from pyspark.ml.feature import StandardScaler\n",
        "\n",
        "# Define the features to be used\n",
        "featuresUsed = [\n",
        "    'Percent',\n",
        "    'teamLevel',\n",
        "    'count_gameclicks_total',\n",
        "    'count_hits_total',\n",
        "    'platformType_indexed'\n",
        "]\n",
        "\n",
        "# Create a VectorAssembler to combine the selected features into a single vector column\n",
        "assembler = VectorAssembler(inputCols=featuresUsed, outputCol='features')\n",
        "assembled = assembler.transform(combined_grouped_indexed)\n",
        "\n",
        "# Split the data into training and test sets in an 80:20 ratio\n",
        "combined_grouped_data_train, combined_grouped_data_test = assembled.randomSplit([0.8, 0.2], seed=17)\n",
        "\n",
        "# Show the training data\n",
        "combined_grouped_data_train.show()\n",
        "\n"
      ]
    },
    {
      "cell_type": "code",
      "execution_count": 39,
      "metadata": {
        "id": "FWNc9sZB4Mo2",
        "colab": {
          "base_uri": "https://localhost:8080/"
        },
        "outputId": "34e15954-0e55-4418-c013-f794f2188608"
      },
      "outputs": [
        {
          "output_type": "stream",
          "name": "stdout",
          "text": [
            "Silhouette Score for k = 2 : 0.8826632454216913\n",
            "Silhouette Score for k = 3 : 0.6843048808940346\n",
            "Silhouette Score for k = 4 : 0.7154837804062976\n",
            "Silhouette Score for k = 5 : 0.7259475589964668\n",
            "Silhouette Score for k = 6 : 0.6987393745940615\n",
            "Silhouette Score for k = 7 : 0.6962419983939117\n",
            "Silhouette Score for k = 8 : 0.7002627033006884\n",
            "Silhouette Score for k = 9 : 0.6755340074334529\n"
          ]
        }
      ],
      "source": [
        "from pyspark.ml.clustering import KMeans\n",
        "from pyspark.ml.evaluation import ClusteringEvaluator\n",
        "\n",
        "silhouette_scores = []\n",
        "evaluator = ClusteringEvaluator(predictionCol='prediction', featuresCol='features',\n",
        "                                metricName='silhouette', distanceMeasure='squaredEuclidean')\n",
        "\n",
        "for i in range(2, 10):\n",
        "    kmeans = KMeans(featuresCol='features', k=i)\n",
        "    kmeans_model = kmeans.fit(combined_grouped_data_train)\n",
        "    predictions = kmeans_model.transform(combined_grouped_data_train)\n",
        "    score = evaluator.evaluate(predictions)\n",
        "    silhouette_scores.append(score)\n",
        "    print(\"Silhouette Score for k =\", i, \":\", score)\n"
      ]
    },
    {
      "cell_type": "code",
      "source": [
        "import matplotlib.pyplot as plt\n",
        "fig, ax = plt.subplots(1,1, figsize =(8,6))\n",
        "ax.plot(range(2,10),silhouette_scores)\n",
        "ax.set_xlabel('k')\n",
        "ax.set_ylabel('cost')"
      ],
      "metadata": {
        "id": "vnAzMOLJfoc1",
        "colab": {
          "base_uri": "https://localhost:8080/",
          "height": 559
        },
        "outputId": "d0cd08ef-ddbd-4929-acb4-c68dd245783d"
      },
      "execution_count": 31,
      "outputs": [
        {
          "output_type": "execute_result",
          "data": {
            "text/plain": [
              "Text(0, 0.5, 'cost')"
            ]
          },
          "metadata": {},
          "execution_count": 31
        },
        {
          "output_type": "display_data",
          "data": {
            "text/plain": [
              "<Figure size 800x600 with 1 Axes>"
            ],
            "image/png": "[encoded data removed]"
          },
          "metadata": {}
        }
      ]
    },
    {
      "cell_type": "code",
      "source": [],
      "metadata": {
        "id": "AgqGG2E7fl_9"
      },
      "execution_count": null,
      "outputs": []
    },
    {
      "cell_type": "code",
      "source": [
        "final_clustering=KMeans(featuresCol='standardized', k=3)\n",
        "KMeans_fit=KMeans_algo.fit(combined_grouped_data_test)\n",
        "clusters_output=KMeans_fit.transform(combined_grouped_data_test)\n",
        "clusters_output.show()"
      ],
      "metadata": {
        "id": "V3DxGVyribwc",
        "colab": {
          "base_uri": "https://localhost:8080/"
        },
        "outputId": "8a249a68-3b38-4dbc-d1f5-d059ccdd8e31"
      },
      "execution_count": 42,
      "outputs": [
        {
          "output_type": "stream",
          "name": "stdout",
          "text": [
            "+------+-------------+---------+------------+----------------+----------+-----------+---------+------------------+-------+------+----------------------+----------------+---------------+------------------+------+--------------------+--------------------+----------+\n",
            "|userId|userSessionId|teamLevel|platformType|count_gameclicks|count_hits|count_buyId|avg_price|             total|spender|userId|count_gameclicks_total|count_hits_total|avg_price_total|           Percent|hitter|platformType_indexed|            features|prediction|\n",
            "+------+-------------+---------+------------+----------------+----------+-----------+---------+------------------+-------+------+----------------------+----------------+---------------+------------------+------+--------------------+--------------------+----------+\n",
            "|     0|        23473|        1|      iphone|             237|        28|       NULL|     NULL|10179.410000000002|      0|     0|                  1240|             124|           0.00|              10.0|     0|                 0.0|[10.0,1.0,1240.0,...|         0|\n",
            "|     1|        10041|        3|     android|              93|         9|          2|     3.00|10179.410000000002|      0|     1|                   658|              84|           9.50| 12.76595744680851|     1|                 1.0|[12.7659574468085...|         0|\n",
            "|     2|        12107|        3|      iphone|               7|         0|       NULL|     NULL|10179.410000000002|      0|     2|                   206|              18|           0.00| 8.737864077669903|     0|                 0.0|[8.73786407766990...|         0|\n",
            "|     9|        10038|        3|      iphone|              54|         7|       NULL|     NULL|10179.410000000002|      0|     9|                   448|              54|          50.00|12.053571428571429|     1|                 0.0|[12.0535714285714...|         0|\n",
            "|     9|        12710|        4|      iphone|              91|        11|          1|    10.00|10179.410000000002|      1|     9|                   448|              54|          50.00|12.053571428571429|     1|                 0.0|[12.0535714285714...|         0|\n",
            "|    10|        24461|        4|       linux|             456|        50|          2|     1.50|10179.410000000002|      0|    10|                  2918|             324|           4.50|11.103495544893763|     1|                 3.0|[11.1034955448937...|         1|\n",
            "|    14|        29631|        7|       linux|              93|         6|       NULL|     NULL|10179.410000000002|      0|    14|                    93|               6|           0.00| 6.451612903225806|     0|                 3.0|[6.45161290322580...|         0|\n",
            "|    15|        25875|        6|     windows|               4|         0|       NULL|     NULL|10179.410000000002|      0|    15|                   125|              14|           1.00|              11.2|     1|                 2.0|[11.2,6.0,125.0,1...|         0|\n",
            "|    16|         9604|        2|     android|             596|        81|       NULL|     NULL|10179.410000000002|      0|    16|                  2305|             256|           0.00|11.106290672451193|     1|                 1.0|[11.1062906724511...|         1|\n",
            "|    16|        11793|        3|     android|             317|        33|       NULL|     NULL|10179.410000000002|      0|    16|                  2305|             256|           0.00|11.106290672451193|     1|                 1.0|[11.1062906724511...|         1|\n",
            "|    16|        18366|        2|      iphone|              23|         1|       NULL|     NULL|10179.410000000002|      0|    16|                  2305|             256|           0.00|11.106290672451193|     1|                 0.0|[11.1062906724511...|         1|\n",
            "|    16|        31615|        6|      iphone|             135|        22|       NULL|     NULL|10179.410000000002|      0|    16|                  2305|             256|           0.00|11.106290672451193|     1|                 0.0|[11.1062906724511...|         1|\n",
            "|    17|        22207|        6|     android|              70|         8|       NULL|     NULL|10179.410000000002|      0|    17|                   170|              18|           0.00|10.588235294117647|     1|                 1.0|[10.5882352941176...|         0|\n",
            "|    17|        26934|        7|     android|             100|        10|       NULL|     NULL|10179.410000000002|      0|    17|                   170|              18|           0.00|10.588235294117647|     1|                 1.0|[10.5882352941176...|         0|\n",
            "|    20|        30803|        6|      iphone|             133|        14|       NULL|     NULL|10179.410000000002|      0|    20|                   133|              14|           0.00|10.526315789473685|     1|                 0.0|[10.5263157894736...|         0|\n",
            "|    21|        26404|        7|     android|              96|        17|          3|     2.33|10179.410000000002|      0|    21|                   527|              52|          10.33| 9.867172675521822|     0|                 1.0|[9.86717267552182...|         0|\n",
            "|    23|        13838|        4|     android|             262|        25|       NULL|     NULL|10179.410000000002|      0|    23|                  1227|             122|           0.00| 9.942950285248573|     0|                 1.0|[9.94295028524857...|         0|\n",
            "|    23|        22505|        6|     android|             254|        30|       NULL|     NULL|10179.410000000002|      0|    23|                  1227|             122|           0.00| 9.942950285248573|     0|                 1.0|[9.94295028524857...|         0|\n",
            "|    27|        31978|        7|         mac|              30|         1|       NULL|     NULL|10179.410000000002|      0|    27|                    30|               1|           0.00|3.3333333333333335|     0|                 4.0|[3.33333333333333...|         0|\n",
            "|    28|         5740|        1|      iphone|              27|         3|       NULL|     NULL|10179.410000000002|      0|    28|                   388|              37|           0.00| 9.536082474226804|     0|                 0.0|[9.53608247422680...|         0|\n",
            "+------+-------------+---------+------------+----------------+----------+-----------+---------+------------------+-------+------+----------------------+----------------+---------------+------------------+------+--------------------+--------------------+----------+\n",
            "only showing top 20 rows\n",
            "\n"
          ]
        }
      ]
    },
    {
      "cell_type": "code",
      "source": [
        "import numpy as np\n",
        "import matplotlib.pyplot as plt\n",
        "from mpl_toolkits.mplot3d import Axes3D\n",
        "\n",
        "df = clusters_output.toPandas()\n",
        "label = df.prediction.tolist()\n",
        "u_labels = np.unique(label)\n",
        "\n",
        "filtered_df = df[df['prediction'] == 1]\n",
        "\n",
        "plt.rcParams[\"figure.figsize\"] = (14, 8)\n",
        "plt.rcParams['legend.fontsize'] = 10\n",
        "\n",
        "fig = plt.figure()\n",
        "ax = Axes3D(fig)\n",
        "\n",
        "ax.scatter(df.avg_price_total, df.count_hits_total, df.teamLevel, c=df.prediction, s=150, cmap='rainbow')\n",
        "\n",
        "scatter = ax.scatter(df.avg_price_total, df.count_hits_total, df.teamLevel, c=df.prediction, s=150, cmap='rainbow')\n",
        "legend1 = ax.legend(*scatter.legend_elements(), loc=\"upper left\", title=\"Classes\")\n",
        "ax.add_artist(legend1)\n",
        "\n",
        "ax.legend(loc='upper left')\n",
        "\n",
        "ax.set_xlabel('Price Total', fontsize=20, labelpad=10)\n",
        "ax.set_ylabel('Total Hit Counts', fontsize=20, rotation=150, labelpad=10)\n",
        "ax.set_zlabel('Team Level', fontsize=20, rotation=60, labelpad=15)\n",
        "\n",
        "plt.show()\n",
        "\n"
      ],
      "metadata": {
        "id": "4C9O3YjirLlc",
        "colab": {
          "base_uri": "https://localhost:8080/",
          "height": 52
        },
        "outputId": "28bba1c3-cc7a-4627-e0ec-791012028f57"
      },
      "execution_count": 44,
      "outputs": [
        {
          "output_type": "stream",
          "name": "stderr",
          "text": [
            "WARNING:matplotlib.legend:No artists with labels found to put in legend.  Note that artists whose label start with an underscore are ignored when legend() is called with no argument.\n"
          ]
        },
        {
          "output_type": "display_data",
          "data": {
            "text/plain": [
              "<Figure size 1400x800 with 0 Axes>"
            ]
          },
          "metadata": {}
        }
      ]
    },
    {
      "cell_type": "code",
      "source": [],
      "metadata": {
        "id": "hwrKfpCI_qJ4"
      },
      "execution_count": null,
      "outputs": []
    },
    {
      "cell_type": "code",
      "source": [
        "clusters_output.show()"
      ],
      "metadata": {
        "id": "J6bVZjUeiqY4",
        "colab": {
          "base_uri": "https://localhost:8080/"
        },
        "outputId": "815846d9-17ef-40ee-f76e-b2a5dfa70f47"
      },
      "execution_count": 45,
      "outputs": [
        {
          "output_type": "stream",
          "name": "stdout",
          "text": [
            "+------+-------------+---------+------------+----------------+----------+-----------+---------+------------------+-------+------+----------------------+----------------+---------------+------------------+------+--------------------+--------------------+----------+\n",
            "|userId|userSessionId|teamLevel|platformType|count_gameclicks|count_hits|count_buyId|avg_price|             total|spender|userId|count_gameclicks_total|count_hits_total|avg_price_total|           Percent|hitter|platformType_indexed|            features|prediction|\n",
            "+------+-------------+---------+------------+----------------+----------+-----------+---------+------------------+-------+------+----------------------+----------------+---------------+------------------+------+--------------------+--------------------+----------+\n",
            "|     0|        23473|        1|      iphone|             237|        28|       NULL|     NULL|10179.410000000002|      0|     0|                  1240|             124|           0.00|              10.0|     0|                 0.0|[10.0,1.0,1240.0,...|         0|\n",
            "|     1|        10041|        3|     android|              93|         9|          2|     3.00|10179.410000000002|      0|     1|                   658|              84|           9.50| 12.76595744680851|     1|                 1.0|[12.7659574468085...|         0|\n",
            "|     2|        12107|        3|      iphone|               7|         0|       NULL|     NULL|10179.410000000002|      0|     2|                   206|              18|           0.00| 8.737864077669903|     0|                 0.0|[8.73786407766990...|         0|\n",
            "|     9|        10038|        3|      iphone|              54|         7|       NULL|     NULL|10179.410000000002|      0|     9|                   448|              54|          50.00|12.053571428571429|     1|                 0.0|[12.0535714285714...|         0|\n",
            "|     9|        12710|        4|      iphone|              91|        11|          1|    10.00|10179.410000000002|      1|     9|                   448|              54|          50.00|12.053571428571429|     1|                 0.0|[12.0535714285714...|         0|\n",
            "|    10|        24461|        4|       linux|             456|        50|          2|     1.50|10179.410000000002|      0|    10|                  2918|             324|           4.50|11.103495544893763|     1|                 3.0|[11.1034955448937...|         1|\n",
            "|    14|        29631|        7|       linux|              93|         6|       NULL|     NULL|10179.410000000002|      0|    14|                    93|               6|           0.00| 6.451612903225806|     0|                 3.0|[6.45161290322580...|         0|\n",
            "|    15|        25875|        6|     windows|               4|         0|       NULL|     NULL|10179.410000000002|      0|    15|                   125|              14|           1.00|              11.2|     1|                 2.0|[11.2,6.0,125.0,1...|         0|\n",
            "|    16|         9604|        2|     android|             596|        81|       NULL|     NULL|10179.410000000002|      0|    16|                  2305|             256|           0.00|11.106290672451193|     1|                 1.0|[11.1062906724511...|         1|\n",
            "|    16|        11793|        3|     android|             317|        33|       NULL|     NULL|10179.410000000002|      0|    16|                  2305|             256|           0.00|11.106290672451193|     1|                 1.0|[11.1062906724511...|         1|\n",
            "|    16|        18366|        2|      iphone|              23|         1|       NULL|     NULL|10179.410000000002|      0|    16|                  2305|             256|           0.00|11.106290672451193|     1|                 0.0|[11.1062906724511...|         1|\n",
            "|    16|        31615|        6|      iphone|             135|        22|       NULL|     NULL|10179.410000000002|      0|    16|                  2305|             256|           0.00|11.106290672451193|     1|                 0.0|[11.1062906724511...|         1|\n",
            "|    17|        22207|        6|     android|              70|         8|       NULL|     NULL|10179.410000000002|      0|    17|                   170|              18|           0.00|10.588235294117647|     1|                 1.0|[10.5882352941176...|         0|\n",
            "|    17|        26934|        7|     android|             100|        10|       NULL|     NULL|10179.410000000002|      0|    17|                   170|              18|           0.00|10.588235294117647|     1|                 1.0|[10.5882352941176...|         0|\n",
            "|    20|        30803|        6|      iphone|             133|        14|       NULL|     NULL|10179.410000000002|      0|    20|                   133|              14|           0.00|10.526315789473685|     1|                 0.0|[10.5263157894736...|         0|\n",
            "|    21|        26404|        7|     android|              96|        17|          3|     2.33|10179.410000000002|      0|    21|                   527|              52|          10.33| 9.867172675521822|     0|                 1.0|[9.86717267552182...|         0|\n",
            "|    23|        13838|        4|     android|             262|        25|       NULL|     NULL|10179.410000000002|      0|    23|                  1227|             122|           0.00| 9.942950285248573|     0|                 1.0|[9.94295028524857...|         0|\n",
            "|    23|        22505|        6|     android|             254|        30|       NULL|     NULL|10179.410000000002|      0|    23|                  1227|             122|           0.00| 9.942950285248573|     0|                 1.0|[9.94295028524857...|         0|\n",
            "|    27|        31978|        7|         mac|              30|         1|       NULL|     NULL|10179.410000000002|      0|    27|                    30|               1|           0.00|3.3333333333333335|     0|                 4.0|[3.33333333333333...|         0|\n",
            "|    28|         5740|        1|      iphone|              27|         3|       NULL|     NULL|10179.410000000002|      0|    28|                   388|              37|           0.00| 9.536082474226804|     0|                 0.0|[9.53608247422680...|         0|\n",
            "+------+-------------+---------+------------+----------------+----------+-----------+---------+------------------+-------+------+----------------------+----------------+---------------+------------------+------+--------------------+--------------------+----------+\n",
            "only showing top 20 rows\n",
            "\n"
          ]
        }
      ]
    },
    {
      "cell_type": "code",
      "source": [
        "#################### KMEANS \n",
        "from pyspark.ml.feature import VectorAssembler\n",
        "from pyspark.ml.feature import StringIndexer\n",
        "from pyspark.ml.feature import StandardScaler\n",
        "from pyspark.ml.clustering import KMeans\n",
        "import pandas as pd\n",
        "\n",
        "# Select the features to be used for clustering\n",
        "featuresUsed = [\"platformType_indexed\", \"teamLevel\", \"hitter\", \"spender\", \"count_gameclicks_total\", \"avg_price_total\", \"count_hits_total\"]\n",
        "\n",
        "# Convert 'avg_price_total' column to a numeric data type\n",
        "combined_grouped_indexed = combined_grouped_indexed.withColumn(\"avg_price_total\", combined_grouped_indexed[\"avg_price_total\"].cast(\"double\"))\n",
        "\n",
        "# Assemble the features into a vector column\n",
        "assembler = VectorAssembler(inputCols=featuresUsed, outputCol=\"features_unscaled\")\n",
        "assembled_feature = assembler.transform(combined_grouped_indexed)\n",
        "\n",
        "# Scale the data to standardize different units\n",
        "scaler = StandardScaler(inputCol=\"features_unscaled\", outputCol=\"features\", withStd=True, withMean=True)\n",
        "scalerModel = scaler.fit(assembled_feature)\n",
        "scaledData = scalerModel.transform(assembled_feature)\n",
        "\n",
        "elbowset = scaledData.select(\"features\", \"platformType_indexed\", \"count_gameclicks_total\", \"avg_price_total\", \"count_hits_total\", \"teamLevel\")\n",
        "clusters = range(5, 25)\n",
        "\n",
        "wsseList = elbow(elbowset, clusters)\n",
        "\n",
        "# Plot the elbow method\n",
        "elbow_plot(wsseList, clusters)\n",
        "\n",
        "# Select the feature columns\n",
        "scaledDataFeat = scaledData.select(\"features\", \"teamLevel\", \"platformType_indexed\", \"count_gameclicks_total\", \"avg_price_total\", \"count_hits_total\", \"spender\", \"hitter\")\n",
        "scaledDataFeat.persist()\n",
        "\n",
        "# Train the KMeans model with 5 clusters\n",
        "kmeans = KMeans(k=5, seed=1)\n",
        "model = kmeans.fit(scaledDataFeat)\n",
        "transformed = model.transform(scaledDataFeat)\n",
        "\n",
        "# Get cluster centroids\n",
        "centers = model.clusterCenters()\n",
        "\n",
        "# Convert cluster centroids to pandas DataFrame\n",
        "P = pd_centers(featuresUsed, centers)\n",
        "P.head()\n",
        "\n",
        "\n",
        "\n"
      ],
      "metadata": {
        "id": "IDup2xu5Aa7e",
        "colab": {
          "base_uri": "https://localhost:8080/",
          "height": 1000
        },
        "outputId": "b36ebac6-382c-45d2-fad3-3045e5c13d1d"
      },
      "execution_count": 52,
      "outputs": [
        {
          "output_type": "stream",
          "name": "stdout",
          "text": [
            "Training for cluster size 5 \n",
            "......................WSSE = 7402.3832302379515 \n",
            "Training for cluster size 6 \n",
            "......................WSSE = 7048.319723977783 \n",
            "Training for cluster size 7 \n",
            "......................WSSE = 7011.454831986224 \n",
            "Training for cluster size 8 \n",
            "......................WSSE = 6648.859149339848 \n",
            "Training for cluster size 9 \n",
            "......................WSSE = 6363.240529222316 \n",
            "Training for cluster size 10 \n",
            "......................WSSE = 5828.245776956924 \n",
            "Training for cluster size 11 \n",
            "......................WSSE = 5822.26276530395 \n",
            "Training for cluster size 12 \n",
            "......................WSSE = 5596.8897051554895 \n",
            "Training for cluster size 13 \n",
            "......................WSSE = 5466.591940879645 \n",
            "Training for cluster size 14 \n",
            "......................WSSE = 5379.907360972269 \n",
            "Training for cluster size 15 \n",
            "......................WSSE = 5257.270145903736 \n",
            "Training for cluster size 16 \n",
            "......................WSSE = 5168.471260452605 \n",
            "Training for cluster size 17 \n",
            "......................WSSE = 5086.526336788247 \n",
            "Training for cluster size 18 \n",
            "......................WSSE = 4886.484499042484 \n",
            "Training for cluster size 19 \n",
            "......................WSSE = 4845.878922970416 \n",
            "Training for cluster size 20 \n",
            "......................WSSE = 5021.968923943889 \n",
            "Training for cluster size 21 \n",
            "......................WSSE = 4837.522549109814 \n",
            "Training for cluster size 22 \n",
            "......................WSSE = 4676.619418096217 \n",
            "Training for cluster size 23 \n",
            "......................WSSE = 4555.773854633121 \n",
            "Training for cluster size 24 \n",
            "......................WSSE = 4522.743305321572 \n"
          ]
        },
        {
          "output_type": "execute_result",
          "data": {
            "text/plain": [
              "   platformType_indexed  teamLevel    hitter   spender  \\\n",
              "0             -0.159078  -0.036365  0.560036 -0.372151   \n",
              "1              0.147503  -0.453602  0.287198 -0.137452   \n",
              "2              2.360239   0.004245 -0.201248 -0.292081   \n",
              "3             -0.751559   0.301983  0.390343  2.561660   \n",
              "4             -0.195034   0.118900 -1.785211 -0.358450   \n",
              "\n",
              "   count_gameclicks_total  avg_price_total  count_hits_total  \n",
              "0               -0.217321        -0.160085         -0.179910  \n",
              "1                2.530351        -0.054809          2.514082  \n",
              "2               -0.246001        -0.399195         -0.261021  \n",
              "3               -0.209781         1.790676         -0.104333  \n",
              "4               -0.328588        -0.454844         -0.479037  "
            ],
            "text/html": [
              "\n",
              "  <div id=\"df-1eb951fc-8489-4f57-b262-de6bfb5c1b0e\">\n",
              "    <div class=\"colab-df-container\">\n",
              "      <div>\n",
              "<style scoped>\n",
              "    .dataframe tbody tr th:only-of-type {\n",
              "        vertical-align: middle;\n",
              "    }\n",
              "\n",
              "    .dataframe tbody tr th {\n",
              "        vertical-align: top;\n",
              "    }\n",
              "\n",
              "    .dataframe thead th {\n",
              "        text-align: right;\n",
              "    }\n",
              "</style>\n",
              "<table border=\"1\" class=\"dataframe\">\n",
              "  <thead>\n",
              "    <tr style=\"text-align: right;\">\n",
              "      <th></th>\n",
              "      <th>platformType_indexed</th>\n",
              "      <th>teamLevel</th>\n",
              "      <th>hitter</th>\n",
              "      <th>spender</th>\n",
              "      <th>count_gameclicks_total</th>\n",
              "      <th>avg_price_total</th>\n",
              "      <th>count_hits_total</th>\n",
              "    </tr>\n",
              "  </thead>\n",
              "  <tbody>\n",
              "    <tr>\n",
              "      <th>0</th>\n",
              "      <td>-0.159078</td>\n",
              "      <td>-0.036365</td>\n",
              "      <td>0.560036</td>\n",
              "      <td>-0.372151</td>\n",
              "      <td>-0.217321</td>\n",
              "      <td>-0.160085</td>\n",
              "      <td>-0.179910</td>\n",
              "    </tr>\n",
              "    <tr>\n",
              "      <th>1</th>\n",
              "      <td>0.147503</td>\n",
              "      <td>-0.453602</td>\n",
              "      <td>0.287198</td>\n",
              "      <td>-0.137452</td>\n",
              "      <td>2.530351</td>\n",
              "      <td>-0.054809</td>\n",
              "      <td>2.514082</td>\n",
              "    </tr>\n",
              "    <tr>\n",
              "      <th>2</th>\n",
              "      <td>2.360239</td>\n",
              "      <td>0.004245</td>\n",
              "      <td>-0.201248</td>\n",
              "      <td>-0.292081</td>\n",
              "      <td>-0.246001</td>\n",
              "      <td>-0.399195</td>\n",
              "      <td>-0.261021</td>\n",
              "    </tr>\n",
              "    <tr>\n",
              "      <th>3</th>\n",
              "      <td>-0.751559</td>\n",
              "      <td>0.301983</td>\n",
              "      <td>0.390343</td>\n",
              "      <td>2.561660</td>\n",
              "      <td>-0.209781</td>\n",
              "      <td>1.790676</td>\n",
              "      <td>-0.104333</td>\n",
              "    </tr>\n",
              "    <tr>\n",
              "      <th>4</th>\n",
              "      <td>-0.195034</td>\n",
              "      <td>0.118900</td>\n",
              "      <td>-1.785211</td>\n",
              "      <td>-0.358450</td>\n",
              "      <td>-0.328588</td>\n",
              "      <td>-0.454844</td>\n",
              "      <td>-0.479037</td>\n",
              "    </tr>\n",
              "  </tbody>\n",
              "</table>\n",
              "</div>\n",
              "      <button class=\"colab-df-convert\" onclick=\"convertToInteractive('df-1eb951fc-8489-4f57-b262-de6bfb5c1b0e')\"\n",
              "              title=\"Convert this dataframe to an interactive table.\"\n",
              "              style=\"display:none;\">\n",
              "        \n",
              "  <svg xmlns=\"http://www.w3.org/2000/svg\" height=\"24px\"viewBox=\"0 0 24 24\"\n",
              "       width=\"24px\">\n",
              "    <path d=\"M0 0h24v24H0V0z\" fill=\"none\"/>\n",
              "    <path d=\"M18.56 5.44l.94 2.06.94-2.06 2.06-.94-2.06-.94-.94-2.06-.94 2.06-2.06.94zm-11 1L8.5 8.5l.94-2.06 2.06-.94-2.06-.94L8.5 2.5l-.94 2.06-2.06.94zm10 10l.94 2.06.94-2.06 2.06-.94-2.06-.94-.94-2.06-.94 2.06-2.06.94z\"/><path d=\"M17.41 7.96l-1.37-1.37c-.4-.4-.92-.59-1.43-.59-.52 0-1.04.2-1.43.59L10.3 9.45l-7.72 7.72c-.78.78-.78 2.05 0 2.83L4 21.41c.39.39.9.59 1.41.59.51 0 1.02-.2 1.41-.59l7.78-7.78 2.81-2.81c.8-.78.8-2.07 0-2.86zM5.41 20L4 18.59l7.72-7.72 1.47 1.35L5.41 20z\"/>\n",
              "  </svg>\n",
              "      </button>\n",
              "      \n",
              "  <style>\n",
              "    .colab-df-container {\n",
              "      display:flex;\n",
              "      flex-wrap:wrap;\n",
              "      gap: 12px;\n",
              "    }\n",
              "\n",
              "    .colab-df-convert {\n",
              "      background-color: #E8F0FE;\n",
              "      border: none;\n",
              "      border-radius: 50%;\n",
              "      cursor: pointer;\n",
              "      display: none;\n",
              "      fill: #1967D2;\n",
              "      height: 32px;\n",
              "      padding: 0 0 0 0;\n",
              "      width: 32px;\n",
              "    }\n",
              "\n",
              "    .colab-df-convert:hover {\n",
              "      background-color: #E2EBFA;\n",
              "      box-shadow: 0px 1px 2px rgba(60, 64, 67, 0.3), 0px 1px 3px 1px rgba(60, 64, 67, 0.15);\n",
              "      fill: #174EA6;\n",
              "    }\n",
              "\n",
              "    [theme=dark] .colab-df-convert {\n",
              "      background-color: #3B4455;\n",
              "      fill: #D2E3FC;\n",
              "    }\n",
              "\n",
              "    [theme=dark] .colab-df-convert:hover {\n",
              "      background-color: #434B5C;\n",
              "      box-shadow: 0px 1px 3px 1px rgba(0, 0, 0, 0.15);\n",
              "      filter: drop-shadow(0px 1px 2px rgba(0, 0, 0, 0.3));\n",
              "      fill: #FFFFFF;\n",
              "    }\n",
              "  </style>\n",
              "\n",
              "      <script>\n",
              "        const buttonEl =\n",
              "          document.querySelector('#df-1eb951fc-8489-4f57-b262-de6bfb5c1b0e button.colab-df-convert');\n",
              "        buttonEl.style.display =\n",
              "          google.colab.kernel.accessAllowed ? 'block' : 'none';\n",
              "\n",
              "        async function convertToInteractive(key) {\n",
              "          const element = document.querySelector('#df-1eb951fc-8489-4f57-b262-de6bfb5c1b0e');\n",
              "          const dataTable =\n",
              "            await google.colab.kernel.invokeFunction('convertToInteractive',\n",
              "                                                     [key], {});\n",
              "          if (!dataTable) return;\n",
              "\n",
              "          const docLinkHtml = 'Like what you see? Visit the ' +\n",
              "            '<a target=\"_blank\" href=https://colab.research.google.com/notebooks/data_table.ipynb>data table notebook</a>'\n",
              "            + ' to learn more about interactive tables.';\n",
              "          element.innerHTML = '';\n",
              "          dataTable['output_type'] = 'display_data';\n",
              "          await google.colab.output.renderOutput(dataTable, element);\n",
              "          const docLink = document.createElement('div');\n",
              "          docLink.innerHTML = docLinkHtml;\n",
              "          element.appendChild(docLink);\n",
              "        }\n",
              "      </script>\n",
              "    </div>\n",
              "  </div>\n",
              "  "
            ]
          },
          "metadata": {},
          "execution_count": 52
        },
        {
          "output_type": "display_data",
          "data": {
            "text/plain": [
              "<Figure size 1500x1000 with 1 Axes>"
            ],
            "image/png": "[encoded data removed]"
          },
          "metadata": {}
        }
      ]
    },
    {
      "cell_type": "code",
      "source": [
        "transformed.show()\n",
        "centers"
      ],
      "metadata": {
        "id": "H_KPW31YMQdV",
        "colab": {
          "base_uri": "https://localhost:8080/"
        },
        "outputId": "4f0b44d2-5955-4f6d-8996-76881c8e5f5e"
      },
      "execution_count": 54,
      "outputs": [
        {
          "output_type": "stream",
          "name": "stdout",
          "text": [
            "+--------------------+---------+--------------------+----------------------+---------------+----------------+-------+------+----------+\n",
            "|            features|teamLevel|platformType_indexed|count_gameclicks_total|avg_price_total|count_hits_total|spender|hitter|prediction|\n",
            "+--------------------+---------+--------------------+----------------------+---------------+----------------+-------+------+----------+\n",
            "|[0.05614147219518...|        1|                 1.0|                   669|            0.0|              74|      0|     1|         0|\n",
            "|[-0.8902726156499...|        1|                 0.0|                   403|           37.5|              58|      0|     1|         0|\n",
            "|[-0.8902726156499...|        1|                 0.0|                   289|            0.0|              25|      0|     0|         4|\n",
            "|[0.05614147219518...|        1|                 1.0|                   371|           13.0|              41|      0|     1|         0|\n",
            "|[0.05614147219518...|        1|                 1.0|                   145|            1.0|              14|      0|     0|         4|\n",
            "|[0.05614147219518...|        1|                 1.0|                   283|            0.0|              35|      0|     1|         0|\n",
            "|[-0.8902726156499...|        1|                 0.0|                   420|            0.0|              52|      0|     1|         0|\n",
            "|[1.00255556004032...|        1|                 2.0|                   530|           27.0|              63|      0|     1|         0|\n",
            "|[0.05614147219518...|        1|                 1.0|                   726|            0.0|              84|      0|     1|         0|\n",
            "|[-0.8902726156499...|        1|                 0.0|                   902|           12.5|              97|      0|     1|         0|\n",
            "|[-0.8902726156499...|        1|                 0.0|                   694|           47.5|              70|      0|     1|         0|\n",
            "|[-0.8902726156499...|        1|                 0.0|                   783|           44.0|              79|      1|     1|         3|\n",
            "|[-0.8902726156499...|        1|                 0.0|                   365|           94.0|              41|      0|     1|         3|\n",
            "|[0.05614147219518...|        1|                 1.0|                   900|          17.67|             106|      0|     1|         0|\n",
            "|[0.05614147219518...|        1|                 1.0|                   846|            0.0|              90|      0|     1|         0|\n",
            "|[-0.8902726156499...|        1|                 0.0|                   981|           10.0|             119|      0|     1|         0|\n",
            "|[0.05614147219518...|        1|                 1.0|                  1078|            0.0|             119|      0|     1|         0|\n",
            "|[0.05614147219518...|        1|                 1.0|                   402|           14.0|              39|      0|     0|         4|\n",
            "|[0.05614147219518...|        1|                 1.0|                   897|           13.5|             104|      0|     1|         0|\n",
            "|[-0.8902726156499...|        1|                 0.0|                   371|            0.0|              36|      0|     0|         4|\n",
            "+--------------------+---------+--------------------+----------------------+---------------+----------------+-------+------+----------+\n",
            "only showing top 20 rows\n",
            "\n"
          ]
        },
        {
          "output_type": "execute_result",
          "data": {
            "text/plain": [
              "[array([-0.15907806, -0.03636503,  0.56003647, -0.37215053, -0.21732124,\n",
              "        -0.1600847 , -0.17990985]),\n",
              " array([ 0.14750323, -0.45360234,  0.28719822, -0.13745186,  2.53035053,\n",
              "        -0.0548085 ,  2.51408176]),\n",
              " array([ 2.3602386 ,  0.00424472, -0.20124819, -0.29208106, -0.24600105,\n",
              "        -0.39919541, -0.26102093]),\n",
              " array([-0.75155886,  0.30198308,  0.3903432 ,  2.56166   , -0.20978065,\n",
              "         1.79067607, -0.10433334]),\n",
              " array([-0.1950345 ,  0.11889969, -1.78521144, -0.35844995, -0.32858808,\n",
              "        -0.45484407, -0.47903675])]"
            ]
          },
          "metadata": {},
          "execution_count": 54
        }
      ]
    },
    {
      "cell_type": "code",
      "source": [
        "# Convert cluster centroids to pandas DataFrame\n",
        "P = pd_centers(featuresUsed, centers)\n",
        "\n",
        "# Add 'prediction' column to DataFrame P\n",
        "predictions = model.transform(scaledDataFeat)\n",
        "P['prediction'] = predictions.select('prediction').toPandas()\n",
        "\n",
        "# Plot parallel coordinates for clusters with 'hitter' value less than -0.5\n",
        "parallel_plot(P[P['hitter'] < -0.5], P)"
      ],
      "metadata": {
        "id": "VidtgJn51zjO",
        "colab": {
          "base_uri": "https://localhost:8080/",
          "height": 682
        },
        "outputId": "8a9cd790-9272-4286-a8bf-5e817ecfd5d3"
      },
      "execution_count": 56,
      "outputs": [
        {
          "output_type": "display_data",
          "data": {
            "text/plain": [
              "<Figure size 1500x800 with 1 Axes>"
            ],
            "image/png": "[encoded data removed]"
          },
          "metadata": {}
        }
      ]
    },
    {
      "cell_type": "code",
      "source": [
        "from logging import Handler\n",
        "####### PLOT K MEANS\n",
        "import numpy as np \n",
        "import matplotlib.pyplot as plt\n",
        "\n",
        "\n",
        "df = transformed.toPandas()\n",
        "\n",
        "label = df.prediction.tolist()\n",
        "\n",
        "u_labels = np.unique(label)\n",
        "\n",
        "\n",
        "\n",
        "filtereddf = df[df['prediction'] == 1]\n",
        "\n",
        "\n",
        "\n",
        "##################### ATTEMPT 1 AT PLOTTING\n",
        "# https://rsandstroem.github.io/sparkkmeans.html\n",
        "\n",
        "# threedee = plt.figure(figsize=(12,10)).gca(projection='3d')\n",
        "# threedee.scatter(df.avg_price_total, df.count_hits_total, df.teamLevel  , c=df.prediction)\n",
        "# threedee.set_xlabel('teamLevel')\n",
        "# threedee.set_ylabel('count_hits_total')\n",
        "# threedee.set_zlabel('avg_price_total')\n",
        "\n",
        "# print(u_labels)\n",
        "# plt.legend(labels = u_labels, bbox_to_anchor=(1.05, 1), loc=2, )\n",
        "# plt.show()\n",
        "\n",
        "\n",
        "\n",
        "###################### ATTEMPT 2 \n",
        "# https://stackoverflow.com/questions/69887186/legends-not-appearing-in-3d-plot\n",
        "\n",
        "\n",
        "\n",
        "plt.rcParams[\"figure.figsize\"]=(14,8)\n",
        "plt.rcParams['legend.fontsize'] = 10\n",
        "from mpl_toolkits.mplot3d import Axes3D\n",
        "fig = plt.figure()\n",
        "ax = Axes3D(fig)\n",
        "\n",
        "ax.scatter(df.avg_price_total, df.count_hits_total, df.platformType_indexed  , c=df.prediction, s =150,cmap='rainbow')\n",
        "\n",
        "\n",
        "scatter = ax.scatter(df.avg_price_total, df.count_hits_total, df.platformType_indexed, c=df.prediction, s =150,cmap='rainbow')\n",
        "legend1 = ax.legend(*scatter.legend_elements(),\n",
        "                    loc=\"upper left\", title=\"Classes\")\n",
        "ax.add_artist(legend1)\n",
        "\n",
        "ax.legend(loc = 'upper left')\n",
        "\n",
        "ax.set_xlabel('Price Total',fontsize=20,labelpad=10)\n",
        "ax.set_ylabel('Total Hit Counts', fontsize=20, rotation=150,labelpad=10)\n",
        "ax.set_zlabel('Team Level', fontsize=20, rotation=60,labelpad=15)\n",
        "\n",
        "\n",
        "\n",
        "\n",
        "\n",
        "\n",
        "\n"
      ],
      "metadata": {
        "id": "F77-3o6qHNhW",
        "colab": {
          "base_uri": "https://localhost:8080/",
          "height": 69
        },
        "outputId": "7586c45f-79a5-488d-c823-306083821052"
      },
      "execution_count": 57,
      "outputs": [
        {
          "output_type": "stream",
          "name": "stderr",
          "text": [
            "WARNING:matplotlib.legend:No artists with labels found to put in legend.  Note that artists whose label start with an underscore are ignored when legend() is called with no argument.\n"
          ]
        },
        {
          "output_type": "execute_result",
          "data": {
            "text/plain": [
              "Text(0.5, 0, 'Team Level')"
            ]
          },
          "metadata": {},
          "execution_count": 57
        },
        {
          "output_type": "display_data",
          "data": {
            "text/plain": [
              "<Figure size 1400x800 with 0 Axes>"
            ]
          },
          "metadata": {}
        }
      ]
    },
    {
      "cell_type": "code",
      "source": [
        "from pyspark.ml.feature import VectorAssembler\n",
        "\n",
        "# Create an assembler object\n",
        "featuresUsed = [\"avg_price_total\",\n",
        " 'teamLevel',\n",
        "\"platformType_indexed\"\n",
        " ]\n",
        "\n",
        "\n",
        "\n",
        "assembler = VectorAssembler(inputCols=featuresUsed,  outputCol='features')\n",
        "assembled = assembler.transform(combined_grouped_indexed)\n",
        "\n",
        "\n",
        "# assembled  = assembled.select(featuresUsed)\n",
        "# Split into training and test sets in a 80:20 ratio\n",
        "combined_grouped_data_train, combined_grouped_data_test = assembled.randomSplit([0.8, 0.2], seed=17)\n",
        "\n",
        "\n",
        "\n",
        "# Check the resulting column\n",
        "combined_grouped_data_train.show(5, truncate=False)\n",
        "\n",
        "\n"
      ],
      "metadata": {
        "id": "DrBwqZR6uO8b",
        "colab": {
          "base_uri": "https://localhost:8080/"
        },
        "outputId": "284b90fe-b275-42e7-dc8e-960ec9dbb4f8"
      },
      "execution_count": 58,
      "outputs": [
        {
          "output_type": "stream",
          "name": "stdout",
          "text": [
            "+------+-------------+---------+------------+----------------+----------+-----------+---------+------------------+-------+------+----------------------+----------------+---------------+-----------------+------+--------------------+-------------+\n",
            "|userId|userSessionId|teamLevel|platformType|count_gameclicks|count_hits|count_buyId|avg_price|total             |spender|userId|count_gameclicks_total|count_hits_total|avg_price_total|Percent          |hitter|platformType_indexed|features     |\n",
            "+------+-------------+---------+------------+----------------+----------+-----------+---------+------------------+-------+------+----------------------+----------------+---------------+-----------------+------+--------------------+-------------+\n",
            "|0     |24943        |2        |iphone      |353             |35        |NULL       |NULL     |10179.410000000002|0      |0     |1240                  |124             |0.0            |10.0             |0     |0.0                 |[0.0,2.0,0.0]|\n",
            "|0     |28377        |3        |iphone      |381             |32        |NULL       |NULL     |10179.410000000002|0      |0     |1240                  |124             |0.0            |10.0             |0     |0.0                 |[0.0,3.0,0.0]|\n",
            "|0     |32029        |4        |iphone      |269             |29        |NULL       |NULL     |10179.410000000002|0      |0     |1240                  |124             |0.0            |10.0             |0     |0.0                 |[0.0,4.0,0.0]|\n",
            "|1     |5835         |1        |android     |73              |7         |NULL       |NULL     |10179.410000000002|0      |1     |658                   |84              |9.5            |12.76595744680851|1     |1.0                 |[9.5,1.0,1.0]|\n",
            "|1     |7847         |2        |android     |95              |14        |NULL       |NULL     |10179.410000000002|0      |1     |658                   |84              |9.5            |12.76595744680851|1     |1.0                 |[9.5,2.0,1.0]|\n",
            "+------+-------------+---------+------------+----------------+----------+-----------+---------+------------------+-------+------+----------------------+----------------+---------------+-----------------+------+--------------------+-------------+\n",
            "only showing top 5 rows\n",
            "\n"
          ]
        }
      ]
    },
    {
      "cell_type": "code",
      "execution_count": null,
      "metadata": {
        "id": "rKq1b7LE4Tmz",
        "colab": {
          "base_uri": "https://localhost:8080/"
        },
        "outputId": "f3d4c068-4bc5-48a1-9d16-707e500c8c54"
      },
      "outputs": [
        {
          "output_type": "stream",
          "name": "stdout",
          "text": [
            "+----------+--------------+----------------------------------------+------+\n",
            "|prediction|rawPrediction |probability                             |hitter|\n",
            "+----------+--------------+----------------------------------------+------+\n",
            "|1.0       |[601.0,1285.0]|[0.31866383881230115,0.6813361611876988]|0     |\n",
            "|1.0       |[156.0,1218.0]|[0.11353711790393013,0.8864628820960698]|1     |\n",
            "|1.0       |[601.0,1285.0]|[0.31866383881230115,0.6813361611876988]|0     |\n",
            "|1.0       |[156.0,1218.0]|[0.11353711790393013,0.8864628820960698]|1     |\n",
            "|1.0       |[156.0,1218.0]|[0.11353711790393013,0.8864628820960698]|1     |\n",
            "+----------+--------------+----------------------------------------+------+\n",
            "only showing top 5 rows\n",
            "\n"
          ]
        }
      ],
      "source": [
        "################################## DECISION TREE FOR Hitter\n",
        "\n",
        "from pyspark.ml.classification import DecisionTreeClassifier\n",
        "\n",
        "\n",
        "\n",
        "\n",
        "# Create a classifier object and fit to the training data\n",
        "tree = DecisionTreeClassifier(labelCol='hitter')\n",
        "tree_model = tree.fit(combined_grouped_data_train)\n",
        "\n",
        "\n",
        "\n",
        "# Create predictions for the testing data and take a look at the predictions\n",
        "prediction = tree_model.transform(combined_grouped_data_test)\n",
        "prediction.select(\"prediction\",\"rawPrediction\",\"probability\", \"hitter\").show(5, False)\n",
        "\n",
        "\n",
        "\n",
        "\n",
        "\n"
      ]
    },
    {
      "cell_type": "code",
      "source": [
        "!pip install pydotplus"
      ],
      "metadata": {
        "id": "A0SNIBzCCkiP",
        "colab": {
          "base_uri": "https://localhost:8080/"
        },
        "outputId": "ac6b9d7f-6ddf-454a-9d8b-fd7785972d47"
      },
      "execution_count": null,
      "outputs": [
        {
          "output_type": "stream",
          "name": "stdout",
          "text": [
            "Looking in indexes: https://pypi.org/simple, https://us-python.pkg.dev/colab-wheels/public/simple/\n",
            "Requirement already satisfied: pydotplus in /usr/local/lib/python3.10/dist-packages (2.0.2)\n",
            "Requirement already satisfied: pyparsing>=2.0.1 in /usr/local/lib/python3.10/dist-packages (from pydotplus) (3.0.9)\n"
          ]
        }
      ]
    },
    {
      "cell_type": "code",
      "source": [
        "tree_model.toDebugString\n",
        "\n",
        "\n",
        "\n",
        "\n",
        "\n",
        "def parse_debug_string_lines(lines):\n",
        "    \n",
        "    block = []\n",
        "    while lines:\n",
        "\n",
        "\n",
        "        if lines[0].startswith('If'):\n",
        "            bl = ' '.join(lines.pop(0).split()[1:]).replace('(', '').replace(')', '')\n",
        "            block.append({'name': bl, 'children': parse_debug_string_lines(lines)})\n",
        "\n",
        "\n",
        "            if lines[0].startswith('Else'):\n",
        "                be = ' '.join(lines.pop(0).split()[1:]).replace('(', '').replace(')', '')\n",
        "                block.append({'name': be, 'children': parse_debug_string_lines(lines)})\n",
        "        elif not lines[0].startswith(('If', 'Else')):\n",
        "            block2 = lines.pop(0)\n",
        "            block.append({'name': block2})\n",
        "        else:\n",
        "            break\n",
        "    \n",
        "    return block\n",
        "\n",
        "\n",
        "def debug_str_to_json(debug_string):\n",
        "    data = []\n",
        "    for line in debug_string.splitlines():\n",
        "        if line.strip():\n",
        "            line = line.strip()\n",
        "            data.append(line)\n",
        "        else:\n",
        "            break\n",
        "        if not line: break\n",
        "\n",
        "    json = {'name': 'Root', 'children': parse_debug_string_lines(data[1:])}\n",
        "\n",
        "    \n",
        "\n",
        "    return json\n",
        "\n",
        "\n",
        "\n",
        "import json\n",
        "\n",
        "dict_tree_json = debug_str_to_json(tree_model.toDebugString)\n",
        "\n",
        "print(json.dumps(dict_tree_json,indent = 1 ))\n",
        "\n",
        "\n",
        "\n",
        "\n",
        "\n",
        "\n"
      ],
      "metadata": {
        "id": "WlhSsJXIEdC2",
        "colab": {
          "base_uri": "https://localhost:8080/"
        },
        "outputId": "d6294865-77d6-4d23-f3a9-c47c679c4859"
      },
      "execution_count": null,
      "outputs": [
        {
          "output_type": "stream",
          "name": "stdout",
          "text": [
            "{\n",
            " \"name\": \"Root\",\n",
            " \"children\": [\n",
            "  {\n",
            "   \"name\": \"feature 0 <= 8.165\",\n",
            "   \"children\": [\n",
            "    {\n",
            "     \"name\": \"feature 0 <= 4.165\",\n",
            "     \"children\": [\n",
            "      {\n",
            "       \"name\": \"feature 0 <= 2.165\",\n",
            "       \"children\": [\n",
            "        {\n",
            "         \"name\": \"feature 0 <= 1.625\",\n",
            "         \"children\": [\n",
            "          {\n",
            "           \"name\": \"Predict: 1.0\"\n",
            "          }\n",
            "         ]\n",
            "        },\n",
            "        {\n",
            "         \"name\": \"feature 0 > 1.625\",\n",
            "         \"children\": [\n",
            "          {\n",
            "           \"name\": \"feature 2 in {0.0,3.0}\",\n",
            "           \"children\": [\n",
            "            {\n",
            "             \"name\": \"Predict: 0.0\"\n",
            "            }\n",
            "           ]\n",
            "          },\n",
            "          {\n",
            "           \"name\": \"feature 2 not in {0.0,3.0}\",\n",
            "           \"children\": [\n",
            "            {\n",
            "             \"name\": \"Predict: 1.0\"\n",
            "            }\n",
            "           ]\n",
            "          }\n",
            "         ]\n",
            "        }\n",
            "       ]\n",
            "      },\n",
            "      {\n",
            "       \"name\": \"feature 0 > 2.165\",\n",
            "       \"children\": [\n",
            "        {\n",
            "         \"name\": \"feature 2 in {0.0}\",\n",
            "         \"children\": [\n",
            "          {\n",
            "           \"name\": \"Predict: 0.0\"\n",
            "          }\n",
            "         ]\n",
            "        },\n",
            "        {\n",
            "         \"name\": \"feature 2 not in {0.0}\",\n",
            "         \"children\": [\n",
            "          {\n",
            "           \"name\": \"Predict: 1.0\"\n",
            "          }\n",
            "         ]\n",
            "        }\n",
            "       ]\n",
            "      }\n",
            "     ]\n",
            "    },\n",
            "    {\n",
            "     \"name\": \"feature 0 > 4.165\",\n",
            "     \"children\": [\n",
            "      {\n",
            "       \"name\": \"feature 2 in {0.0,2.0,3.0,4.0}\",\n",
            "       \"children\": [\n",
            "        {\n",
            "         \"name\": \"feature 2 in {0.0,4.0}\",\n",
            "         \"children\": [\n",
            "          {\n",
            "           \"name\": \"Predict: 1.0\"\n",
            "          }\n",
            "         ]\n",
            "        },\n",
            "        {\n",
            "         \"name\": \"feature 2 not in {0.0,4.0}\",\n",
            "         \"children\": [\n",
            "          {\n",
            "           \"name\": \"Predict: 0.0\"\n",
            "          }\n",
            "         ]\n",
            "        }\n",
            "       ]\n",
            "      },\n",
            "      {\n",
            "       \"name\": \"feature 2 not in {0.0,2.0,3.0,4.0}\",\n",
            "       \"children\": [\n",
            "        {\n",
            "         \"name\": \"Predict: 1.0\"\n",
            "        }\n",
            "       ]\n",
            "      }\n",
            "     ]\n",
            "    }\n",
            "   ]\n",
            "  },\n",
            "  {\n",
            "   \"name\": \"feature 0 > 8.165\",\n",
            "   \"children\": [\n",
            "    {\n",
            "     \"name\": \"Predict: 1.0\"\n",
            "    }\n",
            "   ]\n",
            "  }\n",
            " ]\n",
            "}\n"
          ]
        }
      ]
    },
    {
      "cell_type": "code",
      "source": [
        "f_type_to_flist_dict = prediction.schema['features'].metadata[\"ml_attr\"][\"attrs\"]\n",
        "\n",
        "f_index_to_name_dict = {}\n",
        "\n",
        "for f_type, f_list in f_type_to_flist_dict.items():\n",
        "\n",
        "\n",
        "    for f in f_list: \n",
        "      f_index = f['idx']\n",
        "      f_name = f['name']\n",
        "      f_index_to_name_dict[f_index] = f_name\n",
        "\n",
        "\n",
        "print(f_index_to_name_dict)\n",
        "\n"
      ],
      "metadata": {
        "colab": {
          "base_uri": "https://localhost:8080/"
        },
        "id": "S29ImvIUygyZ",
        "outputId": "6dc13c97-2922-486b-f432-e48cbe50e473"
      },
      "execution_count": null,
      "outputs": [
        {
          "output_type": "stream",
          "name": "stdout",
          "text": [
            "{0: 'avg_price_total', 1: 'teamLevel', 2: 'platformType_indexed'}\n"
          ]
        }
      ]
    },
    {
      "cell_type": "code",
      "source": [
        "from matplotlib import pyplot as plt\n",
        "from sklearn import datasets\n",
        "from sklearn.tree import DecisionTreeClassifier \n",
        "from sklearn import tree as tree_\n",
        "import pydotplus\n",
        "\n",
        "\n",
        "featuresUsed = [\"avg_price_total\",\n",
        " 'teamLevel',\n",
        "\"count_gameclicks_total\",\n",
        "\"count_hits_total\",\n",
        "\"platformType_indexed\"\n",
        " ]\n",
        "\n",
        "dot_data= tree_.export_graphviz(featuresUsed, out_file=None) \n",
        "graph = pydotplus.graph_from_dot_data(dot_data) \n",
        "graph.write_pdf(\"mines.pdf\") \n",
        "\n",
        "# text_representation = tree_.export_text(tree)\n",
        "\n",
        "# fig = plt.figure(figsize=(25,20))\n",
        "# tree_.plot_tree(tree, \n",
        "#                    feature_names=featureUsed,  \n",
        "#                    class_names=[\"hitter\",\"non-hitter\"],\n",
        "#                    filled=True)\n"
      ],
      "metadata": {
        "id": "FfQ5-RR54_dJ",
        "colab": {
          "base_uri": "https://localhost:8080/",
          "height": 380
        },
        "outputId": "0e74b775-00f7-41ac-f0f3-1cef097046c8"
      },
      "execution_count": null,
      "outputs": [
        {
          "output_type": "error",
          "ename": "TypeError",
          "evalue": "ignored",
          "traceback": [
            "\u001b[0;31m---------------------------------------------------------------------------\u001b[0m",
            "\u001b[0;31mTypeError\u001b[0m                                 Traceback (most recent call last)",
            "\u001b[0;32m<ipython-input-120-bcbc43beed41>\u001b[0m in \u001b[0;36m<cell line: 15>\u001b[0;34m()\u001b[0m\n\u001b[1;32m     13\u001b[0m  ]\n\u001b[1;32m     14\u001b[0m \u001b[0;34m\u001b[0m\u001b[0m\n\u001b[0;32m---> 15\u001b[0;31m \u001b[0mdot_data\u001b[0m\u001b[0;34m=\u001b[0m \u001b[0mtree_\u001b[0m\u001b[0;34m.\u001b[0m\u001b[0mexport_graphviz\u001b[0m\u001b[0;34m(\u001b[0m\u001b[0mfeaturesUsed\u001b[0m\u001b[0;34m,\u001b[0m \u001b[0mout_file\u001b[0m\u001b[0;34m=\u001b[0m\u001b[0;32mNone\u001b[0m\u001b[0;34m)\u001b[0m\u001b[0;34m\u001b[0m\u001b[0;34m\u001b[0m\u001b[0m\n\u001b[0m\u001b[1;32m     16\u001b[0m \u001b[0mgraph\u001b[0m \u001b[0;34m=\u001b[0m \u001b[0mpydotplus\u001b[0m\u001b[0;34m.\u001b[0m\u001b[0mgraph_from_dot_data\u001b[0m\u001b[0;34m(\u001b[0m\u001b[0mdot_data\u001b[0m\u001b[0;34m)\u001b[0m\u001b[0;34m\u001b[0m\u001b[0;34m\u001b[0m\u001b[0m\n\u001b[1;32m     17\u001b[0m \u001b[0mgraph\u001b[0m\u001b[0;34m.\u001b[0m\u001b[0mwrite_pdf\u001b[0m\u001b[0;34m(\u001b[0m\u001b[0;34m\"mines.pdf\"\u001b[0m\u001b[0;34m)\u001b[0m\u001b[0;34m\u001b[0m\u001b[0;34m\u001b[0m\u001b[0m\n",
            "\u001b[0;32m/usr/local/lib/python3.10/dist-packages/sklearn/tree/_export.py\u001b[0m in \u001b[0;36mexport_graphviz\u001b[0;34m(decision_tree, out_file, max_depth, feature_names, class_names, label, filled, leaves_parallel, impurity, node_ids, proportion, rotate, rounded, special_characters, precision, fontname)\u001b[0m\n\u001b[1;32m    857\u001b[0m     \"\"\"\n\u001b[1;32m    858\u001b[0m \u001b[0;34m\u001b[0m\u001b[0m\n\u001b[0;32m--> 859\u001b[0;31m     \u001b[0mcheck_is_fitted\u001b[0m\u001b[0;34m(\u001b[0m\u001b[0mdecision_tree\u001b[0m\u001b[0;34m)\u001b[0m\u001b[0;34m\u001b[0m\u001b[0;34m\u001b[0m\u001b[0m\n\u001b[0m\u001b[1;32m    860\u001b[0m     \u001b[0mown_file\u001b[0m \u001b[0;34m=\u001b[0m \u001b[0;32mFalse\u001b[0m\u001b[0;34m\u001b[0m\u001b[0;34m\u001b[0m\u001b[0m\n\u001b[1;32m    861\u001b[0m     \u001b[0mreturn_string\u001b[0m \u001b[0;34m=\u001b[0m \u001b[0;32mFalse\u001b[0m\u001b[0;34m\u001b[0m\u001b[0;34m\u001b[0m\u001b[0m\n",
            "\u001b[0;32m/usr/local/lib/python3.10/dist-packages/sklearn/utils/validation.py\u001b[0m in \u001b[0;36mcheck_is_fitted\u001b[0;34m(estimator, attributes, msg, all_or_any)\u001b[0m\n\u001b[1;32m   1374\u001b[0m \u001b[0;34m\u001b[0m\u001b[0m\n\u001b[1;32m   1375\u001b[0m     \u001b[0;32mif\u001b[0m \u001b[0;32mnot\u001b[0m \u001b[0mhasattr\u001b[0m\u001b[0;34m(\u001b[0m\u001b[0mestimator\u001b[0m\u001b[0;34m,\u001b[0m \u001b[0;34m\"fit\"\u001b[0m\u001b[0;34m)\u001b[0m\u001b[0;34m:\u001b[0m\u001b[0;34m\u001b[0m\u001b[0;34m\u001b[0m\u001b[0m\n\u001b[0;32m-> 1376\u001b[0;31m         \u001b[0;32mraise\u001b[0m \u001b[0mTypeError\u001b[0m\u001b[0;34m(\u001b[0m\u001b[0;34m\"%s is not an estimator instance.\"\u001b[0m \u001b[0;34m%\u001b[0m \u001b[0;34m(\u001b[0m\u001b[0mestimator\u001b[0m\u001b[0;34m)\u001b[0m\u001b[0;34m)\u001b[0m\u001b[0;34m\u001b[0m\u001b[0;34m\u001b[0m\u001b[0m\n\u001b[0m\u001b[1;32m   1377\u001b[0m \u001b[0;34m\u001b[0m\u001b[0m\n\u001b[1;32m   1378\u001b[0m     \u001b[0;32mif\u001b[0m \u001b[0mattributes\u001b[0m \u001b[0;32mis\u001b[0m \u001b[0;32mnot\u001b[0m \u001b[0;32mNone\u001b[0m\u001b[0;34m:\u001b[0m\u001b[0;34m\u001b[0m\u001b[0;34m\u001b[0m\u001b[0m\n",
            "\u001b[0;31mTypeError\u001b[0m: ['avg_price_total', 'teamLevel', 'count_gameclicks_total', 'count_hits_total', 'platformType_indexed'] is not an estimator instance."
          ]
        }
      ]
    },
    {
      "cell_type": "code",
      "source": [
        "# Create a confusion matrix\n",
        "prediction.groupBy('hitter', 'prediction').count().show()\n",
        "\n",
        "# Calculate the elements of the confusion matrix\n",
        "TN = prediction.filter('prediction = 0 AND hitter = prediction').count()\n",
        "TP = prediction.filter('prediction = 1 AND hitter = prediction').count()\n",
        "FN = prediction.filter('prediction = 0 AND hitter = 1').count()\n",
        "FP = prediction.filter('prediction = 1 AND hitter= 0').count()\n",
        "\n",
        "# Accuracy measures the proportion of correct predictions\n",
        "accuracy = (TN + TP) / (TN + TP + FN + FP)\n",
        "print(accuracy)"
      ],
      "metadata": {
        "id": "vmZGZ_NeCRHG",
        "colab": {
          "base_uri": "https://localhost:8080/"
        },
        "outputId": "08a36161-a14c-4d9b-a73b-9d27c7b5e340"
      },
      "execution_count": null,
      "outputs": [
        {
          "output_type": "stream",
          "name": "stdout",
          "text": [
            "+------+----------+-----+\n",
            "|hitter|prediction|count|\n",
            "+------+----------+-----+\n",
            "|     0|       1.0|  193|\n",
            "|     1|       1.0|  706|\n",
            "|     1|       0.0|   19|\n",
            "|     0|       0.0|   16|\n",
            "+------+----------+-----+\n",
            "\n",
            "0.7730192719486081\n"
          ]
        }
      ]
    },
    {
      "cell_type": "code",
      "source": [
        "############## LOGISTIC REGRESSION FOR HITTER"
      ],
      "metadata": {
        "id": "bwYdbJzp9jWu"
      },
      "execution_count": null,
      "outputs": []
    },
    {
      "cell_type": "code",
      "source": [
        "\n",
        "from pyspark.ml.classification import LogisticRegression\n",
        "from pyspark.ml.feature import VectorAssembler\n",
        "\n",
        "# Create an assembler object\n",
        "featuresUsed = [\"avg_price_total\",\n",
        " 'teamLevel',\n",
        "\"spender\",\n",
        "\"platformType_indexed\"\n",
        " ]\n",
        "\n",
        "\n",
        "\n",
        "assembler = VectorAssembler(inputCols=featuresUsed,  outputCol='features')\n",
        "assembled = assembler.transform(combined_grouped_indexed)\n",
        "\n",
        "\n",
        "# assembled  = assembled.select(featuresUsed)\n",
        "# Split into training and test sets in a 80:20 ratio\n",
        "combined_grouped_data_train, combined_grouped_data_test = assembled.randomSplit([0.8, 0.2], seed=17)\n",
        "\n",
        "\n",
        "\n",
        "# Create classifier object and train on training data\n",
        "logistic = LogisticRegression(labelCol='hitter').fit(combined_grouped_data_train)\n",
        "\n",
        "# Create a predictions for the test data and show confusion matrix\n",
        "prediction = logistic.transform(combined_grouped_data_test)\n",
        "prediction.groupBy(\"hitter\", \"prediction\").count().show()\n",
        "\n"
      ],
      "metadata": {
        "id": "jfZ2baLXJKyH",
        "colab": {
          "base_uri": "https://localhost:8080/"
        },
        "outputId": "fd355665-bd09-4e2d-8bec-83b796f96243"
      },
      "execution_count": 59,
      "outputs": [
        {
          "output_type": "stream",
          "name": "stdout",
          "text": [
            "+------+----------+-----+\n",
            "|hitter|prediction|count|\n",
            "+------+----------+-----+\n",
            "|     0|       1.0|  209|\n",
            "|     1|       1.0|  725|\n",
            "+------+----------+-----+\n",
            "\n"
          ]
        }
      ]
    },
    {
      "cell_type": "code",
      "source": [
        "#  Calculate the elements of the confusion matrix FOR HITTER\n",
        "TN = prediction.filter('prediction = 0 AND hitter = prediction').count()\n",
        "TP = prediction.filter('prediction = 1 AND hitter = prediction').count()\n",
        "FN = prediction.filter('prediction = 0 AND hitter = 1').count()\n",
        "FP = prediction.filter('prediction = 1 AND hitter = 0').count()\n",
        "\n",
        "\n",
        "\n",
        "\n",
        "\n",
        "# Accuracy measures the proportion of correct predictions FOR SPENDER\n",
        "accuracy = (TN + TP) / (TN + TP + FN + FP)\n",
        "print(accuracy)\n"
      ],
      "metadata": {
        "id": "SNtJXT8593o3",
        "colab": {
          "base_uri": "https://localhost:8080/"
        },
        "outputId": "3ecb12c6-29d0-445c-d1de-691d8395095c"
      },
      "execution_count": 60,
      "outputs": [
        {
          "output_type": "stream",
          "name": "stdout",
          "text": [
            "0.7762312633832976\n"
          ]
        }
      ]
    },
    {
      "cell_type": "code",
      "source": [
        "\n",
        "from pyspark.ml.evaluation import MulticlassClassificationEvaluator, BinaryClassificationEvaluator\n",
        "\n",
        "# Calculate precision and recall\n",
        "precision = TP / (TP + FP)\n",
        "recall = TP / (TP + FN)\n",
        "print('precision = {:.2f}\\nrecall   = {:.2f}'.format(precision, recall))\n",
        "\n",
        "# Find weighted precision\n",
        "multi_evaluator = MulticlassClassificationEvaluator().setLabelCol(\"hitter\")\n",
        "weighted_precision = multi_evaluator.evaluate(prediction, {multi_evaluator.metricName: \"weightedPrecision\"})\n",
        "\n",
        "# Find AUC\n",
        "binary_evaluator = BinaryClassificationEvaluator().setLabelCol(\"hitter\")\n",
        "auc = binary_evaluator.evaluate(prediction, {binary_evaluator.metricName: \"areaUnderROC\"})\n",
        "\n",
        "print(auc)\n",
        "print(weighted_precision)\n"
      ],
      "metadata": {
        "id": "HyfhR6YO9_8C",
        "colab": {
          "base_uri": "https://localhost:8080/"
        },
        "outputId": "d108d78e-f5bd-4c16-fb79-146e2421da42"
      },
      "execution_count": 61,
      "outputs": [
        {
          "output_type": "stream",
          "name": "stdout",
          "text": [
            "precision = 0.78\n",
            "recall   = 1.00\n",
            "0.6587460815047023\n",
            "0.6025349742536303\n"
          ]
        }
      ]
    }
  ],
  "metadata": {
    "colab": {
      "provenance": []
    },
    "kernelspec": {
      "display_name": "Python 3",
      "name": "python3"
    },
    "language_info": {
      "name": "python"
    }
  },
  "nbformat": 4,
  "nbformat_minor": 0
}